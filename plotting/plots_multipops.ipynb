{
 "cells": [
  {
   "cell_type": "code",
   "execution_count": 1,
   "metadata": {},
   "outputs": [
    {
     "name": "stdout",
     "output_type": "stream",
     "text": [
      "Using matplotlib backend: MacOSX\n",
      "Populating the interactive namespace from numpy and matplotlib\n"
     ]
    }
   ],
   "source": [
    "%pylab\n",
    "%matplotlib inline\n",
    "rc('text', usetex = False)\n",
    "import pandas as pd\n",
    "import cosmoslik as cs\n",
    "from cosmoslik_plugins.samplers.metropolis_hastings import load_chain\n",
    "from scipy.stats import norm, chi2\n",
    "import pickle"
   ]
  },
  {
   "cell_type": "code",
   "execution_count": 2,
   "metadata": {
    "collapsed": true
   },
   "outputs": [],
   "source": [
    "def like1d(data, weights, bins = 100):\n",
    "    \n",
    "    H, xe = histogram(data,bins,weights=weights,normed=False)\n",
    "    xem = movavg(xe,2)\n",
    "    fitdata = [[d]*w for d,w in zip(data, weights)]\n",
    "    fitdata = [item for sublist in fitdata for item in sublist]\n",
    "    mu, sigma = norm.fit(fitdata)\n",
    "    maxval = max(norm.pdf(linspace(min(data), max(data), 10000), scale = sigma, loc = mu))\n",
    "    return H, xem, mu, sigma, maxval"
   ]
  },
  {
   "cell_type": "code",
   "execution_count": 3,
   "metadata": {
    "collapsed": true
   },
   "outputs": [],
   "source": [
    "def likelihood(data, weights, bins = 100):\n",
    "    \n",
    "    H, xe = histogram(data,bins,weights=weights,normed=False)\n",
    "    xem = movavg(xe,2)\n",
    "    fitdata = [[d]*w for d,w in zip(data, weights)]\n",
    "    fitdata = [item for sublist in fitdata for item in sublist]\n",
    "    df, mu, sigma = chi2.fit(fitdata)\n",
    "    maxval = max(chi2.pdf(df, linspace(min(data), max(data), 10000), scale = sigma, loc = mu))\n",
    "    return H,  df, xem, mu, sigma, maxval"
   ]
  },
  {
   "cell_type": "code",
   "execution_count": 4,
   "metadata": {
    "collapsed": true
   },
   "outputs": [],
   "source": [
    "def get_data():\n",
    "    '''\n",
    "    Grabs the cepheids and sne from the R16 sample\n",
    "    returns: \n",
    "        cepheids: Cepheid dataframe\n",
    "        sne: sne dataframe\n",
    "    '''\n",
    "    filename = '../data/r16_table4.out'\n",
    "    sne_start = 40\n",
    "    sne_end = 59\n",
    "    sne_lines = arange(sne_start,sne_end)\n",
    "    sne = pd.DataFrame(columns = ['Host', 'sne', 'm^B_0', 'err'], index = arange(sne_end - sne_start))\n",
    "    ceph_start = 70\n",
    "    ceph_end = 2346\n",
    "    cepheid_lines = arange(ceph_start,ceph_end)\n",
    "    cepheids = pd.DataFrame(columns = ['Field','RA','DEC','ID','Period','VminusI','m_H','sigma_tot','Z'], \n",
    "                            index = arange(ceph_end - ceph_start),\n",
    "                           dtype = 'float')\n",
    "    f = file(filename)\n",
    "    for i, line in enumerate(f):\n",
    "        if i in sne_lines:\n",
    "            sne.loc[i-sne_start] = line.lower().split()\n",
    "        if i in cepheid_lines:\n",
    "            cepheids.loc[i-ceph_start] = line.lower().split()\n",
    "\n",
    "    f.close()\n",
    "    cepheids = cepheids.apply(lambda x: pd.to_numeric(x, errors='ignore') );\n",
    "\n",
    "    sne = sne.apply(lambda x: pd.to_numeric(x, errors='ignore') );\n",
    "\n",
    "\n",
    "    parallaxes = {'bgcru': (2.23, 0.30,-0.15), \n",
    "                  'dtcyg':(2.19,0.33, -0.18), \n",
    "                  'ffaql':(2.64,0.16, -0.03),\n",
    "                  'rtaur':(2.31, 0.19,-0.06),\n",
    "                  'sscma':(0.348, 0.038, -0.04),\n",
    "                  'sucas':(2.57,  0.33, -0.13 ),\n",
    "                  'syaur':(0.428, 0.054, -0.04),\n",
    "                  'tvul':(2.06,0.22,-0.09 ),\n",
    "                  'wsgr':(2.30, 0.19, -0.06),\n",
    "                  'xsgr':(3.17, 0.14, -0.02),\n",
    "                  'ysgr':(2.13, 0.29, -0.15),\n",
    "                  'betador':(3.26, 0.14, -0.02),\n",
    "                  'delceph':(3.71,0.12,-0.01),\n",
    "                  'etagem':(2.74,0.12,-0.02),\n",
    "                  'lcar':(2.03,0.16,-0.05)\n",
    "                 }\n",
    "    parallaxes = pd.DataFrame.from_dict(parallaxes, orient = 'index', )\n",
    "    parallaxes.reset_index(inplace=True)\n",
    "    parallaxes.columns = ['ID', 'parallax', 'p_err', 'LK']\n",
    "    cepheids = cepheids.merge(parallaxes, on = 'ID', how = 'left')\n",
    "\n",
    "\n",
    "    cepheids.fillna({'parallax':1e-03, 'p_err':0, 'LK':0}, inplace = True);\n",
    "    cepheids['err'] = sqrt(cepheids.sigma_tot**2 + (cepheids.p_err / cepheids.parallax * 5/log(10))**2)\n",
    "    return cepheids, sne"
   ]
  },
  {
   "cell_type": "code",
   "execution_count": 5,
   "metadata": {
    "collapsed": true
   },
   "outputs": [],
   "source": [
    "cepheids, sne = get_data()"
   ]
  },
  {
   "cell_type": "code",
   "execution_count": 24,
   "metadata": {},
   "outputs": [
    {
     "data": {
      "text/plain": [
       "(array([ 0.,  0.,  0.,  0.,  0.,  0.,  0.,  0.,  1.,  0.,  1.,  1.,  2.,\n",
       "         1.,  2.,  0.,  1.,  1.,  0.,  3.,  0.,  1.,  0.,  0.,  0.,  0.,\n",
       "         0.,  0.,  0.,  0.,  1.,  0.,  0.,  0.,  0.,  0.,  0.,  0.,  0.]),\n",
       " array([ 0.        ,  0.05128205,  0.1025641 ,  0.15384615,  0.20512821,\n",
       "         0.25641026,  0.30769231,  0.35897436,  0.41025641,  0.46153846,\n",
       "         0.51282051,  0.56410256,  0.61538462,  0.66666667,  0.71794872,\n",
       "         0.76923077,  0.82051282,  0.87179487,  0.92307692,  0.97435897,\n",
       "         1.02564103,  1.07692308,  1.12820513,  1.17948718,  1.23076923,\n",
       "         1.28205128,  1.33333333,  1.38461538,  1.43589744,  1.48717949,\n",
       "         1.53846154,  1.58974359,  1.64102564,  1.69230769,  1.74358974,\n",
       "         1.79487179,  1.84615385,  1.8974359 ,  1.94871795,  2.        ]),\n",
       " <a list of 39 Patch objects>)"
      ]
     },
     "execution_count": 24,
     "metadata": {},
     "output_type": "execute_result"
    },
    {
     "data": {
      "image/png": "[encoded data removed]",
      "text/plain": [
       "<matplotlib.figure.Figure at 0x1139efe10>"
      ]
     },
     "metadata": {},
     "output_type": "display_data"
    }
   ],
   "source": [
    "cepheids['logP'] = cepheids.Period.apply(log10)\n",
    "ax = subplot(111)\n",
    "hist(cepheids.loc[cepheids.Field == 'lmc', 'logP'], color = 'g',bins = linspace(0,2,40))\n",
    "hist(cepheids.loc[cepheids.Field == 'n4258', 'logP'], color = 'b',bins = linspace(0,2,40), alpha = 0.5)\n",
    "hist(cepheids.loc[cepheids.Field == 'galaxy', 'logP'], color = 'r',bins = linspace(0,2,40), alpha = 0.5)\n",
    "\n",
    "#cepheids.groupby('Field').count()"
   ]
  },
  {
   "cell_type": "code",
   "execution_count": 6,
   "metadata": {
    "collapsed": true
   },
   "outputs": [],
   "source": [
    "burnins = 5000"
   ]
  },
  {
   "cell_type": "code",
   "execution_count": 8,
   "metadata": {
    "collapsed": true
   },
   "outputs": [],
   "source": [
    "# no_int_color = load_chain('varyR_nocolor_correction.chain').burnin(burnins).join()\n",
    "# chain = no_int_color.copy().thin(18)\n",
    "# chain.savechain('varyR_no_correction_thinned.chain')"
   ]
  },
  {
   "cell_type": "code",
   "execution_count": 5,
   "metadata": {},
   "outputs": [
    {
     "ename": "IOError",
     "evalue": "[Errno 2] No such file or directory: 'base_pop2.chain'",
     "output_type": "error",
     "traceback": [
      "\u001b[0;31m---------------------------------------------------------------------------\u001b[0m",
      "\u001b[0;31mIOError\u001b[0m                                   Traceback (most recent call last)",
      "\u001b[0;32m<ipython-input-5-f1cf4880e2e0>\u001b[0m in \u001b[0;36m<module>\u001b[0;34m()\u001b[0m\n\u001b[1;32m      1\u001b[0m \u001b[0;31m#temp = load_chain('base_pop1.chain').burnin(3000).join()\u001b[0m\u001b[0;34m\u001b[0m\u001b[0;34m\u001b[0m\u001b[0m\n\u001b[1;32m      2\u001b[0m \u001b[0;31m#temp.like1d('H0')\u001b[0m\u001b[0;34m\u001b[0m\u001b[0;34m\u001b[0m\u001b[0m\n\u001b[0;32m----> 3\u001b[0;31m \u001b[0mtemp\u001b[0m \u001b[0;34m=\u001b[0m \u001b[0mload_chain\u001b[0m\u001b[0;34m(\u001b[0m\u001b[0;34m'base_pop2.chain'\u001b[0m\u001b[0;34m)\u001b[0m\u001b[0;34m.\u001b[0m\u001b[0mburnin\u001b[0m\u001b[0;34m(\u001b[0m\u001b[0;36m3000\u001b[0m\u001b[0;34m)\u001b[0m\u001b[0;34m.\u001b[0m\u001b[0mjoin\u001b[0m\u001b[0;34m(\u001b[0m\u001b[0;34m)\u001b[0m\u001b[0;34m\u001b[0m\u001b[0m\n\u001b[0m\u001b[1;32m      4\u001b[0m \u001b[0mtemp\u001b[0m\u001b[0;34m.\u001b[0m\u001b[0mlike1d\u001b[0m\u001b[0;34m(\u001b[0m\u001b[0;34m'H0'\u001b[0m\u001b[0;34m,\u001b[0m \u001b[0mc\u001b[0m \u001b[0;34m=\u001b[0m \u001b[0mcmap\u001b[0m\u001b[0;34m(\u001b[0m\u001b[0;36m1\u001b[0m\u001b[0;34m)\u001b[0m\u001b[0;34m,\u001b[0m \u001b[0mlw\u001b[0m \u001b[0;34m=\u001b[0m \u001b[0;36m4\u001b[0m\u001b[0;34m)\u001b[0m\u001b[0;34m\u001b[0m\u001b[0m\n\u001b[1;32m      5\u001b[0m \u001b[0mtemp\u001b[0m \u001b[0;34m=\u001b[0m \u001b[0mload_chain\u001b[0m\u001b[0;34m(\u001b[0m\u001b[0;34m'base_pop3.chain'\u001b[0m\u001b[0;34m)\u001b[0m\u001b[0;34m.\u001b[0m\u001b[0mburnin\u001b[0m\u001b[0;34m(\u001b[0m\u001b[0;36m3000\u001b[0m\u001b[0;34m)\u001b[0m\u001b[0;34m.\u001b[0m\u001b[0mjoin\u001b[0m\u001b[0;34m(\u001b[0m\u001b[0;34m)\u001b[0m\u001b[0;34m\u001b[0m\u001b[0m\n",
      "\u001b[0;32m/usr/local/lib/python2.7/site-packages/cosmoslik_plugins/samplers/metropolis_hastings.pyc\u001b[0m in \u001b[0;36mload_chain\u001b[0;34m(filename)\u001b[0m\n\u001b[1;32m     25\u001b[0m     \u001b[0mLoad\u001b[0m \u001b[0ma\u001b[0m \u001b[0mchain\u001b[0m \u001b[0mproduced\u001b[0m \u001b[0mby\u001b[0m \u001b[0mthe\u001b[0m \u001b[0mCosmoSlik\u001b[0m \u001b[0mmetropolis_hastings\u001b[0m \u001b[0msampler\u001b[0m\u001b[0;34m.\u001b[0m\u001b[0;34m\u001b[0m\u001b[0m\n\u001b[1;32m     26\u001b[0m     \"\"\"\n\u001b[0;32m---> 27\u001b[0;31m     \u001b[0mc\u001b[0m \u001b[0;34m=\u001b[0m \u001b[0mcPickle\u001b[0m\u001b[0;34m.\u001b[0m\u001b[0mload\u001b[0m\u001b[0;34m(\u001b[0m\u001b[0mopen\u001b[0m\u001b[0;34m(\u001b[0m\u001b[0mfilename\u001b[0m\u001b[0;34m,\u001b[0m\u001b[0;34m'rb'\u001b[0m\u001b[0;34m)\u001b[0m\u001b[0;34m)\u001b[0m\u001b[0;34m\u001b[0m\u001b[0m\n\u001b[0m\u001b[1;32m     28\u001b[0m     \u001b[0;32mif\u001b[0m \u001b[0misinstance\u001b[0m\u001b[0;34m(\u001b[0m\u001b[0mc\u001b[0m\u001b[0;34m,\u001b[0m\u001b[0;34m(\u001b[0m\u001b[0mChain\u001b[0m\u001b[0;34m,\u001b[0m\u001b[0mChains\u001b[0m\u001b[0;34m)\u001b[0m\u001b[0;34m)\u001b[0m\u001b[0;34m:\u001b[0m \u001b[0;32mreturn\u001b[0m \u001b[0mc\u001b[0m\u001b[0;34m\u001b[0m\u001b[0m\n\u001b[1;32m     29\u001b[0m     \u001b[0;32melif\u001b[0m \u001b[0misinstance\u001b[0m\u001b[0;34m(\u001b[0m\u001b[0mc\u001b[0m\u001b[0;34m,\u001b[0m\u001b[0mtuple\u001b[0m\u001b[0;34m)\u001b[0m\u001b[0;34m:\u001b[0m \u001b[0;32mreturn\u001b[0m \u001b[0m_load_chain_old\u001b[0m\u001b[0;34m(\u001b[0m\u001b[0mfilename\u001b[0m\u001b[0;34m)\u001b[0m\u001b[0;34m\u001b[0m\u001b[0m\n",
      "\u001b[0;31mIOError\u001b[0m: [Errno 2] No such file or directory: 'base_pop2.chain'"
     ]
    }
   ],
   "source": [
    "#temp = load_chain('base_pop1.chain').burnin(3000).join()\n",
    "#temp.like1d('H0')\n",
    "temp = load_chain('base_pop2.chain').burnin(3000).join()\n",
    "temp.like1d('H0', c = cmap(1), lw = 4)\n",
    "temp = load_chain('base_pop3.chain').burnin(3000).join()\n",
    "temp.like1d('H0', c = cmap(2), lw = 4)\n",
    "#temp = load_chain('base_pop4.chain').burnin(3000).join()\n",
    "#temp.like1d('H0', c = cmap(3))\n",
    "temp = load_chain('base_pop5.chain').burnin(3000).join()\n",
    "temp.like1d('H0', c = cmap(4), lw = 4)\n",
    "temp = load_chain('base_pop6.chain').burnin(3000).join()\n",
    "temp.like1d('H0', c = cmap(5), lw = 4)\n",
    "multi_pop.like1d('H0', c = 'k', lw = 4)\n",
    "#xlim(0, 200)\n",
    "figure()\n",
    "#temp.plot('lnl')\n",
    "scatter(log10(cepheids.Period), cepheids.VminusI, s= 3, lw = 0, cmap = cmap, c = cepheids.Class)\n",
    "colorbar(ticks = arange(n_classes))\n",
    "xlabel(r'$\\log P$', fontsize = 18)\n",
    "ylabel(r'$V-I$', fontsize = 18);"
   ]
  },
  {
   "cell_type": "code",
   "execution_count": 10,
   "metadata": {},
   "outputs": [
    {
     "ename": "IOError",
     "evalue": "[Errno 2] No such file or directory: 'base.chain'",
     "output_type": "error",
     "traceback": [
      "\u001b[0;31m---------------------------------------------------------------------------\u001b[0m",
      "\u001b[0;31mIOError\u001b[0m                                   Traceback (most recent call last)",
      "\u001b[0;32m<ipython-input-10-ee52ec43d850>\u001b[0m in \u001b[0;36m<module>\u001b[0;34m()\u001b[0m\n\u001b[0;32m----> 1\u001b[0;31m \u001b[0mbase\u001b[0m \u001b[0;34m=\u001b[0m \u001b[0mload_chain\u001b[0m\u001b[0;34m(\u001b[0m\u001b[0;34m'base.chain'\u001b[0m\u001b[0;34m)\u001b[0m\u001b[0;34m.\u001b[0m\u001b[0mburnin\u001b[0m\u001b[0;34m(\u001b[0m\u001b[0mburnins\u001b[0m\u001b[0;34m)\u001b[0m\u001b[0;34m.\u001b[0m\u001b[0mjoin\u001b[0m\u001b[0;34m(\u001b[0m\u001b[0;34m)\u001b[0m\u001b[0;34m\u001b[0m\u001b[0m\n\u001b[0m",
      "\u001b[0;32m/usr/local/lib/python2.7/site-packages/cosmoslik_plugins/samplers/metropolis_hastings.pyc\u001b[0m in \u001b[0;36mload_chain\u001b[0;34m(filename)\u001b[0m\n\u001b[1;32m     25\u001b[0m     \u001b[0mLoad\u001b[0m \u001b[0ma\u001b[0m \u001b[0mchain\u001b[0m \u001b[0mproduced\u001b[0m \u001b[0mby\u001b[0m \u001b[0mthe\u001b[0m \u001b[0mCosmoSlik\u001b[0m \u001b[0mmetropolis_hastings\u001b[0m \u001b[0msampler\u001b[0m\u001b[0;34m.\u001b[0m\u001b[0;34m\u001b[0m\u001b[0m\n\u001b[1;32m     26\u001b[0m     \"\"\"\n\u001b[0;32m---> 27\u001b[0;31m     \u001b[0mc\u001b[0m \u001b[0;34m=\u001b[0m \u001b[0mcPickle\u001b[0m\u001b[0;34m.\u001b[0m\u001b[0mload\u001b[0m\u001b[0;34m(\u001b[0m\u001b[0mopen\u001b[0m\u001b[0;34m(\u001b[0m\u001b[0mfilename\u001b[0m\u001b[0;34m,\u001b[0m\u001b[0;34m'rb'\u001b[0m\u001b[0;34m)\u001b[0m\u001b[0;34m)\u001b[0m\u001b[0;34m\u001b[0m\u001b[0m\n\u001b[0m\u001b[1;32m     28\u001b[0m     \u001b[0;32mif\u001b[0m \u001b[0misinstance\u001b[0m\u001b[0;34m(\u001b[0m\u001b[0mc\u001b[0m\u001b[0;34m,\u001b[0m\u001b[0;34m(\u001b[0m\u001b[0mChain\u001b[0m\u001b[0;34m,\u001b[0m\u001b[0mChains\u001b[0m\u001b[0;34m)\u001b[0m\u001b[0;34m)\u001b[0m\u001b[0;34m:\u001b[0m \u001b[0;32mreturn\u001b[0m \u001b[0mc\u001b[0m\u001b[0;34m\u001b[0m\u001b[0m\n\u001b[1;32m     29\u001b[0m     \u001b[0;32melif\u001b[0m \u001b[0misinstance\u001b[0m\u001b[0;34m(\u001b[0m\u001b[0mc\u001b[0m\u001b[0;34m,\u001b[0m\u001b[0mtuple\u001b[0m\u001b[0;34m)\u001b[0m\u001b[0;34m:\u001b[0m \u001b[0;32mreturn\u001b[0m \u001b[0m_load_chain_old\u001b[0m\u001b[0;34m(\u001b[0m\u001b[0mfilename\u001b[0m\u001b[0;34m)\u001b[0m\u001b[0;34m\u001b[0m\u001b[0m\n",
      "\u001b[0;31mIOError\u001b[0m: [Errno 2] No such file or directory: 'base.chain'"
     ]
    }
   ],
   "source": [
    "base = load_chain('../data/base.chain').burnin(burnins).join()"
   ]
  },
  {
   "cell_type": "code",
   "execution_count": null,
   "metadata": {
    "collapsed": true
   },
   "outputs": [],
   "source": [
    "multi_pop = load_chain('base_multi_pop.chain').burnin(burnins).join()\n"
   ]
  },
  {
   "cell_type": "code",
   "execution_count": null,
   "metadata": {
    "collapsed": true
   },
   "outputs": [],
   "source": [
    "varyR = load_chain('varyR.chain').burnin(burnins).join()"
   ]
  },
  {
   "cell_type": "code",
   "execution_count": null,
   "metadata": {
    "collapsed": true
   },
   "outputs": [],
   "source": [
    "widez = load_chain('base_widedz.chain').burnin(burnins).join()"
   ]
  },
  {
   "cell_type": "code",
   "execution_count": null,
   "metadata": {
    "collapsed": true
   },
   "outputs": [],
   "source": [
    "both = load_chain('varyR_manypops.chain').burnin(burnins).join()\n",
    "\n"
   ]
  },
  {
   "cell_type": "code",
   "execution_count": null,
   "metadata": {
    "collapsed": true
   },
   "outputs": [],
   "source": [
    "no_int_color.like2d('lnl', 'H0')\n",
    "no_int_color.plot('lnl')\n",
    "no_int_color.best_fit()['lnl']\n",
    "#figure()\n",
    "#base.like1d('lnl', nbins = 100)\n",
    "#multi_pop.like1d('lnl',nbins = 100)\n",
    "#widez.like1d('lnl', nbins = 100)\n",
    "\n"
   ]
  },
  {
   "cell_type": "code",
   "execution_count": null,
   "metadata": {
    "collapsed": true,
    "scrolled": true
   },
   "outputs": [],
   "source": [
    "both.savecov('trials.covmat')\n",
    "no_int_color.plot()\n",
    "no_int_color.savecov('varyR_no_int_color.covmat')"
   ]
  },
  {
   "cell_type": "markdown",
   "metadata": {},
   "source": [
    "# Plot of $H_0$"
   ]
  },
  {
   "cell_type": "code",
   "execution_count": null,
   "metadata": {
    "collapsed": true
   },
   "outputs": [],
   "source": [
    "num_models = 6\n",
    "cmap = cm.get_cmap('Paired', num_models)"
   ]
  },
  {
   "cell_type": "code",
   "execution_count": null,
   "metadata": {
    "collapsed": true
   },
   "outputs": [],
   "source": [
    "bins = linspace(65,85, 100)\n",
    "x = linspace(65,82, 10000)\n",
    "from scipy.stats import norm\n",
    "H0R16 = norm(scale = 1.59, loc = 73.24)\n",
    "#plot(x, H0R16.pdf(x)/max(H0R16.pdf(x)), label = r'${\\rm R16 \\, value}$', lw = 4,c = cmap(0))\n",
    "## Base case\n",
    "no_int_color.like1d('H0', label = r'${\\rm R16 \\, value}$', c = cmap(0), lw = 4)\n",
    "base.like1d('H0', label = r'${\\rm +(V-I)^0}$', lw = 4, nbins = 50,c = cmap(1))\n",
    "multi_pop.like1d('H0', label = r'$+6 {\\rm \\, pop}$', lw = 4, nbins = 50,c = cmap(2))\n",
    "\n",
    "\n",
    "# ## varyR\n",
    "varyR.like1d('H0', label = r'$R(\\theta) {\\rm \\, free}$', lw = 4, nbins = 50)\n",
    "both.like1d('H0', label = r'$R(\\theta) + {\\rm pop.\\, cut}$', lw = 4, nbins = 50,c = cmap(4))\n",
    "# ## E(V-I) cut\n",
    "\n",
    "\n",
    "## Planck\n",
    "H0planck = norm(scale = 0.62, loc = 66.93)\n",
    "plot(x, H0planck.pdf(x)/max(H0planck.pdf(x)), label = r'${\\rm Planck  \\, value}$', lw = 4,c = cmap(5))\n",
    "\n",
    "\n",
    "ylabel(r'$\\mathcal{P}(H_0)$', fontsize = 18)\n",
    "xlabel(r'$H_0$', fontsize= 18)\n",
    "xlim(64,82)\n",
    "legend(frameon = False);"
   ]
  },
  {
   "cell_type": "code",
   "execution_count": null,
   "metadata": {
    "collapsed": true
   },
   "outputs": [],
   "source": [
    "from scipy.stats import norm\n",
    "\n",
    "H_0 = []\n",
    "bins = linspace(65,85, 100)\n",
    "x = linspace(65,82, 10000)\n",
    "fig, post_fig = subplots()\n",
    "ylabel(r'$\\mathcal{P}(H_0)$', fontsize = 18)\n",
    "xlabel(r'$H_0$', fontsize= 18)\n",
    "xlim(60,78)\n",
    "ylim(0,1)\n",
    "legend(frameon = False);\n",
    "\n",
    "fig, box_fig = subplots()\n",
    "xlim(60,78)\n",
    "ylim(0,7)\n",
    "xlabel(r'$H_0$', fontsize = 18)\n",
    "yticks(arange(6), '')\n",
    "\n",
    "H0R16 = norm(scale = 1.59, loc = 73.24)\n",
    "post_fig.plot(x, H0R16.pdf(x)/max(H0R16.pdf(x)), label = r'${\\rm R16}$', lw = 4,c = cmap(0))\n",
    "box_fig.errorbar(73.24, 6, xerr = 2*1.59, fmt = 'o',c = cmap(0))\n",
    "box_fig.errorbar(73.24, 6, xerr = 1.59, fmt = 'o',c = cmap(0))\n",
    "box_fig.text(62, 6, r'${\\rm R}16$', fontsize = 12)\n",
    "print 'R16', 73.24, 1.59\n",
    "\n",
    "\n",
    "## Base case\n",
    "xem, H_0, mu, sigma, maxval = like1d(base['H0'], base['weight'])\n",
    "H0 = norm(scale = sigma, loc = mu)\n",
    "post_fig.plot(x, H0.pdf(x)/maxval, label = r'${\\rm base}$', lw = 4,c = cmap(1))\n",
    "box_fig.errorbar(mu, 5, xerr = 2*sigma, fmt = 'o',c = cmap(1))\n",
    "box_fig.errorbar(mu, 5, xerr = sigma, fmt = 'o',c = cmap(1))\n",
    "\n",
    "\n",
    "box_fig.text(62, 5, r'$(V-I)^0{\\rm}$', fontsize = 12)\n",
    "print 'base', mu, sigma\n",
    "\n",
    "\n",
    "## many populations\n",
    "xem, H_0, mu, sigma, maxval = like1d(multi_pop['H0'], multi_pop['weight'])\n",
    "H0 = norm(scale = sigma, loc = mu)\n",
    "post_fig.plot(x, H0.pdf(x)/maxval, label = r'$+{\\rm Pop.\\, weighting}$', lw = 4,c = cmap(2))\n",
    "box_fig.errorbar(mu, 4, xerr = 2*sigma, fmt = 'o',c = cmap(2))\n",
    "box_fig.errorbar(mu, 4, xerr = sigma, fmt = 'o',c = cmap(2))\n",
    "\n",
    "\n",
    "box_fig.text(62, 4, r'$+{\\rm Pop.\\, Weighting}$', fontsize = 12)\n",
    "\n",
    "print 'multi pop', mu, sigma\n",
    "\n",
    "\n",
    "\n",
    "## many populations\n",
    "xem, H_0, mu, sigma, maxval = like1d(varyR['H0'], varyR['weight'])\n",
    "H0 = norm(scale = sigma, loc = mu)\n",
    "post_fig.plot(x, H0.pdf(x)/maxval, label = r'$+{R(\\theta)}$', lw = 4,c = cmap(2))\n",
    "box_fig.errorbar(mu, 3, xerr = 2*sigma, fmt = 'o',c = cmap(3))\n",
    "box_fig.errorbar(mu, 3, xerr = sigma, fmt = 'o',c = cmap(3))\n",
    "box_fig.text(62, 3, r'$+R(\\theta)$', fontsize = 12)\n",
    "\n",
    "print 'multi pop', mu, sigma\n",
    "\n",
    "\n",
    "\n",
    "## both\n",
    "xem, H_0, mu, sigma, maxval = like1d(both['H0'], both['weight'])\n",
    "H0 = norm(scale = sigma, loc = mu)\n",
    "post_fig.plot(x, H0.pdf(x)/maxval, label = r'$+{\\rm Pop.\\, Weighting} + R(\\theta)$', lw = 4,c = cmap(4))\n",
    "box_fig.errorbar(mu, 2, xerr = 2*sigma, fmt = 'o',c = cmap(4))\n",
    "box_fig.errorbar(mu, 2, xerr = sigma, fmt = 'o',c = cmap(4))\n",
    "\n",
    "\n",
    "box_fig.text(62, 2,r'$+{\\rm Pop.\\, Weighting} + R(\\theta)$', fontsize = 12)\n",
    "\n",
    "print 'both', mu, sigma\n",
    "\n",
    "\n",
    "## Planck\n",
    "sigma = 0.62\n",
    "mu = 66.93\n",
    "H0planck = norm(scale = 0.62, loc = 66.93)\n",
    "post_fig.plot(x, H0planck.pdf(x)/max(H0planck.pdf(x)), label = r'${\\rm Planck}$', lw = 4,c = cmap(0))\n",
    "box_fig.errorbar(mu, 1, xerr = 2*sigma, fmt = 'o',c = cmap(5))\n",
    "box_fig.errorbar(mu, 1, xerr = sigma, fmt = 'o',c = cmap(5))\n",
    "\n",
    "\n",
    "box_fig.text(62, 1, r'$ {\\rm Planck}$', fontsize = 12)\n",
    "\n",
    "\n",
    "\n",
    "\n",
    "#savefig('/Users/follin/Desktop/H_0post.pdf')\n",
    "#.savefig('/Users/follin/Desktop/H_0posterior.pdf')"
   ]
  },
  {
   "cell_type": "code",
   "execution_count": null,
   "metadata": {
    "collapsed": true
   },
   "outputs": [],
   "source": [
    "from scipy.integrate import quad\n",
    "from scipy.stats import norm\n",
    "def pvalue(chain):\n",
    "    fitdata = [[d]*w for d,w in zip(chain['H0'], chain['weight'])]\n",
    "    fitdata = [item for sublist in fitdata for item in sublist]\n",
    "\n",
    "    x = norm(scale = 0.62, loc = 66.93).rvs(size = len(fitdata))\n",
    "    pval = sum([(x>y) for x,y in zip(x, fitdata)])*1.0/len(fitdata)\n",
    "    z = norm.ppf(pval)\n",
    "    return pval, z\n",
    "print 'base case', pvalue(base)\n",
    "print '6 populations', pvalue(multi_pop)\n",
    "#print 'r free', pvalue(varyR)\n",
    "print 'both', pvalue(both)\n",
    "#print 'E(V-I) cut', pvalue(cutoff)"
   ]
  },
  {
   "cell_type": "code",
   "execution_count": null,
   "metadata": {
    "collapsed": true
   },
   "outputs": [],
   "source": [
    "# xvals = []\n",
    "# xerr = []\n",
    "# fields = []\n",
    "# for field in ['lmc','n4258', 'm31',\n",
    "#                   'm101', 'n5917', 'n4639', \n",
    "#                   'n3370', 'n3447', \n",
    "#                   'n1448', 'n5584', 'n2442', \n",
    "#                   'u9391', 'n3982', \n",
    "#                   'n1365', 'n7250', 'n1015', \n",
    "#                   'n4536', 'n3021', \n",
    "#                   'n3972', 'n1309', 'n4424', \n",
    "#                   'n4038']:\n",
    "#     xvals += [varyR.mean('R_'+field) + 0.39]\n",
    "#     xerr += [varyR.std('R_'+field)]\n",
    "#     if field != 'galaxy':\n",
    "#         fields += [field]\n",
    "#     else:\n",
    "#         fields +=['MW']\n",
    "ax1 = subplot(111)\n",
    "# xlim(-1, len(xvals))\n",
    "# errorbar(arange(len(xvals)), xvals, yerr = xerr, fmt = 'o', label =  r'${\\rm base}+ R_{x,\\alpha}$')\n",
    "\n",
    "xvals = []\n",
    "xerr = []\n",
    "fields = []\n",
    "for field in ['lmc','n4258', 'm31',\n",
    "                  'm101', 'n5917', 'n4639', \n",
    "                  'n3370', 'n3447', \n",
    "                  'n1448', 'n5584', 'n2442', \n",
    "                  'u9391', 'n3982', \n",
    "                  'n1365', 'n7250', 'n1015', \n",
    "                  'n4536', 'n3021', \n",
    "                  'n3972', 'n1309', 'n4424', \n",
    "                  'n4038']:\n",
    "    xvals += [both.mean('R_'+field) + 0.39]\n",
    "    xerr += [both.std('R_'+field)]\n",
    "    if field != 'galaxy':\n",
    "        fields += [field]\n",
    "    else:\n",
    "        fields +=['MW']\n",
    "\n",
    "errorbar(arange(len(xvals)), xvals, yerr = xerr, fmt = '^', color = 'r', label =  r'$+{\\rm no\\, Pop\\, A}$')\n",
    "\n",
    "#plot(arange(25), ones(25)*sum(array(xvals) * array(xerr)/sum(xerr)), label = r'${\\rm mean\\, }R_H$')  \n",
    "plot(arange(-1, 25), ones(26) * 0.39, lw = 4)\n",
    "#legend( loc = 9, frameon = False)\n",
    "xticks(arange(len(xvals)), fields, rotation='vertical');\n",
    "#title(r'$R_H_{MW} \\, {\\rm free}$, \\, $H_0 = 70.36 \\pm 1.98$')\n",
    "ylabel(r'$R_H$', fontsize = 18)\n",
    "ylim(0.1, 0.7)\n",
    "#fig.subplots_adjust(left = 0.2, bottom = 0.2, top = 0.95, right = 0.95)\n",
    "\n",
    "\n",
    "\n",
    "ax = twinx(ax1)\n",
    "fields = ['lmc','n4258', 'm31',\n",
    "                  'm101', 'n5917', 'n4639', \n",
    "                  'n3370', 'n3447', \n",
    "                  'n1448', 'n5584', 'n2442', \n",
    "                  'u9391', 'n3982', \n",
    "                  'n1365', 'n7250', 'n1015', \n",
    "                  'n4536', 'n3021', \n",
    "                  'n3972', 'n1309', 'n4424', \n",
    "                  'n4038']\n",
    "gridparams = ['H0'] + ['R_'+x for x in fields]\n",
    "x = arange(len(gridparams))\n",
    "#corr = pd.DataFrame(varyR.corr(gridparams), index = gridparams, columns = gridparams)\n",
    "#corr.loc['H0','H0'] = 0\n",
    "\n",
    "#plot(x-0.5,array(corr['H0']), ls = 'steps', lw = 4, c = 'b', alpha = 0.5)\n",
    "\n",
    "corr = pd.DataFrame(both.corr(gridparams), index = gridparams, columns = gridparams)\n",
    "corr.loc['H0','H0'] = 0\n",
    "\n",
    "plot(x-0.5,array(corr['H0']), ls = 'steps', lw = 4, c = 'r', alpha = 0.5)\n",
    "\n",
    "\n",
    "#xlim(-0.5, len(gridparams)-0.5);\n",
    "ylim(-0.3+.01, 0.3+.01)\n",
    "#plot([-1, 30], [0,0], lw = 4)\n",
    "#ylabel(r'$\\frac{\\langle H_0 R_{H}^x\\rangle}{\\sqrt{\\langle H_0^2\\rangle \\langle (R_H^x)^2 \\rangle}}$', fontsize = 18)\n",
    "ylabel(r'${\\rm Corr}(R_H^x, H_0)$', fontsize = 18)\n",
    "xlim(-0.5, len(fields)-0.5);\n",
    "#savefig('/Users/fo/papers/local_hubble/FIGURES/MW_free.png')\n",
    "savefig('/Users/follin/Documents/projects/papers/local_hubble/FIGURES/R_H_by_field.pdf')"
   ]
  },
  {
   "cell_type": "code",
   "execution_count": null,
   "metadata": {
    "collapsed": true
   },
   "outputs": [],
   "source": [
    "both.like2d('H0', 'R_n4258')"
   ]
  },
  {
   "cell_type": "code",
   "execution_count": null,
   "metadata": {
    "collapsed": true
   },
   "outputs": [],
   "source": [
    "ax = subplot(111)\n",
    "no_int_color.like2d('H0', 'dz', label = 'base', c = cmap(0/6), ax = ax)\n",
    "base.like2d('H0', 'dz', c = cmap(2.0/6), label = 'multiple pops', ax = ax)\n",
    "ax.legend()\n",
    "xlabel(r'$H_0$', fontsize= 18)\n",
    "ylabel(r'$dz$', fontsize = 18);\n",
    "figure()\n",
    "no_int_color.like1d('H0', c = cmap(0/6), lw = 4)\n",
    "base.like1d('H0', c = cmap(2.0/6), lw = 4)\n",
    "\n",
    "sigma = 0.62\n",
    "mu = 66.93\n",
    "H0planck = norm(scale = 0.62, loc = 66.93)\n",
    "plot(x, H0planck.pdf(x)/max(H0planck.pdf(x)), label = r'${\\rm Planck}$', lw = 4,c = cmap(4))\n",
    "#box_fig.errorbar(mu, 1, xerr = 2*sigma, fmt = 'o',c = cmap(5))\n",
    "#box_fig.errorbar(mu, 1, xerr = sigma, fmt = 'o',c = cmap(5))\n",
    "\n"
   ]
  },
  {
   "cell_type": "code",
   "execution_count": null,
   "metadata": {
    "collapsed": true
   },
   "outputs": [],
   "source": [
    "correlation = pd.DataFrame(both.corr(), columns = both.params(), index = both.params())\n",
    "correlation['H0']"
   ]
  },
  {
   "cell_type": "code",
   "execution_count": null,
   "metadata": {
    "collapsed": true
   },
   "outputs": [],
   "source": [
    "from sklearn.linear_model import LogisticRegression\n",
    "from sklearn.mixture import GaussianMixture"
   ]
  },
  {
   "cell_type": "code",
   "execution_count": null,
   "metadata": {
    "collapsed": true
   },
   "outputs": [],
   "source": [
    "cepheids['logP'] = log10(cepheids.Period)\n",
    "features = cepheids[['logP', 'VminusI']]\n"
   ]
  },
  {
   "cell_type": "code",
   "execution_count": null,
   "metadata": {
    "collapsed": true
   },
   "outputs": [],
   "source": [
    "# bic_array = []\n",
    "# for n_classes in arange(1,15):\n",
    "#     model = GaussianMixture(n_components = n_classes, max_iter = 1000, n_init = 1000, init_params= 'random')\n",
    "#     estimate = model.fit(features)\n",
    "#     bic_array += [model.bic(features)]\n",
    "# scatter(arange(1,15), bic_array)\n",
    "# xlim(0,16)"
   ]
  },
  {
   "cell_type": "code",
   "execution_count": null,
   "metadata": {
    "collapsed": true
   },
   "outputs": [],
   "source": [
    "# n_classes = 6\n",
    "# f = open('gaussian_mixture_model', 'w')\n",
    "# model = GaussianMixture(n_components = n_classes, max_iter = 1000, n_init = 1000, init_params= 'random')\n",
    "# model.fit(features)\n",
    "# pickle.dump(model, f)\n",
    "# f.close()"
   ]
  },
  {
   "cell_type": "code",
   "execution_count": null,
   "metadata": {
    "collapsed": true
   },
   "outputs": [],
   "source": [
    "n_classes = 6\n",
    "f = open('gaussian_mixture_model', 'r')\n",
    "model = pickle.load(f)\n",
    "f.close()\n",
    "cmap = cm.get_cmap('Paired', n_classes)"
   ]
  },
  {
   "cell_type": "code",
   "execution_count": null,
   "metadata": {
    "collapsed": true
   },
   "outputs": [],
   "source": [
    "probs = model.predict_proba(features)\n",
    "for pop in arange(6):\n",
    "    print 'population '+str(pop+1)+' cepheids:',  sum(probs, axis = 0)[pop]\n"
   ]
  },
  {
   "cell_type": "code",
   "execution_count": null,
   "metadata": {
    "collapsed": true
   },
   "outputs": [],
   "source": [
    "scatter(cepheids['logP'], cepheids.VminusI, s = 3, c= 'k', lw = 0)\n",
    "ylim(0,3)\n",
    "xlim(0,2.5);\n",
    "xlabel(r'$\\log P$', fontsize = 18)\n",
    "ylabel(r'$V-I$', fontsize = 18)"
   ]
  },
  {
   "cell_type": "code",
   "execution_count": null,
   "metadata": {
    "collapsed": true
   },
   "outputs": [],
   "source": [
    "num_samples = 400\n",
    "model.covariances_\n",
    "from scipy.stats import multivariate_normal as norm\n",
    "xvals = []\n",
    "yvals = []\n",
    "pop = []\n",
    "pdf = norm(mean = model.means_[0], cov = model.covariances_[0,:,:])\n",
    "vals = pdf.rvs(num_samples)\n",
    "xvals += list(vals[:,0])\n",
    "yvals += list(vals[:,1])\n",
    "pop += [0]*num_samples\n",
    "\n",
    "\n",
    "pdf = norm(mean = model.means_[1], cov = model.covariances_[1,:,:])\n",
    "vals = pdf.rvs(num_samples)\n",
    "xvals += list(vals[:,0])\n",
    "yvals += list(vals[:,1])\n",
    "pop += [1]*num_samples\n",
    "\n",
    "pdf = norm(mean = model.means_[2], cov = model.covariances_[2,:,:])\n",
    "vals = pdf.rvs(num_samples)\n",
    "xvals += list(vals[:,0])\n",
    "yvals += list(vals[:,1])\n",
    "pop += [2]*num_samples\n",
    "\n",
    "pdf = norm(mean = model.means_[3], cov = model.covariances_[3,:,:])\n",
    "vals = pdf.rvs(num_samples)\n",
    "xvals += list(vals[:,0])\n",
    "yvals += list(vals[:,1])\n",
    "pop += [3]*num_samples\n",
    "\n",
    "pdf = norm(mean = model.means_[4], cov = model.covariances_[4,:,:])\n",
    "vals = pdf.rvs(num_samples)\n",
    "xvals += list(vals[:,0])\n",
    "yvals += list(vals[:,1])\n",
    "pop += [4]*num_samples\n",
    "\n",
    "pdf = norm(mean = model.means_[5], cov = model.covariances_[5,:,:])\n",
    "vals = pdf.rvs(num_samples)\n",
    "xvals += list(vals[:,0])\n",
    "yvals += list(vals[:,1])\n",
    "pop += [5]*num_samples\n",
    "\n",
    "scatter(xvals, yvals, cmap = cmap , c = pop, s = 3, lw = 0);\n",
    "colorbar(ticks = arange(n_classes))\n",
    "ylim(0,3)\n",
    "xlim(0,2.5);\n",
    "xlabel(r'$\\log P$', fontsize = 18)\n",
    "ylabel(r'$V-I$', fontsize = 18);"
   ]
  },
  {
   "cell_type": "code",
   "execution_count": null,
   "metadata": {
    "collapsed": true
   },
   "outputs": [],
   "source": [
    "cepheids['Class'] = model.predict(features)\n",
    "probs = model.predict_proba(features)"
   ]
  },
  {
   "cell_type": "code",
   "execution_count": null,
   "metadata": {
    "collapsed": true
   },
   "outputs": [],
   "source": [
    "scatter(log10(cepheids.Period), cepheids.VminusI, s= 3, lw = 0, cmap = cmap, c = cepheids.Class)\n",
    "colorbar(ticks = arange(n_classes))\n",
    "xlabel(r'$\\log P$', fontsize = 18)\n",
    "ylabel(r'$V-I$', fontsize = 18);"
   ]
  },
  {
   "cell_type": "code",
   "execution_count": null,
   "metadata": {
    "collapsed": true
   },
   "outputs": [],
   "source": [
    "scatter(log10(cepheids.Period), cepheids.m_H, s= 3, lw = 0, cmap = cmap, c = cepheids.Class)\n",
    "colorbar(ticks = arange(n_classes))\n",
    "xlabel(r'$\\log P$', fontsize = 18)\n",
    "ylabel(r'${\\rm mag}$', fontsize = 18);"
   ]
  },
  {
   "cell_type": "code",
   "execution_count": null,
   "metadata": {
    "collapsed": true
   },
   "outputs": [],
   "source": [
    "\n",
    "fields = ['galaxy','lmc','n4258', 'm31',\n",
    "                  'm101', 'n5917', 'n4639', \n",
    "                  'n3370', 'n3447', \n",
    "                  'n1448', 'n5584', 'n2442', \n",
    "                  'u9391', 'n3982', \n",
    "                  'n1365', 'n7250', 'n1015', \n",
    "                  'n4536', 'n3021', \n",
    "                  'n3972', 'n1309', 'n4424', \n",
    "                  'n4038']\n",
    "\n",
    "groups = cepheids.groupby(['Field', 'Class'])\n",
    "yvals = groups.count()['m_H'][fields]\n",
    "which_field = yvals.index.labels[0]\n",
    "which_cluster = yvals.index.labels[1]\n",
    "xvals = yvals[which_cluster ==1].index.levels[0].tolist()\n",
    "xvals[0] = 'MW'\n",
    "xlabels = xvals\n",
    "which_field = yvals[which_cluster ==0].index.labels[0]\n",
    "bar(arange(len(xlabels))[which_field], yvals[which_cluster == 0], color = cmap(0), alpha = 0.5,label = r'${\\rm Pop\\, 1}$')\n",
    "which_field = yvals[which_cluster ==1].index.labels[0]\n",
    "bar(arange(len(xlabels))[which_field], yvals[which_cluster == 1], color = cmap(1.0/6), alpha = 0.5,label = r'${\\rm Pop\\, 2}$')\n",
    "which_field = yvals[which_cluster ==2].index.labels[0]\n",
    "bar(arange(len(xlabels))[which_field], yvals[which_cluster == 2],color = cmap(2.0/6),  alpha = 0.5,label = r'${\\rm Pop\\, 3}$')\n",
    "which_field = yvals[which_cluster ==3].index.labels[0]\n",
    "bar(arange(len(xlabels))[which_field], yvals[which_cluster == 3], color = cmap(3.0/6), alpha = 0.5,label = r'${\\rm Pop\\, 4}$')\n",
    "which_field = yvals[which_cluster ==4].index.labels[0]\n",
    "bar(arange(len(xlabels))[which_field], yvals[which_cluster == 4], color = cmap(4.0/6), alpha = 0.5,label = r'${\\rm Pop\\, 5}$')\n",
    "which_field = yvals[which_cluster ==5].index.labels[0]\n",
    "bar(arange(len(xlabels))[which_field], yvals[which_cluster == 5], color = cmap(5.0/6), alpha = 0.5,label = r'${\\rm Pop\\, 6}$')\n",
    "\n",
    "\n",
    "\n",
    "\n",
    "\n",
    "\n",
    "# for x,y in zip(arange(len(xlabels))[which_field], yvals[which_cluster == 4]):\n",
    "#     text(x-0.25,y+10,'%3.0f'%y)\n",
    "\n",
    "ylim(0,300);\n",
    "#gca().set_yscale(\"log\", nonposy='clip')\n",
    "#ylim(1e-1,1.0e3)\n",
    "ylabel(r'${\\rm number\\,\\, of\\,\\, Cepheids}$', fontsize = 18)\n",
    "xticks(arange(len(xlabels)) + 0.5, xlabels, rotation = 'vertical');\n",
    "#gca().yaxis.set_ticklabels(['','','$1$', '$10$', '$100$', '$1000$'])\n",
    "xlim(-0.1, len(xlabels));\n",
    "legend();\n",
    "#savefig('/Users/follin/Documents/projects/papers/local_hubble/FIGURES/popAB_distribution.pdf')"
   ]
  },
  {
   "cell_type": "code",
   "execution_count": null,
   "metadata": {
    "collapsed": true
   },
   "outputs": [],
   "source": [
    "both['M_ceph0']#+\n",
    "both['M_ceph'+str(pop]"
   ]
  },
  {
   "cell_type": "code",
   "execution_count": null,
   "metadata": {
    "collapsed": true
   },
   "outputs": [],
   "source": [
    "vals = []\n",
    "\n",
    "s\n",
    "\n",
    "\n",
    "pd.Series(vals).std()/mean(vals)"
   ]
  },
  {
   "cell_type": "code",
   "execution_count": null,
   "metadata": {
    "collapsed": true
   },
   "outputs": [],
   "source": [
    "from model_manypops import Model"
   ]
  },
  {
   "cell_type": "code",
   "execution_count": null,
   "metadata": {
    "collapsed": true
   },
   "outputs": [],
   "source": [
    "for key in multi_pop.best_fit().keys():\n",
    "    x[key] = multi_pop.best_fit()[key]"
   ]
  },
  {
   "cell_type": "code",
   "execution_count": null,
   "metadata": {
    "collapsed": true
   },
   "outputs": [],
   "source": [
    "x = Model(multiple_pops=True)\n",
    "x.cepheids.Prob_0 = 0\n",
    "x.cepheids.Prob_1 = 1\n",
    "x.cepheids.Prob_2 = 0\n",
    "x.cepheids.Prob_3 = 0\n",
    "x.cepheids.Prob_4 = 0\n",
    "x.cepheids.Prob_5 = 0 \n",
    "for key in multi_pop.best_fit().keys():\n",
    "    x[key] = multi_pop.best_fit()[key]\n",
    "\n",
    "\n",
    "x.sampler"
   ]
  },
  {
   "cell_type": "code",
   "execution_count": null,
   "metadata": {
    "collapsed": true
   },
   "outputs": [],
   "source": [
    "both['Mceph0'] = both['M_ceph0']\n",
    "params = ['Mceph'+x for x in arange(6).astype('str')] + ['H0']\n",
    "print params\n",
    "both.likegrid(params = params)\n",
    "pd.DataFrame(both.corr(params = params), columns = params, index = params)"
   ]
  },
  {
   "cell_type": "code",
   "execution_count": null,
   "metadata": {
    "collapsed": true
   },
   "outputs": [],
   "source": [
    "arange(6).astype('str') + 'C0'"
   ]
  },
  {
   "cell_type": "code",
   "execution_count": null,
   "metadata": {
    "collapsed": true
   },
   "outputs": [],
   "source": []
  },
  {
   "cell_type": "code",
   "execution_count": null,
   "metadata": {
    "collapsed": true
   },
   "outputs": [],
   "source": [
    "temp.plot()"
   ]
  },
  {
   "cell_type": "code",
   "execution_count": null,
   "metadata": {
    "collapsed": true
   },
   "outputs": [],
   "source": []
  }
 ],
 "metadata": {
  "kernelspec": {
   "display_name": "Python 2",
   "language": "python",
   "name": "python2"
  },
  "language_info": {
   "codemirror_mode": {
    "name": "ipython",
    "version": 2
   },
   "file_extension": ".py",
   "mimetype": "text/x-python",
   "name": "python",
   "nbconvert_exporter": "python",
   "pygments_lexer": "ipython2",
   "version": "2.7.13"
  }
 },
 "nbformat": 4,
 "nbformat_minor": 1
}
