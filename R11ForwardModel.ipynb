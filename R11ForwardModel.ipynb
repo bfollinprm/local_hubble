{
 "cells": [
  {
   "cell_type": "code",
   "execution_count": 1,
   "metadata": {
    "collapsed": false
   },
   "outputs": [
    {
     "name": "stdout",
     "output_type": "stream",
     "text": [
      "Using matplotlib backend: MacOSX\n",
      "Populating the interactive namespace from numpy and matplotlib\n"
     ]
    }
   ],
   "source": [
    "%pylab\n",
    "%matplotlib inline\n"
   ]
  },
  {
   "cell_type": "code",
   "execution_count": 2,
   "metadata": {
    "collapsed": true
   },
   "outputs": [],
   "source": [
    "import pyfits as fits\n",
    "from numpy import polyfit\n",
    "from astropy.utils.data import download_file\n",
    "import pandas as pd\n",
    "from cosmoslik import get_plugin, param_shortcut, SlikPlugin, SlikDict, run_chain"
   ]
  },
  {
   "cell_type": "code",
   "execution_count": 3,
   "metadata": {
    "collapsed": true
   },
   "outputs": [],
   "source": [
    "### Download data\n",
    "\n",
    "\n",
    "### Cepheid table\n",
    "cepheid_table = download_file(\n",
    "        'http://iopscience.iop.org/0004-637X/730/2/119/suppdata/apj383673t2_mrt.txt', \n",
    "        cache = True)\n",
    "cepheids = pd.read_csv(cepheid_table,\n",
    "                       delim_whitespace = True,\n",
    "                       skiprows = 39,\n",
    "                       names = (['Field', 'RAdeg', \n",
    "                                 'DEdeg', 'ID', \n",
    "                                 'Period', 'VtoI', \n",
    "                                 'F160Wmag', 'e_F160Wmag',\n",
    "                                 'Offset', 'Bias', \n",
    "                                 'IMrms', 'ObyH', 'Flag']\n",
    "                               )\n",
    "                      )\n",
    "\n",
    "cepheids=cepheids.fillna(value = '-')\n",
    "### SNe table\n",
    "Sne_table = download_file(\n",
    "        'http://iopscience.iop.org/0004-637X/730/2/119/suppdata/apj383673t3_ascii.txt',\n",
    "        cache = True)\n",
    "Sne = pd.read_csv(Sne_table, \n",
    "                   \n",
    "                  delim_whitespace=True, \n",
    "                  skiprows = [0,1,2,3,4,13,15],\n",
    "                  names = (['Host', 'junk','Sn1A',\n",
    "                            'Filters', 'm0_viPlus5a_v',\n",
    "                            'sigma', 'DeltaMu_0','e_DeltaMu_0',\n",
    "                            'mu_0_Best', 'e_mu_0_Best'\n",
    "                          ])\n",
    "                 )\n",
    "Sne.loc[:,'e_DeltaMu_0'] = (Sne.loc[:,'e_DeltaMu_0'].apply(str).str.replace('\\(|\\)','')).astype('float')\n",
    "Sne.loc[:,'e_mu_0_Best'] = (Sne.loc[:,'e_mu_0_Best'].apply(str).str.replace('\\(|\\)','')).astype('float')\n",
    "\n",
    "\n",
    "maser_distance = {'mu':7.2, 'e_mu':0.32} \n",
    "maser_distance = pd.DataFrame(data = maser_distance, index = arange(1))\n",
    "\n",
    "\n",
    "\n",
    "\n",
    "\n"
   ]
  },
  {
   "cell_type": "code",
   "execution_count": 7,
   "metadata": {
    "collapsed": false
   },
   "outputs": [],
   "source": [
    "param = param_shortcut('start','scale')\n",
    "class CosmoModel():\n",
    "    def __init__(cepheids, sne):\n",
    "        self.cepheids = cepheids\n",
    "        self.local_sne = sne\n",
    "        self.fields = set(self.cepheids.Field)\n",
    "        \n",
    "        ####Params####\n",
    "        ##############\n",
    "        self.params = SlikDict()\n",
    "        ### Cepheid period/luminosity parameters\n",
    "        self.params.b = param(-3, .05)\n",
    "        self.param.Z = param(-0.27, 0.1)\n",
    "        self.param.intercept = param(10,.5)\n",
    "\n",
    "    \n",
    "        ### Differential distance moduli parameters\n",
    "        for field in self.fields:\n",
    "            self.params['dmu_field'] = param(1, 0.1)\n",
    "        \n",
    "        ### Cepheid dispersion parameters\n",
    "        self.params.R = 0.410 ## For calculating Weisenheit reddening-free magnitudes\n",
    "        \n",
    "        ### Sne mag/redshift relation\n",
    "        self.params.abs_mag = param(-20, 0.1)\n",
    "        \n",
    "        ### Cosmology parameters\n",
    "        self.params.H0 = param(70, 1)\n",
    "        self.params.OmM = param(.2, .01)\n",
    "        #self.params.OmR = param(0.004, 0.001)\n",
    "        self.params.OmK = 0\n",
    "\n",
    "        ### Sne Dispersion Parameters\n",
    "        \n",
    "        \n",
    "        ### Geometric Distance Parameters\n",
    "        self.params.mu_4258 = param(7.2, .1)\n",
    "        \n",
    "        \n",
    "    def _ceph_period_to_relative_magnitude(self, period, host, deltaOH = None, VminusI = None):\n",
    "        period = array([period]).flatten()\n",
    "        host = array([host]).flatten()\n",
    "        mag = self.params.b * period + self.params.intercept\n",
    "        if deltaOH != None:\n",
    "            mag += self.params.Z * deltaOH ### Metallicity axis\n",
    "        if VminusI != None:\n",
    "            mag += self.params.R * VminusI\n",
    "        for field in self.fields:\n",
    "            mag += self.params.mu_4258 + array(map(lambda y: y == field, host)) * self.params['dmu_'+field]\n",
    "        return mag\n",
    "    \n",
    "    \n",
    "        \n",
    "    def SN_z_to_relative_mag(self, z):\n",
    "        d_lum = self._get_distances(z)['luminosity']\n",
    "        mag = self.params.abs_mag + 5 * log10(d_lum) + 25\n",
    "        return mag\n",
    "    \n",
    "    def _get_distances(self, z):\n",
    "        z = array([z]).sort().flatten()\n",
    "        distances = SlikDict()\n",
    "        distances['z'] = z\n",
    "        distances['hubble'] = array([1.0e5/self.params.H0] * z.size())\n",
    "        zpairs = zip(z[:-1], roll(z, -1)[:-1])\n",
    "        distances['comoving'] = cumsum(map(self._differential_comoving_distance, zpairs))\n",
    "        if self.params.OmK == 0:\n",
    "            distances['chi'] = distances['comoving']\n",
    "        elif self.params.OmK > 0:\n",
    "            distances['chi'] = distances['hubble']/sqrt(self.params.OmK) * sinh(sqrt(self.params.OmK)*\n",
    "                                                                     distances['comoving']/distances['hubble'])\n",
    "        elif self.params.OmK < 0:\n",
    "            distances['chi'] = distances['hubble']/sqrt(self.params.OmK) * sin(sqrt(self.params.OmK)*\n",
    "                                                                    distances['comoving']/distances['hubble'])\n",
    "        else:\n",
    "            return -1\n",
    "        distances['luminosity'] = (1 + z) * distances['chi']\n",
    "        distances['angular_diameter'] = distances['chi']/(1+z)\n",
    "        return distances\n",
    "        \n",
    "        \n",
    "    def _differential_comoving_distance(self, zpairs):\n",
    "        return 1/H_0 * quad(lambda x: 1.0/_E(x), zpairs[0], zpairs[1])\n",
    "        \n",
    "    def _E(self, z):\n",
    "        return sqrt(self.params.OmM*( 1 + z)**3 + self.params.OmK*(1+z)**2 + self.params.OmL)\n",
    "        \n",
    "    def __call__(self):\n",
    "        self.params.OmL = 1 - self.params.OmM - self.params.OmK\n",
    "        lnl = 0\n",
    "        return lnl\n",
    "        \n",
    "        "
   ]
  },
  {
   "cell_type": "code",
   "execution_count": null,
   "metadata": {
    "collapsed": true
   },
   "outputs": [],
   "source": []
  }
 ],
 "metadata": {
  "kernelspec": {
   "display_name": "Python 2",
   "language": "python",
   "name": "python2"
  },
  "language_info": {
   "codemirror_mode": {
    "name": "ipython",
    "version": 2
   },
   "file_extension": ".py",
   "mimetype": "text/x-python",
   "name": "python",
   "nbconvert_exporter": "python",
   "pygments_lexer": "ipython2",
   "version": "2.7.11"
  }
 },
 "nbformat": 4,
 "nbformat_minor": 0
}
