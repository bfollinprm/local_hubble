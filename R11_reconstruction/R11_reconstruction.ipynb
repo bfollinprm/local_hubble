{
 "cells": [
  {
   "cell_type": "code",
   "execution_count": 1,
   "metadata": {
    "collapsed": false
   },
   "outputs": [
    {
     "name": "stdout",
     "output_type": "stream",
     "text": [
      "Using matplotlib backend: MacOSX\n",
      "Populating the interactive namespace from numpy and matplotlib\n"
     ]
    }
   ],
   "source": [
    "%pylab\n",
    "%matplotlib inline\n",
    "rc('text', usetex = True)"
   ]
  },
  {
   "cell_type": "code",
   "execution_count": 2,
   "metadata": {
    "collapsed": false
   },
   "outputs": [],
   "source": [
    "import pyfits as fits\n",
    "from numpy import polyfit\n",
    "from astropy.utils.data import download_file\n",
    "import pandas as pd\n",
    "from lmfit import Parameters, minimize"
   ]
  },
  {
   "cell_type": "code",
   "execution_count": 3,
   "metadata": {
    "collapsed": false
   },
   "outputs": [],
   "source": [
    "### Download data\n",
    "\n",
    "\n",
    "### Cepheid table\n",
    "cepheid_table = download_file(\n",
    "        'http://iopscience.iop.org/0004-637X/730/2/119/suppdata/apj383673t2_mrt.txt', \n",
    "        cache = True)\n",
    "cepheids = pd.read_csv(cepheid_table,\n",
    "                       delim_whitespace = True,\n",
    "                       skiprows = 39,\n",
    "                       names = (['Field', 'RAdeg', \n",
    "                                 'DEdeg', 'ID', \n",
    "                                 'Period', 'VtoI', \n",
    "                                 'F160Wmag', 'e_F160Wmag',\n",
    "                                 'Offset', 'Bias', \n",
    "                                 'IMrms', 'ObyH', 'Flag']\n",
    "                               )\n",
    "                      )\n",
    "\n",
    "cepheids=cepheids.fillna(value = '-')\n",
    "### SNe table\n",
    "Sne_table = download_file(\n",
    "        'http://iopscience.iop.org/0004-637X/730/2/119/suppdata/apj383673t3_ascii.txt',\n",
    "        cache = True)\n",
    "Sne = pd.read_csv(Sne_table, \n",
    "                   \n",
    "                  delim_whitespace=True, \n",
    "                  skiprows = [0,1,2,3,4,13,15],\n",
    "                  names = (['Host', 'junk','Sn1A',\n",
    "                            'Filters', 'm0_viPlus5a_v',\n",
    "                            'sigma', 'DeltaMu_0','e_DeltaMu_0',\n",
    "                            'mu_0_Best', 'e_mu_0_Best'\n",
    "                          ])\n",
    "                 )\n",
    "Sne.loc[:,'e_DeltaMu_0'] = (Sne.loc[:,'e_DeltaMu_0'].apply(str).str.replace('\\(|\\)','')).astype('float')\n",
    "Sne.loc[:,'e_mu_0_Best'] = (Sne.loc[:,'e_mu_0_Best'].apply(str).str.replace('\\(|\\)','')).astype('float')\n",
    "\n",
    "\n",
    "maser_distance = {'mu':7.2, 'e_mu':0.32} \n",
    "maser_distance = pd.DataFrame(data = maser_distance, index = arange(1))"
   ]
  },
  {
   "cell_type": "code",
   "execution_count": 4,
   "metadata": {
    "collapsed": false
   },
   "outputs": [],
   "source": [
    "cepheids;"
   ]
  },
  {
   "cell_type": "code",
   "execution_count": 5,
   "metadata": {
    "collapsed": false
   },
   "outputs": [],
   "source": [
    "Sne;"
   ]
  },
  {
   "cell_type": "code",
   "execution_count": 6,
   "metadata": {
    "collapsed": false
   },
   "outputs": [],
   "source": [
    "class CosmoModel(object):\n",
    "    def __init__(self, cepheids, Sne, ignore_field = None, IMrms_cut = None, flip_cut = False):\n",
    "        \n",
    "        self.cepheids = cepheids.copy()\n",
    "        self.Sne = Sne.copy()\n",
    "        self.fields = set(self.cepheids.Field)\n",
    "        if IMrms_cut is None: IMrms_cut = [0, np.inf]\n",
    "        if ignore_field is not None:\n",
    "\n",
    "            ## Remove the fields in ignore_fields from the sample\n",
    "            self.fields.discard(ignore_field)\n",
    "        \n",
    "        ####Cuts\n",
    "        self.cepheids = self.cepheids.loc[self.cepheids.Flag != 'rej',:]\n",
    "        self.cepheids = self.cepheids.loc[self.cepheids.Flag !='rej,low',:]\n",
    "        self.cepheids = self.cepheids.loc[self.cepheids.Flag !='low',:]\n",
    "        #self.cepheids = self.cepheids.loc[(5.297 < self.cepheids.Period) & (self.cepheids.Period < 203.3), :]\n",
    "        if flip_cut is False:\n",
    "            self.cepheids = self.cepheids.loc[self.cepheids.IMrms < IMrms_cut[1],:]\n",
    "            self.cepheids = self.cepheids.loc[self.cepheids.IMrms > IMrms_cut[0],:]\n",
    "        else:\n",
    "            self.cepheids = self.cepheids[(self.cepheids.IMrms >= IMrms_cut[1]) | (self.cepheids.IMrms <= IMrms_cut[0])] \n",
    "            #self.cepheids = self.cepheids.loc[self.cepheids.IMrms <= IMrms_cut[0],:]\n",
    "\n",
    "        if ignore_field is not None:\n",
    "                self.cepheids = self.cepheids.loc[self.cepheids.Field != ignore_field,:]\n",
    "                self.Sne = self.Sne.loc[self.Sne.Host != ignore_field, :]\n",
    "        print 'kept %4.0f total cepheids'%self.cepheids.shape[0]\n",
    "\n",
    "        self.params = Parameters()\n",
    "        self.params.add('z_p_n4258', value = 25.5)\n",
    "        self.params.add('b', value = -3, vary = True)\n",
    "        self.params.add('Z', value = 0.25, vary = True)\n",
    "        self.params.add('a_nu', value = 0.47)\n",
    "        for field in self.fields:\n",
    "                self.params.add('dmu_'+field, value = 0)\n",
    "                self.params.add('R_'+field, value = 0, vary = False)\n",
    "        #        self.params.add('ddmu_'+field, value = 0)\n",
    "        #self.params['ddmu_n4258'].vary = False\n",
    "        self.params['dmu_n4258'].vary = False\n",
    "        self.params['dmu_n4258'].value = 0\n",
    "        self.params.add('m04258', value = 30)\n",
    "        self.params.add('m04258bias', value = 0, vary = False)\n",
    "        self.params.add('mu_geometric', value = 7.6)\n",
    "        self.params.add('R', value = 0.410, vary = False)\n",
    "        self.params.add('R2', value = 0, vary = False)\n",
    "        self.params.add('Q', value = 0, vary = False)\n",
    "    def Fitted_Mag(self, cepheids, **params):\n",
    "        \n",
    "        cepheids.loc[:,'FittedMag'] = (params['z_p_n4258'] \n",
    "                        + params['b'] * log10(cepheids.Period) \n",
    "                        + params['Z'] * (cepheids.ObyH - mean(cepheids.ObyH))##8.9)#mean(cepheids.loc[cepheids.Field == 'n4258', 'ObyH'])) \n",
    "                        + params['R'] * cepheids.VtoI\n",
    "                        + params['R2'] * cepheids.VtoI**2\n",
    "                        + params['Q'] * cepheids.Bias\n",
    "                       )\n",
    "        for field in (self.fields):\n",
    "            cepheids.loc[cepheids.Field == field,'FittedMag'] = (cepheids.loc[cepheids.Field == field, 'FittedMag'] \n",
    "                                                                 + params['dmu_'+field]\n",
    "                                                                 + params['R_'+field] * cepheids.VtoI\n",
    "                                                                )\n",
    "        return cepheids\n",
    "    \n",
    "    def Fitted_Sne(self, Sne, **params):\n",
    "\n",
    "        Sne.loc[:, 'fitted_abs_mag'] = params['m04258'] + params['m04258bias']\n",
    "        for field in self.fields:\n",
    "            Sne.loc[Sne.Host == field, 'fitted_abs_mag'] += params['dmu_'+field]\n",
    "\n",
    "        return Sne\n",
    "    \n",
    "    def ceph_residual(self, cepheids, **params):\n",
    "        cepheids.loc[:,:] = self.Fitted_Mag(cepheids, **params)\n",
    "        result = (self.cepheids.F160Wmag-cepheids.FittedMag)/self.cepheids.e_F160Wmag\n",
    "        return result\n",
    "    \n",
    "    def Sne_residual(self, Sne, **params):\n",
    "        Sne.loc[:,:] = self.Fitted_Sne(Sne, **params)\n",
    "        result = (self.Sne.m0_viPlus5a_v - 5 * 0.698 - self.Sne.fitted_abs_mag)/self.Sne['sigma']\n",
    "        return result\n",
    "\n",
    "    def priors(self, params):\n",
    "        ### A_nu\n",
    "        result = [(params['a_nu'] - 0.698)/0.00225]\n",
    "        result+=[(params['mu_geometric'] - 7.6)/0.3]\n",
    "        for field in (self.fields):\n",
    "            result += [params['R_'+field]/0.2]\n",
    "        #result+=[(params['b'] + 3.3)/0.1]\n",
    "        #result+=[(params['Z'] + .21)/0.09]\n",
    "        #result+=[(params['z_p_n4258'] - 26.36)/0.07]\n",
    "        return array(result)\n",
    "    \n",
    "    def residual(self, params):\n",
    "        Sne_result = self.Sne_residual(self.Sne, **params)\n",
    "        ceph_result = self.ceph_residual(self.cepheids, **params)\n",
    "        prior_result = self.priors(params)\n",
    "        #weights = self.cepheids.IMrms / sum(self.cepheids.IMrms)\n",
    "        result = concatenate((Sne_result, ceph_result, prior_result))\n",
    "        #result = sum(Sne_result)\n",
    "        #result += sum(ceph_result)# /weights)\n",
    "        #result += sum(prior_result)\n",
    "        return result\n",
    "    \n",
    "    def __call__(self):\n",
    "        out = minimize(self.residual, \n",
    "                       self.params,\n",
    "                       scale_covar = False\n",
    "                      #method = 'cg'\n",
    "                       )\n",
    "        self.H0 = 10**(out.params['a_nu'].value + 5 + \n",
    "                       0.2 * (out.params['m04258'].value - 5*log10(out.params['mu_geometric'].value) - 25))\n",
    "        #print  5*log10(out.params['mu_geometric'].value) + 25\n",
    "        self.e_H0 = model.H0 * sqrt((out.params['a_nu'].stderr * log(10))**2 \n",
    "                            + (log(10)/5 *out.params['m04258'].stderr )**2\n",
    "                            + (out.params['mu_geometric'].stderr/out.params['mu_geometric'].value)**2)\n",
    "        return out\n"
   ]
  },
  {
   "cell_type": "code",
   "execution_count": 29,
   "metadata": {
    "collapsed": false
   },
   "outputs": [
    {
     "name": "stdout",
     "output_type": "stream",
     "text": [
      "kept  375 total cepheids\n",
      "removing field n3370\n",
      "H_0 = 73.06 \\pm 3.49\n",
      "z_p_n4258 = 26.22 \\pm 0.09\n",
      "b = -2.94 \\pm 0.06\n",
      "Z = -0.18 \\pm 0.10\n",
      "a_nu = 0.70 \\pm 0.00\n",
      "m04258 = 10.23 \\pm 0.06\n",
      "mu_geometric = 7.60 \\pm 0.30\n",
      "\n",
      "\n",
      "kept  395 total cepheids\n",
      "removing field n4536\n",
      "H_0 = 74.12 \\pm 3.53\n",
      "z_p_n4258 = 26.27 \\pm 0.10\n",
      "b = -2.98 \\pm 0.07\n",
      "Z = -0.30 \\pm 0.10\n",
      "a_nu = 0.70 \\pm 0.00\n",
      "m04258 = 10.26 \\pm 0.06\n",
      "mu_geometric = 7.60 \\pm 0.30\n",
      "\n",
      "\n",
      "kept  422 total cepheids\n",
      "removing field n3982\n",
      "H_0 = 74.83 \\pm 3.58\n",
      "z_p_n4258 = 26.22 \\pm 0.09\n",
      "b = -2.94 \\pm 0.06\n",
      "Z = -0.24 \\pm 0.11\n",
      "a_nu = 0.70 \\pm 0.00\n",
      "m04258 = 10.28 \\pm 0.06\n",
      "mu_geometric = 7.60 \\pm 0.30\n",
      "\n",
      "\n",
      "kept  366 total cepheids\n",
      "removing field n5584\n",
      "H_0 = 72.62 \\pm 3.46\n",
      "z_p_n4258 = 26.25 \\pm 0.09\n",
      "b = -2.96 \\pm 0.06\n",
      "Z = -0.27 \\pm 0.10\n",
      "a_nu = 0.70 \\pm 0.00\n",
      "m04258 = 10.22 \\pm 0.06\n",
      "mu_geometric = 7.60 \\pm 0.30\n",
      "\n",
      "\n",
      "kept  419 total cepheids\n",
      "removing field n4639\n",
      "H_0 = 73.41 \\pm 3.50\n",
      "z_p_n4258 = 26.27 \\pm 0.09\n",
      "b = -2.97 \\pm 0.06\n",
      "Z = -0.23 \\pm 0.10\n",
      "a_nu = 0.70 \\pm 0.00\n",
      "m04258 = 10.24 \\pm 0.06\n",
      "mu_geometric = 7.60 \\pm 0.30\n",
      "\n",
      "\n",
      "kept  412 total cepheids\n",
      "removing field n4038\n",
      "H_0 = 73.83 \\pm 3.49\n",
      "z_p_n4258 = 26.28 \\pm 0.09\n",
      "b = -2.98 \\pm 0.06\n",
      "Z = -0.28 \\pm 0.09\n",
      "a_nu = 0.70 \\pm 0.00\n",
      "m04258 = 10.26 \\pm 0.06\n",
      "mu_geometric = 7.60 \\pm 0.30\n",
      "\n",
      "\n",
      "kept  444 total cepheids\n",
      "keeping all fields\n",
      "H_0 = 73.66 \\pm 3.45\n",
      "z_p_n4258 = 26.25 \\pm 0.09\n",
      "b = -2.96 \\pm 0.06\n",
      "Z = -0.24 \\pm 0.09\n",
      "a_nu = 0.70 \\pm 0.00\n",
      "m04258 = 10.25 \\pm 0.05\n",
      "mu_geometric = 7.60 \\pm 0.30\n",
      "\n",
      "\n",
      "kept  422 total cepheids\n",
      "removing field n3021\n",
      "H_0 = 73.04 \\pm 3.46\n",
      "z_p_n4258 = 26.27 \\pm 0.09\n",
      "b = -2.97 \\pm 0.06\n",
      "Z = -0.22 \\pm 0.10\n",
      "a_nu = 0.70 \\pm 0.00\n",
      "m04258 = 10.23 \\pm 0.06\n",
      "mu_geometric = 7.60 \\pm 0.30\n",
      "\n",
      "\n",
      "kept  414 total cepheids\n",
      "removing field n1309\n",
      "H_0 = 74.27 \\pm 3.54\n",
      "z_p_n4258 = 26.27 \\pm 0.09\n",
      "b = -2.97 \\pm 0.06\n",
      "Z = -0.25 \\pm 0.10\n",
      "a_nu = 0.70 \\pm 0.00\n",
      "m04258 = 10.27 \\pm 0.06\n",
      "mu_geometric = 7.60 \\pm 0.30\n",
      "\n",
      "\n"
     ]
    },
    {
     "data": {
      "text/plain": [
       "<matplotlib.text.Text at 0x10c52c0d0>"
      ]
     },
     "execution_count": 29,
     "metadata": {},
     "output_type": "execute_result"
    },
    {
     "data": {
      "image/png": "[encoded data removed]",
      "text/plain": [
       "<matplotlib.figure.Figure at 0x10c2e4190>"
      ]
     },
     "metadata": {},
     "output_type": "display_data"
    }
   ],
   "source": [
    "fields = set(cepheids.Field)\n",
    "ticks = []\n",
    "hvals = []\n",
    "herr = []\n",
    "for field in fields:\n",
    "    if field != 'n4258':\n",
    "        model = CosmoModel(cepheids, Sne, ignore_field = field)\n",
    "        result = model()\n",
    "        print 'removing field', field\n",
    "        print 'H_0 = %3.2f \\pm %3.2f'%(model.H0, model.e_H0)\n",
    "        hvals.append(model.H0)\n",
    "        herr.append(model.e_H0)\n",
    "        ticks.append(field)\n",
    "        for key in result.params.keys():\n",
    "            if result.params[key].vary == True:\n",
    "                if key[:4] != 'dmu_':\n",
    "                    print '%s = %3.2f \\pm %3.2f'%(key, result.params[key].value, result.params[key].stderr)\n",
    "        print '\\n'\n",
    "        \n",
    "    else:\n",
    "        model = CosmoModel(cepheids, Sne, ignore_field = None)\n",
    "        result = model()\n",
    "        print 'keeping all fields'\n",
    "        print 'H_0 = %3.2f \\pm %3.2f'%(model.H0, model.e_H0)\n",
    "        for key in result.params.keys():\n",
    "            if result.params[key].vary == True:\n",
    "                if key[:4] != 'dmu_':\n",
    "                    print '%s = %3.2f \\pm %3.2f'%(key, result.params[key].value, result.params[key].stderr)\n",
    "        print '\\n'\n",
    "        plot([0,9], [model.H0]*2)\n",
    "errorbar(arange(1,9), hvals, yerr = herr, fmt = 'o')\n",
    "xticks(arange(1,9), ticks)\n",
    "\n",
    "ylabel(r'$H_0  {\\rm km/s/Mpc}$')\n"
   ]
  },
  {
   "cell_type": "code",
   "execution_count": 7,
   "metadata": {
    "collapsed": false
   },
   "outputs": [
    {
     "name": "stdout",
     "output_type": "stream",
     "text": [
      "kept  444 total cepheids\n",
      "H_0 = 73.656 \\pm 3.454\n",
      "\\chi^2 is  440.902881583 on around  444 degrees of freedom\n",
      "reduced chisquare is 1.000\n",
      "z_p_n4258 = 26.253 \\pm 0.089\n",
      "b = -2.961 \\pm 0.060\n",
      "Z = -0.240 \\pm 0.093\n",
      "a_nu = 0.698 \\pm 0.002\n",
      "dmu_n3370 = 2.719 \\pm 0.046\n",
      "dmu_n4536 = 1.552 \\pm 0.043\n",
      "dmu_n3982 = 2.316 \\pm 0.059\n",
      "dmu_n5584 = 2.312 \\pm 0.043\n",
      "dmu_n4639 = 2.276 \\pm 0.059\n",
      "dmu_n4038 = 2.222 \\pm 0.068\n",
      "dmu_n3021 = 2.874 \\pm 0.076\n",
      "dmu_n1309 = 3.126 \\pm 0.056\n",
      "m04258 = 10.250 \\pm 0.054\n",
      "mu_geometric = 7.600 \\pm 0.300\n"
     ]
    }
   ],
   "source": [
    "model = CosmoModel(cepheids, Sne)\n",
    "result = model()\n",
    "print 'H_0 = %3.3f \\pm %3.3f'%(model.H0, model.e_H0)\n",
    "print '\\chi^2 is ', result.chisqr, 'on around %4.0f degrees of freedom'%(model.cepheids.shape[0])\n",
    "print 'reduced chisquare is %3.3f'%(result.chisqr/(model.cepheids.shape[0]+model.Sne.shape[0]+3 - 14))\n",
    "for key in result.params.keys():\n",
    "    if result.params[key].vary == True:\n",
    "        print '%s = %3.3f \\pm %3.3f'%(key, result.params[key].value, result.params[key].stderr)\n"
   ]
  },
  {
   "cell_type": "code",
   "execution_count": 27,
   "metadata": {
    "collapsed": false
   },
   "outputs": [
    {
     "name": "stdout",
     "output_type": "stream",
     "text": [
      "0.322349570964 0.524714717701 4.21052630259\n"
     ]
    }
   ],
   "source": [
    "percent_error = {}\n",
    "for key in result.params.keys():\n",
    "    if result.params[key].value != 0:\n",
    "        percent_error[key] = result.params[key].stderr/result.params[key].value * 100\n",
    "    else:\n",
    "        percent_error[key] = 0\n",
    "print percent_error['a_nu'], percent_error['m04258'], percent_error['mu_geometric']"
   ]
  },
  {
   "cell_type": "code",
   "execution_count": 10,
   "metadata": {
    "collapsed": false
   },
   "outputs": [
    {
     "name": "stderr",
     "output_type": "stream",
     "text": [
      "/Library/Frameworks/Python.framework/Versions/2.7/lib/python2.7/site-packages/ipykernel/__main__.py:1: FutureWarning: sort(columns=....) is deprecated, use sort_values(by=.....)\n",
      "  if __name__ == '__main__':\n"
     ]
    },
    {
     "data": {
      "text/html": [
       "<div>\n",
       "<table border=\"1\" class=\"dataframe\">\n",
       "  <thead>\n",
       "    <tr style=\"text-align: right;\">\n",
       "      <th></th>\n",
       "      <th>Host</th>\n",
       "      <th>junk</th>\n",
       "      <th>Sn1A</th>\n",
       "      <th>Filters</th>\n",
       "      <th>m0_viPlus5a_v</th>\n",
       "      <th>sigma</th>\n",
       "      <th>DeltaMu_0</th>\n",
       "      <th>e_DeltaMu_0</th>\n",
       "      <th>mu_0_Best</th>\n",
       "      <th>e_mu_0_Best</th>\n",
       "      <th>mu_4258</th>\n",
       "    </tr>\n",
       "  </thead>\n",
       "  <tbody>\n",
       "    <tr>\n",
       "      <th>5</th>\n",
       "      <td>n1309</td>\n",
       "      <td>SN</td>\n",
       "      <td>2002fk</td>\n",
       "      <td>BVRI</td>\n",
       "      <td>16.768</td>\n",
       "      <td>0.103</td>\n",
       "      <td>3.276</td>\n",
       "      <td>0.0491</td>\n",
       "      <td>32.59</td>\n",
       "      <td>0.09</td>\n",
       "      <td>29.314</td>\n",
       "    </tr>\n",
       "    <tr>\n",
       "      <th>4</th>\n",
       "      <td>n3021</td>\n",
       "      <td>SN</td>\n",
       "      <td>1995al</td>\n",
       "      <td>UBVRI</td>\n",
       "      <td>16.699</td>\n",
       "      <td>0.113</td>\n",
       "      <td>3.138</td>\n",
       "      <td>0.0870</td>\n",
       "      <td>32.27</td>\n",
       "      <td>0.08</td>\n",
       "      <td>29.132</td>\n",
       "    </tr>\n",
       "    <tr>\n",
       "      <th>2</th>\n",
       "      <td>n3370</td>\n",
       "      <td>SN</td>\n",
       "      <td>1994ae</td>\n",
       "      <td>UBVRI</td>\n",
       "      <td>16.545</td>\n",
       "      <td>0.101</td>\n",
       "      <td>2.835</td>\n",
       "      <td>0.0284</td>\n",
       "      <td>32.13</td>\n",
       "      <td>0.07</td>\n",
       "      <td>29.295</td>\n",
       "    </tr>\n",
       "    <tr>\n",
       "      <th>3</th>\n",
       "      <td>n3982</td>\n",
       "      <td>SN</td>\n",
       "      <td>1998aq</td>\n",
       "      <td>UBVRI</td>\n",
       "      <td>15.953</td>\n",
       "      <td>0.091</td>\n",
       "      <td>2.475</td>\n",
       "      <td>0.0460</td>\n",
       "      <td>31.70</td>\n",
       "      <td>0.08</td>\n",
       "      <td>29.225</td>\n",
       "    </tr>\n",
       "    <tr>\n",
       "      <th>7</th>\n",
       "      <td>n4038</td>\n",
       "      <td>SN</td>\n",
       "      <td>2007sr</td>\n",
       "      <td>BVRI</td>\n",
       "      <td>15.901</td>\n",
       "      <td>0.137</td>\n",
       "      <td>2.396</td>\n",
       "      <td>0.0567</td>\n",
       "      <td>31.66</td>\n",
       "      <td>0.08</td>\n",
       "      <td>29.264</td>\n",
       "    </tr>\n",
       "    <tr>\n",
       "      <th>0</th>\n",
       "      <td>n4536</td>\n",
       "      <td>SN</td>\n",
       "      <td>1981B</td>\n",
       "      <td>UBVR</td>\n",
       "      <td>15.147</td>\n",
       "      <td>0.145</td>\n",
       "      <td>1.567</td>\n",
       "      <td>0.0404</td>\n",
       "      <td>30.91</td>\n",
       "      <td>0.07</td>\n",
       "      <td>29.343</td>\n",
       "    </tr>\n",
       "    <tr>\n",
       "      <th>1</th>\n",
       "      <td>n4639</td>\n",
       "      <td>SN</td>\n",
       "      <td>1990N</td>\n",
       "      <td>UBVRI</td>\n",
       "      <td>16.040</td>\n",
       "      <td>0.111</td>\n",
       "      <td>2.383</td>\n",
       "      <td>0.0630</td>\n",
       "      <td>31.67</td>\n",
       "      <td>0.08</td>\n",
       "      <td>29.287</td>\n",
       "    </tr>\n",
       "    <tr>\n",
       "      <th>6</th>\n",
       "      <td>n5584</td>\n",
       "      <td>SN</td>\n",
       "      <td>2007af</td>\n",
       "      <td>BVRI</td>\n",
       "      <td>16.274</td>\n",
       "      <td>0.122</td>\n",
       "      <td>2.461</td>\n",
       "      <td>0.0401</td>\n",
       "      <td>31.72</td>\n",
       "      <td>0.07</td>\n",
       "      <td>29.259</td>\n",
       "    </tr>\n",
       "  </tbody>\n",
       "</table>\n",
       "</div>"
      ],
      "text/plain": [
       "    Host junk    Sn1A Filters  m0_viPlus5a_v  sigma  DeltaMu_0  e_DeltaMu_0  \\\n",
       "5  n1309   SN  2002fk    BVRI         16.768  0.103      3.276       0.0491   \n",
       "4  n3021   SN  1995al   UBVRI         16.699  0.113      3.138       0.0870   \n",
       "2  n3370   SN  1994ae   UBVRI         16.545  0.101      2.835       0.0284   \n",
       "3  n3982   SN  1998aq   UBVRI         15.953  0.091      2.475       0.0460   \n",
       "7  n4038   SN  2007sr    BVRI         15.901  0.137      2.396       0.0567   \n",
       "0  n4536   SN   1981B    UBVR         15.147  0.145      1.567       0.0404   \n",
       "1  n4639   SN   1990N   UBVRI         16.040  0.111      2.383       0.0630   \n",
       "6  n5584   SN  2007af    BVRI         16.274  0.122      2.461       0.0401   \n",
       "\n",
       "   mu_0_Best  e_mu_0_Best  mu_4258  \n",
       "5      32.59         0.09   29.314  \n",
       "4      32.27         0.08   29.132  \n",
       "2      32.13         0.07   29.295  \n",
       "3      31.70         0.08   29.225  \n",
       "7      31.66         0.08   29.264  \n",
       "0      30.91         0.07   29.343  \n",
       "1      31.67         0.08   29.287  \n",
       "6      31.72         0.07   29.259  "
      ]
     },
     "execution_count": 10,
     "metadata": {},
     "output_type": "execute_result"
    },
    {
     "data": {
      "image/png": "[encoded data removed]",
      "text/plain": [
       "<matplotlib.figure.Figure at 0x10c2cc790>"
      ]
     },
     "metadata": {},
     "output_type": "display_data"
    }
   ],
   "source": [
    "Sne = Sne.sort('Host')\n",
    "Sne.loc[:,'mu_4258'] = Sne.mu_0_Best.values - Sne.DeltaMu_0.values\n",
    "true_dist = 5*log10(7.6) + 25\n",
    "error = Sne.e_mu_0_Best\n",
    "errorbar(arange(1,9), Sne.mu_4258-true_dist, yerr= error, fmt = 'o')\n",
    "#errorbar(arange(1,9), values - SneMerged.ddmu, yerr= error, fmt = 'o')\n",
    "#fill_between([0,9], \n",
    "#             [5*log10(result.params['mu_geometric'].value + result.params['mu_geometric'].stderr) + 25]*2, \n",
    "#            y2 = [5*log10(result.params['mu_geometric'].value - result.params['mu_geometric'].stderr) + 25]*2,\n",
    "#             color = 'g',\n",
    "#             alpha = 0.5\n",
    "#            )\n",
    "plot([0,9], [mean(Sne.mu_4258)-true_dist]*2, label = 'mean of data')\n",
    "plot([0,9], [5*log10(7.2) + 25-true_dist]*2, label = '1999 value')\n",
    "plot([0,9], [5*log10(7.6) + 25-true_dist]*2, label = '2013 value')\n",
    "ylabel (r'$\\mu_{4258}-{\\mu}_{4258}^{\\rm maser 2013}$', fontsize = 16)\n",
    "xlim(0,9)\n",
    "legend(loc = 4)\n",
    "xticks(arange(1,9),Sne.Host.values);\n",
    "Sne"
   ]
  },
  {
   "cell_type": "code",
   "execution_count": 11,
   "metadata": {
    "collapsed": false
   },
   "outputs": [
    {
     "data": {
      "image/png": "[encoded data removed]",
      "text/plain": [
       "<matplotlib.figure.Figure at 0x10c53ca50>"
      ]
     },
     "metadata": {},
     "output_type": "display_data"
    }
   ],
   "source": [
    "features = ['Period', 'VtoI', 'F160Wmag', 'Bias', 'ObyH']\n",
    "\n",
    "averages = dict((el, [] ) for el in features)\n",
    "averages['ddmu'] = []\n",
    "averages = pd.DataFrame(averages)\n",
    "#print averages\n",
    "count = 1\n",
    "for i,field in enumerate(model.fields):\n",
    "    if field != 'n4258':\n",
    "        subframe = model.cepheids.loc[model.cepheids.Field == field, features]\n",
    "        dmuR11 = Sne.loc[Sne.Host == field, 'DeltaMu_0'].values\n",
    "        dmuMe = result.params['dmu_'+field]\n",
    "        #print field, count, dmuR11 - dmuMe\n",
    "        #subframe.loc[:,'d_dmu'] = [dmuR11 - dmuMe]*subframe.loc[:,'Period'].values.size\n",
    "        meandict = subframe.mean().to_dict()\n",
    "        meandict['ddmu'] = dmuR11 - dmuMe \n",
    "        meandict['Host'] = field\n",
    "        #print count, meandict\n",
    "        meanframe = pd.DataFrame(meandict, index = [i])\n",
    "        #if count == 3: print meanframe \n",
    "        count = count + 1\n",
    "        averages= averages.append(meanframe)\n",
    "    \n",
    "averages = averages.sort_values(by = 'Host')\n",
    "averages.loc[:,'ddmu'] = averages.loc[:,'ddmu'] \n",
    "errorbar(arange(1,9), -averages.ddmu.values, yerr = Sne.e_DeltaMu_0, fmt = 'o')\n",
    "plot([0,9], [mean(-averages.ddmu.values)]*2)\n",
    "xlabel ('Galaxy', fontsize = 12)\n",
    "ylabel (r'$\\delta \\mu_{\\rm me} - \\delta \\mu_ {\\rm R11}$', fontsize = 16)\n",
    "xticks(arange(1,9),averages.Host.values)\n",
    "xlim(0, 9);"
   ]
  },
  {
   "cell_type": "code",
   "execution_count": 12,
   "metadata": {
    "collapsed": false
   },
   "outputs": [
    {
     "data": {
      "image/png": "[encoded data removed]",
      "text/plain": [
       "<matplotlib.figure.Figure at 0x10c10c650>"
      ]
     },
     "metadata": {},
     "output_type": "display_data"
    }
   ],
   "source": [
    "SneMerged = pd.merge(Sne,averages, on = 'Host')\n",
    "errorbar(arange(1,9), SneMerged.mu_4258 + SneMerged.ddmu - true_dist, yerr = SneMerged.e_DeltaMu_0, fmt = 'o')\n",
    "xticks(arange(1,9), SneMerged.Host.values)\n",
    "xlim(0,9);\n"
   ]
  },
  {
   "cell_type": "code",
   "execution_count": 13,
   "metadata": {
    "collapsed": false
   },
   "outputs": [
    {
     "data": {
      "text/plain": [
       "n3370    24.509710\n",
       "n4536    24.046122\n",
       "n3982    24.622273\n",
       "n5584    24.301795\n",
       "n4639    24.275200\n",
       "n4038    23.672812\n",
       "n3021    24.830000\n",
       "n1309    24.700667\n",
       "Name: F160Wmag, dtype: float64"
      ]
     },
     "execution_count": 13,
     "metadata": {},
     "output_type": "execute_result"
    }
   ],
   "source": [
    "features = ['Period', 'VtoI', 'F160Wmag', 'Bias', 'ObyH']\n",
    "\n",
    "averages = dict((el, [] ) for el in features)\n",
    "averages['ddmu'] = []\n",
    "averages = pd.DataFrame(averages)#, index = arange(1) )\n",
    "#print averages\n",
    "count = 1\n",
    "for field in model.fields:\n",
    "    if field != 'n4258':\n",
    "        subframe = model.cepheids.loc[model.cepheids.Field == field, features]\n",
    "        dmuR11 = Sne.loc[Sne.Host == field, 'DeltaMu_0'].values\n",
    "        dmuMe = result.params['dmu_'+field]\n",
    "        #print field, count, dmuR11 - dmuMe\n",
    "        #subframe.loc[:,'d_dmu'] = [dmuR11 - dmuMe]*subframe.loc[:,'Period'].values.size\n",
    "        meandict = subframe.mean().to_dict()\n",
    "        meandict['ddmu'] = dmuR11 - dmuMe\n",
    "        #print count, meandict\n",
    "        meanframe = pd.DataFrame(meandict, index = [field])\n",
    "        #if count == 3: print meanframe \n",
    "        count = count + 1\n",
    "        averages= averages.append(meanframe)\n",
    "    \n",
    "#averages = averages.loc[1:, :]\n",
    "param1 = []\n",
    "param2 = []\n",
    "#for key in field_averages.keys():\n",
    "#    param1.append(field_averages[key].VtoI)\n",
    "#    params2.append(field_averages[])\n",
    "averages.corr()\n",
    "averages.F160Wmag"
   ]
  },
  {
   "cell_type": "code",
   "execution_count": 14,
   "metadata": {
    "collapsed": false
   },
   "outputs": [
    {
     "name": "stdout",
     "output_type": "stream",
     "text": [
      "Field\tR11 vs Me\tR11 Error\tMy Error\n",
      "n3370\t-0.116496\t0.028400\t0.045186\n",
      "n4536\t-0.014866\t0.040400\t0.042891\n",
      "n3982\t-0.158523\t0.046000\t0.058033\n",
      "n5584\t-0.148592\t0.040100\t0.042639\n",
      "n4639\t-0.107415\t0.063000\t0.058034\n",
      "n4038\t-0.173975\t0.056700\t0.067770\n",
      "n3021\t-0.263735\t0.087000\t0.074824\n",
      "n1309\t-0.149708\t0.049100\t0.055896\n",
      "mean offset is -0.141663654355\n"
     ]
    }
   ],
   "source": [
    "print 'Field\\tR11 vs Me\\tR11 Error\\tMy Error'\n",
    "residual_difference = 0\n",
    "for key in result.params.keys():\n",
    "    if key[0:3] == 'dmu':\n",
    "        if key != 'dmu_n4258':\n",
    "            dmeR11 = (result.params[key].value \n",
    "                      - Sne.loc[Sne['Host']==key[4:],'DeltaMu_0'].values\n",
    "                      + result.params['m04258bias']\n",
    "                      )\n",
    "            residual_difference += dmeR11\n",
    "            print '%s\\t%f\\t%f\\t%f'%(key[4:], \n",
    "                dmeR11, \n",
    "                (Sne.loc[Sne['Host']==key[4:], 'e_DeltaMu_0'].values),\n",
    "                result.params[key].stderr\n",
    "                               )\n",
    "print 'mean offset is', residual_difference[0]/8"
   ]
  },
  {
   "cell_type": "code",
   "execution_count": 15,
   "metadata": {
    "collapsed": false
   },
   "outputs": [
    {
     "name": "stdout",
     "output_type": "stream",
     "text": [
      "param \t \t value \t \t error \t \t % error\n",
      "z_p_n4258 \t 26.253080 \t 0.087733 \t 0.334183\n",
      "b\t \t -2.961105 \t 0.059549 \t 2.011028\n",
      "Z\t \t -0.240323 \t 0.092143 \t 38.341245\n",
      "a_nu\t \t 0.698000 \t 0.002230 \t 0.319430\n",
      "dmu_n3370 \t 2.718504 \t 0.045186 \t 1.662149\n",
      "dmu_n4536 \t 1.552134 \t 0.042891 \t 2.763331\n",
      "dmu_n3982 \t 2.316477 \t 0.058033 \t 2.505247\n",
      "dmu_n5584 \t 2.312408 \t 0.042639 \t 1.843927\n",
      "dmu_n4639 \t 2.275585 \t 0.058034 \t 2.550298\n",
      "dmu_n4038 \t 2.222025 \t 0.067770 \t 3.049924\n",
      "dmu_n3021 \t 2.874265 \t 0.074824 \t 2.603237\n",
      "dmu_n1309 \t 3.126292 \t 0.055896 \t 1.787942\n",
      "m04258\t \t 10.250109 \t 0.053297 \t 0.519962\n",
      "mu_geometric \t 7.600000 \t 0.317101 \t 4.172388\n",
      "H_0       \t 73.656003 \t 3.585503 \t 0.048679\n"
     ]
    }
   ],
   "source": [
    "print 'param \\t \\t value \\t \\t error \\t \\t % error'\n",
    "for key in result.params.keys():\n",
    "    if len(key)< 8: \n",
    "        disp_key = '%s\\t'%key\n",
    "    else:\n",
    "        disp_key = key\n",
    "    if result.params[key].vary != False:\n",
    "        print '%s \\t %f \\t %f \\t %f'%(disp_key, \n",
    "                                   result.params[key].value, \n",
    "                                   result.params[key].stderr, \n",
    "                                   abs(result.params[key].stderr/result.params[key].value)*100\n",
    "                                  )\n",
    "\n",
    "H_0_error = model.H0 * sqrt((result.params['a_nu'].stderr * log(10))**2 \n",
    "                            + (log(10)/5 *result.params['m04258'].stderr )**2\n",
    "                            + (result.params['mu_geometric'].stderr/result.params['mu_geometric'].value)**2)\n",
    "\n",
    "H_0_frac_error = H_0_error/model.H0\n",
    "print '%s \\t %f \\t %f \\t %f'%('H_0      ',model.H0,H_0_error , H_0_frac_error)"
   ]
  },
  {
   "cell_type": "code",
   "execution_count": 16,
   "metadata": {
    "collapsed": false,
    "scrolled": false
   },
   "outputs": [
    {
     "name": "stdout",
     "output_type": "stream",
     "text": [
      "0.988198412638 0.124034734589\n",
      "1.3042014685 0.1490711985\n",
      "1.37870802324 0.235702260396\n",
      "1.10367278794 0.116247638744\n",
      "1.48339738047 0.218217890236\n",
      "1.1362440982 0.188982236505\n",
      "0.987510394535 0.0940720868384\n",
      "0.903957787281 0.235702260396\n",
      "0.913918507065 0.196116135138\n"
     ]
    },
    {
     "data": {
      "image/png": "[encoded data removed]",
      "text/plain": [
       "<matplotlib.figure.Figure at 0x10c2e4190>"
      ]
     },
     "metadata": {},
     "output_type": "display_data"
    },
    {
     "data": {
      "image/png": "[encoded data removed]",
      "text/plain": [
       "<matplotlib.figure.Figure at 0x10cc2fc90>"
      ]
     },
     "metadata": {},
     "output_type": "display_data"
    },
    {
     "data": {
      "image/png": "[encoded data removed]",
      "text/plain": [
       "<matplotlib.figure.Figure at 0x10cceae50>"
      ]
     },
     "metadata": {},
     "output_type": "display_data"
    },
    {
     "data": {
      "image/png": "[encoded data removed]",
      "text/plain": [
       "<matplotlib.figure.Figure at 0x10cd98b50>"
      ]
     },
     "metadata": {},
     "output_type": "display_data"
    },
    {
     "data": {
      "image/png": "[encoded data removed]",
      "text/plain": [
       "<matplotlib.figure.Figure at 0x10ce3cc50>"
      ]
     },
     "metadata": {},
     "output_type": "display_data"
    },
    {
     "data": {
      "image/png": "[encoded data removed]",
      "text/plain": [
       "<matplotlib.figure.Figure at 0x10ce95610>"
      ]
     },
     "metadata": {},
     "output_type": "display_data"
    },
    {
     "data": {
      "image/png": "[encoded data removed]",
      "text/plain": [
       "<matplotlib.figure.Figure at 0x10cf93790>"
      ]
     },
     "metadata": {},
     "output_type": "display_data"
    },
    {
     "data": {
      "image/png": "[encoded data removed]",
      "text/plain": [
       "<matplotlib.figure.Figure at 0x10c9a5d90>"
      ]
     },
     "metadata": {},
     "output_type": "display_data"
    },
    {
     "data": {
      "image/png": "[encoded data removed]",
      "text/plain": [
       "<matplotlib.figure.Figure at 0x10c766690>"
      ]
     },
     "metadata": {},
     "output_type": "display_data"
    }
   ],
   "source": [
    "fields = set(model.cepheids.Field)\n",
    "for i, field in enumerate(fields):\n",
    "    figure()\n",
    "    x = log10(model.cepheids.loc[model.cepheids.Field == field, 'Period'])\n",
    "    #result.params['b'].value * log10(model.cepheids.loc[model.cepheids.Field == field, 'Period'].values)\n",
    "    y = (model.cepheids.loc[model.cepheids.Field ==field, 'F160Wmag'].values \n",
    "         -result.params['R'] * model.cepheids.loc[model.cepheids.Field == field, 'VtoI']\n",
    "         -result.params['R_'+field] * model.cepheids.loc[model.cepheids.Field == field, 'VtoI']\n",
    "         -result.params['Q'] * model.cepheids.loc[model.cepheids.Field == field, 'Bias']\n",
    "         -(result.params['b'] * x + result.params['z_p_n4258'] + result.params['dmu_%s'%field])\n",
    "        )\n",
    "    yerr = model.cepheids.loc[model.cepheids.Field ==field, 'e_F160Wmag'].values\n",
    "                                    \n",
    "    errorbar(x , y , yerr= yerr, label = field, fmt = 'o')\n",
    "    print sum((y/yerr)**2)/(x.size - 4), 1/sqrt(x.size - 4)\n",
    "    legend(loc = 4)\n",
    "    x = array([min(x), max(x)])\n",
    "    plot(x, x * 0)\n",
    "    #plot(x, result.params['b'] * x + result.params['z_p_n4258'] + result.params['dmu_%s'%field])\n",
    "    gca().invert_yaxis()\n",
    "    #xlim(0.4, 2.5)\n",
    "    #ylim(20,30)\n",
    "    \n",
    "    "
   ]
  },
  {
   "cell_type": "code",
   "execution_count": 17,
   "metadata": {
    "collapsed": false
   },
   "outputs": [
    {
     "data": {
      "text/plain": [
       "Parameters([('z_p_n4258',\n",
       "             <Parameter 'z_p_n4258', value=26.253080206746244 +/- 0.0877, bounds=[-inf:inf]>),\n",
       "            ('b',\n",
       "             <Parameter 'b', value=-2.9611047267124357 +/- 0.0595, bounds=[-inf:inf]>),\n",
       "            ('Z',\n",
       "             <Parameter 'Z', value=-0.24032302752933518 +/- 0.0921, bounds=[-inf:inf]>),\n",
       "            ('a_nu',\n",
       "             <Parameter 'a_nu', value=0.69799999999999995 +/- 0.00223, bounds=[-inf:inf]>),\n",
       "            ('dmu_n3370',\n",
       "             <Parameter 'dmu_n3370', value=2.7185039700043925 +/- 0.0452, bounds=[-inf:inf]>),\n",
       "            ('R_n3370',\n",
       "             <Parameter 'R_n3370', value=0 (fixed), bounds=[-inf:inf]>),\n",
       "            ('dmu_n4536',\n",
       "             <Parameter 'dmu_n4536', value=1.5521338813856405 +/- 0.0429, bounds=[-inf:inf]>),\n",
       "            ('R_n4536',\n",
       "             <Parameter 'R_n4536', value=0 (fixed), bounds=[-inf:inf]>),\n",
       "            ('dmu_n3982',\n",
       "             <Parameter 'dmu_n3982', value=2.3164771686476722 +/- 0.058, bounds=[-inf:inf]>),\n",
       "            ('R_n3982',\n",
       "             <Parameter 'R_n3982', value=0 (fixed), bounds=[-inf:inf]>),\n",
       "            ('dmu_n5584',\n",
       "             <Parameter 'dmu_n5584', value=2.3124080853014646 +/- 0.0426, bounds=[-inf:inf]>),\n",
       "            ('R_n5584',\n",
       "             <Parameter 'R_n5584', value=0 (fixed), bounds=[-inf:inf]>),\n",
       "            ('dmu_n4639',\n",
       "             <Parameter 'dmu_n4639', value=2.2755851233565121 +/- 0.058, bounds=[-inf:inf]>),\n",
       "            ('R_n4639',\n",
       "             <Parameter 'R_n4639', value=0 (fixed), bounds=[-inf:inf]>),\n",
       "            ('dmu_n4038',\n",
       "             <Parameter 'dmu_n4038', value=2.2220254740412755 +/- 0.0678, bounds=[-inf:inf]>),\n",
       "            ('R_n4038',\n",
       "             <Parameter 'R_n4038', value=0 (fixed), bounds=[-inf:inf]>),\n",
       "            ('dmu_n4258',\n",
       "             <Parameter 'dmu_n4258', value=0 (fixed), bounds=[-inf:inf]>),\n",
       "            ('R_n4258',\n",
       "             <Parameter 'R_n4258', value=0 (fixed), bounds=[-inf:inf]>),\n",
       "            ('dmu_n3021',\n",
       "             <Parameter 'dmu_n3021', value=2.8742648427528126 +/- 0.0748, bounds=[-inf:inf]>),\n",
       "            ('R_n3021',\n",
       "             <Parameter 'R_n3021', value=0 (fixed), bounds=[-inf:inf]>),\n",
       "            ('dmu_n1309',\n",
       "             <Parameter 'dmu_n1309', value=3.1262922196723952 +/- 0.0559, bounds=[-inf:inf]>),\n",
       "            ('R_n1309',\n",
       "             <Parameter 'R_n1309', value=0 (fixed), bounds=[-inf:inf]>),\n",
       "            ('m04258',\n",
       "             <Parameter 'm04258', value=10.250108713260458 +/- 0.0533, bounds=[-inf:inf]>),\n",
       "            ('m04258bias',\n",
       "             <Parameter 'm04258bias', value=0 (fixed), bounds=[-inf:inf]>),\n",
       "            ('mu_geometric',\n",
       "             <Parameter 'mu_geometric', value=7.5999999999999996 +/- 0.317, bounds=[-inf:inf]>),\n",
       "            ('R', <Parameter 'R', value=0.41 (fixed), bounds=[-inf:inf]>),\n",
       "            ('R2', <Parameter 'R2', value=0 (fixed), bounds=[-inf:inf]>),\n",
       "            ('Q', <Parameter 'Q', value=0 (fixed), bounds=[-inf:inf]>)])"
      ]
     },
     "execution_count": 17,
     "metadata": {},
     "output_type": "execute_result"
    }
   ],
   "source": [
    "result.params"
   ]
  },
  {
   "cell_type": "code",
   "execution_count": 18,
   "metadata": {
    "collapsed": false
   },
   "outputs": [],
   "source": [
    "newcepheids = cepheids.sort_values(by = 'IMrms')\n",
    "newcepheids = newcepheids.loc[newcepheids.Flag == '-',:]\n",
    "newcepheids.index = arange(newcepheids.shape[0])\n",
    "#newcepheids"
   ]
  },
  {
   "cell_type": "code",
   "execution_count": 19,
   "metadata": {
    "collapsed": false
   },
   "outputs": [
    {
     "name": "stdout",
     "output_type": "stream",
     "text": [
      "(0.089999999999999997, 3.1699999999999999)\n",
      "kept   48 total cepheids\n",
      "H_0 = 70.85 \\pm 9.20\n",
      "z_p_n4258 = 26.96 \\pm 0.30\n",
      "b = -3.37 \\pm 0.19\n",
      "Z = 0.21 \\pm 0.22\n",
      "a_nu = 0.70 \\pm 0.00\n",
      "m04258 = 10.17 \\pm 0.27\n",
      "mu_geometric = 7.60 \\pm 0.31\n",
      "\n",
      "\n",
      "(3.1699999999999999, 7.3499999999999996)\n",
      "kept   48 total cepheids\n",
      "H_0 = 71.40 \\pm 4.32\n",
      "z_p_n4258 = 26.14 \\pm 0.27\n",
      "b = -2.95 \\pm 0.18\n",
      "Z = -0.37 \\pm 0.23\n",
      "a_nu = 0.70 \\pm 0.00\n",
      "m04258 = 10.18 \\pm 0.10\n",
      "mu_geometric = 7.60 \\pm 0.31\n",
      "\n",
      "\n",
      "(7.3499999999999996, 10.800000000000001)\n",
      "kept   46 total cepheids\n",
      "H_0 = 76.02 \\pm 5.24\n",
      "z_p_n4258 = 26.44 \\pm 0.42\n",
      "b = -3.02 \\pm 0.24\n",
      "Z = -0.18 \\pm 0.29\n",
      "a_nu = 0.70 \\pm 0.00\n",
      "m04258 = 10.32 \\pm 0.12\n",
      "mu_geometric = 7.60 \\pm 0.32\n",
      "\n",
      "\n",
      "(10.800000000000001, 16.300000000000001)\n",
      "kept   48 total cepheids\n",
      "H_0 = 67.30 \\pm 4.99\n",
      "z_p_n4258 = 26.95 \\pm 0.32\n",
      "b = -3.52 \\pm 0.22\n",
      "Z = 0.49 \\pm 0.34\n",
      "a_nu = 0.70 \\pm 0.00\n",
      "m04258 = 10.05 \\pm 0.14\n",
      "mu_geometric = 7.60 \\pm 0.29\n",
      "\n",
      "\n",
      "(16.300000000000001, 20.899999999999999)\n",
      "kept   47 total cepheids\n",
      "H_0 = 75.83 \\pm 4.76\n",
      "z_p_n4258 = 26.50 \\pm 0.26\n",
      "b = -3.11 \\pm 0.19\n",
      "Z = 0.10 \\pm 0.30\n",
      "a_nu = 0.70 \\pm 0.00\n",
      "m04258 = 10.31 \\pm 0.11\n",
      "mu_geometric = 7.60 \\pm 0.28\n",
      "\n",
      "\n",
      "(20.899999999999999, 29.300000000000001)\n",
      "kept   48 total cepheids\n",
      "H_0 = 87.08 \\pm 5.59\n",
      "z_p_n4258 = 26.17 \\pm 0.22\n",
      "b = -2.74 \\pm 0.14\n",
      "Z = 0.09 \\pm 0.38\n",
      "a_nu = 0.70 \\pm 0.00\n",
      "m04258 = 10.61 \\pm 0.11\n",
      "mu_geometric = 7.60 \\pm 0.29\n",
      "\n",
      "\n",
      "(29.300000000000001, 44.100000000000001)\n",
      "kept   47 total cepheids\n",
      "H_0 = 75.37 \\pm 5.96\n",
      "z_p_n4258 = 26.46 \\pm 0.32\n",
      "b = -3.14 \\pm 0.25\n",
      "Z = -0.39 \\pm 0.44\n",
      "a_nu = 0.70 \\pm 0.00\n",
      "m04258 = 10.30 \\pm 0.15\n",
      "mu_geometric = 7.60 \\pm 0.28\n",
      "\n",
      "\n",
      "(44.100000000000001, 95.5)\n",
      "kept   47 total cepheids\n",
      "H_0 = 82.52 \\pm 6.51\n",
      "z_p_n4258 = 25.68 \\pm 0.29\n",
      "b = -2.52 \\pm 0.22\n",
      "Z = -0.42 \\pm 0.59\n",
      "a_nu = 0.70 \\pm 0.00\n",
      "m04258 = 10.50 \\pm 0.15\n",
      "mu_geometric = 7.60 \\pm 0.26\n",
      "\n",
      "\n",
      "(95.5, inf)\n",
      "kept   49 total cepheids\n",
      "H_0 = 74.23 \\pm 9.03\n",
      "z_p_n4258 = 26.15 \\pm 0.27\n",
      "b = -2.97 \\pm 0.18\n",
      "Z = -0.10 \\pm 1.14\n",
      "a_nu = 0.70 \\pm 0.00\n",
      "m04258 = 10.27 \\pm 0.25\n",
      "mu_geometric = 7.60 \\pm 0.26\n",
      "\n",
      "\n"
     ]
    }
   ],
   "source": [
    "indices = linspace(0, newcepheids.shape[0], 10).astype('int')\n",
    "\n",
    "cuts = zip(roll(newcepheids.loc[indices, 'IMrms'].values, 1), newcepheids.loc[indices, 'IMrms'].values)[1:]\n",
    "hvals = []\n",
    "herr = []\n",
    "cutlist = []\n",
    "for cut in cuts:\n",
    "    if not isfinite(cut[1]):\n",
    "        cut = (cut[0], inf)\n",
    "    if not isfinite(cut[0]):\n",
    "        cut = (0, cut[1])\n",
    "    #cut = (0, cut[1])\n",
    "    print cut\n",
    "    #print 'removing cephieds with IM_RMS %3.3f to %3.3f'%(cepheids.loc[i, 'IMrms'], cepheids.loc[i+1, 'IMrms'])\n",
    "    #newcephs = cepheids.drop(cepheids.index[arange(i,i+1)])\n",
    "    model = CosmoModel(newcepheids, Sne, IMrms_cut = array(cut), flip_cut = False)\n",
    "    result = model()\n",
    "    print 'H_0 = %3.2f \\pm %3.2f'%(model.H0, model.e_H0)\n",
    "    hvals.append(model.H0)\n",
    "    herr.append(model.e_H0)\n",
    "    cutlist.append(cut[0])\n",
    "    for key in result.params.keys():\n",
    "        if result.params[key].vary == True:\n",
    "            if key[:4] != 'dmu_':\n",
    "                print '%s = %3.2f \\pm %3.2f'%(key, result.params[key].value, result.params[key].stderr)\n",
    "    print '\\n'"
   ]
  },
  {
   "cell_type": "code",
   "execution_count": 20,
   "metadata": {
    "collapsed": false
   },
   "outputs": [
    {
     "name": "stdout",
     "output_type": "stream",
     "text": [
      "kept  444 total cepheids\n",
      "10.0043891536\n"
     ]
    },
    {
     "data": {
      "text/plain": [
       "(0, 9)"
      ]
     },
     "execution_count": 20,
     "metadata": {},
     "output_type": "execute_result"
    },
    {
     "data": {
      "image/png": "[encoded data removed]",
      "text/plain": [
       "<matplotlib.figure.Figure at 0x10c7666d0>"
      ]
     },
     "metadata": {},
     "output_type": "display_data"
    }
   ],
   "source": [
    "errorbar(arange(0.5, len(hvals)), hvals, yerr = herr, fmt = 'o')\n",
    "model = CosmoModel(newcepheids, Sne)\n",
    "result = model()\n",
    "xvals = arange(-1, len(hvals)+1)\n",
    "yvals = [model.H0] *xvals.size       \n",
    "plot(xvals,yvals, color = 'g')\n",
    "chi2val = (model.H0- array(hvals[:-1]))/array(herr[:-1])\n",
    "#print 'chi2 is %3.2f'%chi2val\n",
    "print sum(chi2val[1:]**2)\n",
    "cutlist.append(r'$\\infty$')\n",
    "ylabel(r'$H_0 {\\rm \\, \\,[km/s/Mpc]}$', fontsize = 18)\n",
    "xlabel(r'${\\rm Im}_{\\rm rms} {\\rm \\, cut}$', fontsize = 16)\n",
    "xticks(arange(len(hvals)+1),cutlist, rotation = 90)\n",
    "xlim((0, len(hvals) ))\n"
   ]
  },
  {
   "cell_type": "code",
   "execution_count": null,
   "metadata": {
    "collapsed": false
   },
   "outputs": [],
   "source": []
  },
  {
   "cell_type": "code",
   "execution_count": null,
   "metadata": {
    "collapsed": true
   },
   "outputs": [],
   "source": []
  },
  {
   "cell_type": "code",
   "execution_count": null,
   "metadata": {
    "collapsed": true
   },
   "outputs": [],
   "source": []
  },
  {
   "cell_type": "code",
   "execution_count": null,
   "metadata": {
    "collapsed": true
   },
   "outputs": [],
   "source": []
  }
 ],
 "metadata": {
  "kernelspec": {
   "display_name": "Python 2",
   "language": "python",
   "name": "python2"
  },
  "language_info": {
   "codemirror_mode": {
    "name": "ipython",
    "version": 2
   },
   "file_extension": ".py",
   "mimetype": "text/x-python",
   "name": "python",
   "nbconvert_exporter": "python",
   "pygments_lexer": "ipython2",
   "version": "2.7.11"
  }
 },
 "nbformat": 4,
 "nbformat_minor": 0
}
