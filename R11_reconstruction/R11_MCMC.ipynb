{
 "cells": [
  {
   "cell_type": "code",
   "execution_count": 1,
   "metadata": {
    "collapsed": false
   },
   "outputs": [
    {
     "name": "stdout",
     "output_type": "stream",
     "text": [
      "Using matplotlib backend: MacOSX\n",
      "Populating the interactive namespace from numpy and matplotlib\n"
     ]
    }
   ],
   "source": [
    "%pylab\n",
    "%matplotlib inline\n",
    "rc('text', usetex = True)"
   ]
  },
  {
   "cell_type": "code",
   "execution_count": 2,
   "metadata": {
    "collapsed": false
   },
   "outputs": [],
   "source": [
    "import pyfits as fits\n",
    "from numpy import polyfit\n",
    "from astropy.utils.data import download_file\n",
    "import pandas as pd\n",
    "from lmfit import Parameters, minimize, Minimizer"
   ]
  },
  {
   "cell_type": "code",
   "execution_count": 3,
   "metadata": {
    "collapsed": false
   },
   "outputs": [],
   "source": [
    "### Download data\n",
    "\n",
    "\n",
    "### Cepheid table\n",
    "cepheid_table = download_file(\n",
    "        'http://iopscience.iop.org/0004-637X/730/2/119/suppdata/apj383673t2_mrt.txt', \n",
    "        cache = True)\n",
    "cepheids = pd.read_csv(cepheid_table,\n",
    "                       delim_whitespace = True,\n",
    "                       skiprows = 39,\n",
    "                       names = (['Field', 'RAdeg', \n",
    "                                 'DEdeg', 'ID', \n",
    "                                 'Period', 'VtoI', \n",
    "                                 'F160Wmag', 'e_F160Wmag',\n",
    "                                 'Offset', 'Bias', \n",
    "                                 'IMrms', 'ObyH', 'Flag']\n",
    "                               )\n",
    "                      )\n",
    "\n",
    "cepheids=cepheids.fillna(value = '-')\n",
    "### SNe table\n",
    "Sne_table = download_file(\n",
    "        'http://iopscience.iop.org/0004-637X/730/2/119/suppdata/apj383673t3_ascii.txt',\n",
    "        cache = True)\n",
    "Sne = pd.read_csv(Sne_table, \n",
    "                   \n",
    "                  delim_whitespace=True, \n",
    "                  skiprows = [0,1,2,3,4,13,15],\n",
    "                  names = (['Host', 'junk','Sn1A',\n",
    "                            'Filters', 'm0_viPlus5a_v',\n",
    "                            'sigma', 'DeltaMu_0','e_DeltaMu_0',\n",
    "                            'mu_0_Best', 'e_mu_0_Best'\n",
    "                          ])\n",
    "                 )\n",
    "Sne.loc[:,'e_DeltaMu_0'] = (Sne.loc[:,'e_DeltaMu_0'].apply(str).str.replace('\\(|\\)','')).astype('float')\n",
    "Sne.loc[:,'e_mu_0_Best'] = (Sne.loc[:,'e_mu_0_Best'].apply(str).str.replace('\\(|\\)','')).astype('float')\n",
    "\n",
    "\n",
    "maser_distance = {'mu':7.2, 'e_mu':0.32} \n",
    "maser_distance = pd.DataFrame(data = maser_distance, index = arange(1))"
   ]
  },
  {
   "cell_type": "code",
   "execution_count": 4,
   "metadata": {
    "collapsed": false
   },
   "outputs": [],
   "source": [
    "cepheids;"
   ]
  },
  {
   "cell_type": "code",
   "execution_count": 5,
   "metadata": {
    "collapsed": false
   },
   "outputs": [],
   "source": [
    "Sne;"
   ]
  },
  {
   "cell_type": "code",
   "execution_count": 8,
   "metadata": {
    "collapsed": false
   },
   "outputs": [],
   "source": [
    "class CosmoModel(object):\n",
    "    def __init__(self, cepheids, Sne, ignore_field = None, IMrms_cut = None, flip_cut = False):\n",
    "        \n",
    "        self.cepheids = cepheids.copy()\n",
    "        self.Sne = Sne.copy()\n",
    "        self.fields = set(self.cepheids.Field)\n",
    "        if IMrms_cut is None: IMrms_cut = [0, np.inf]\n",
    "        if ignore_field is not None:\n",
    "\n",
    "            ## Remove the fields in ignore_fields from the sample\n",
    "            self.fields.discard(ignore_field)\n",
    "        \n",
    "        ####Cuts\n",
    "        self.cepheids = self.cepheids.loc[self.cepheids.Flag != 'rej',:]\n",
    "        self.cepheids = self.cepheids.loc[self.cepheids.Flag !='rej,low',:]\n",
    "        self.cepheids = self.cepheids.loc[self.cepheids.Flag !='low',:]\n",
    "        #self.cepheids = self.cepheids.loc[(5.297 < self.cepheids.Period) & (self.cepheids.Period < 203.3), :]\n",
    "        if flip_cut is False:\n",
    "            self.cepheids = self.cepheids.loc[self.cepheids.IMrms < IMrms_cut[1],:]\n",
    "            self.cepheids = self.cepheids.loc[self.cepheids.IMrms > IMrms_cut[0],:]\n",
    "        else:\n",
    "            self.cepheids = self.cepheids[(self.cepheids.IMrms >= IMrms_cut[1]) | (self.cepheids.IMrms <= IMrms_cut[0])] \n",
    "            #self.cepheids = self.cepheids.loc[self.cepheids.IMrms <= IMrms_cut[0],:]\n",
    "\n",
    "        if ignore_field is not None:\n",
    "                self.cepheids = self.cepheids.loc[self.cepheids.Field != ignore_field,:]\n",
    "                self.Sne = self.Sne.loc[self.Sne.Host != ignore_field, :]\n",
    "        print 'kept %4.0f total cepheids'%self.cepheids.shape[0]\n",
    "\n",
    "        self.params = Parameters()\n",
    "        self.params.add('z_p_n4258', value = 25.5)\n",
    "        self.params.add('b', value = -3, vary = True)\n",
    "        self.params.add('Z', value = 0.25, vary = True)\n",
    "        self.params.add('a_nu', value = 0.47)\n",
    "        for field in self.fields:\n",
    "                self.params.add('dmu_'+field, value = 0)\n",
    "                self.params.add('R_'+field, value = 0, vary = False)\n",
    "        #        self.params.add('ddmu_'+field, value = 0)\n",
    "        #self.params['ddmu_n4258'].vary = False\n",
    "        self.params['dmu_n4258'].vary = False\n",
    "        self.params['dmu_n4258'].value = 0\n",
    "        self.params.add('m04258', value = 30)\n",
    "        self.params.add('m04258bias', value = 0, vary = False)\n",
    "        self.params.add('mu_geometric', value = 7.6)\n",
    "        self.params.add('R', value = 0.410, vary = False)\n",
    "        self.params.add('R2', value = 0, vary = False)\n",
    "        self.params.add('Q', value = 0, vary = False)\n",
    "    def Fitted_Mag(self, cepheids, **params):\n",
    "        \n",
    "        cepheids.loc[:,'FittedMag'] = (params['z_p_n4258'] \n",
    "                        + params['b'] * log10(cepheids.Period) \n",
    "                        + params['Z'] * (cepheids.ObyH - mean(cepheids.ObyH))##8.9)#mean(cepheids.loc[cepheids.Field == 'n4258', 'ObyH'])) \n",
    "                        + params['R'] * cepheids.VtoI\n",
    "                        + params['R2'] * cepheids.VtoI**2\n",
    "                        + params['Q'] * cepheids.Bias\n",
    "                       )\n",
    "        for field in (self.fields):\n",
    "            cepheids.loc[cepheids.Field == field,'FittedMag'] = (cepheids.loc[cepheids.Field == field, 'FittedMag'] \n",
    "                                                                 + params['dmu_'+field]\n",
    "                                                                 + params['R_'+field] * cepheids.VtoI\n",
    "                                                                )\n",
    "        return cepheids\n",
    "    \n",
    "    def Fitted_Sne(self, Sne, **params):\n",
    "\n",
    "        Sne.loc[:, 'fitted_abs_mag'] = params['m04258'] + params['m04258bias']\n",
    "        for field in self.fields:\n",
    "            Sne.loc[Sne.Host == field, 'fitted_abs_mag'] += params['dmu_'+field]\n",
    "\n",
    "        return Sne\n",
    "    \n",
    "    def ceph_residual(self, cepheids, **params):\n",
    "        cepheids.loc[:,:] = self.Fitted_Mag(cepheids, **params)\n",
    "        result = (self.cepheids.F160Wmag-cepheids.FittedMag)/self.cepheids.e_F160Wmag\n",
    "        return result\n",
    "    \n",
    "    def Sne_residual(self, Sne, **params):\n",
    "        Sne.loc[:,:] = self.Fitted_Sne(Sne, **params)\n",
    "        result = (self.Sne.m0_viPlus5a_v - 5 * 0.698 - self.Sne.fitted_abs_mag)/self.Sne['sigma']\n",
    "        return result\n",
    "\n",
    "    def priors(self, params):\n",
    "        ### A_nu\n",
    "        result = [(params['a_nu'] - 0.698)/0.00225]\n",
    "        result+=[(params['mu_geometric'] - 7.6)/0.3]\n",
    "        for field in (self.fields):\n",
    "            result += [params['R_'+field]/0.2]\n",
    "        #result+=[(params['b'] + 3.3)/0.1]\n",
    "        #result+=[(params['Z'] + .21)/0.09]\n",
    "        #result+=[(params['z_p_n4258'] - 26.36)/0.07]\n",
    "        return array(result)\n",
    "    \n",
    "    def residual(self, params):\n",
    "        Sne_result = self.Sne_residual(self.Sne, **params)\n",
    "        ceph_result = self.ceph_residual(self.cepheids, **params)\n",
    "        prior_result = self.priors(params)\n",
    "        #weights = self.cepheids.IMrms / sum(self.cepheids.IMrms)\n",
    "        result = concatenate((Sne_result, ceph_result, prior_result))\n",
    "        #result = sum(Sne_result)\n",
    "        #result += sum(ceph_result)# /weights)\n",
    "        #result += sum(prior_result)\n",
    "        return result\n",
    "    \n",
    "    def __call__(self):\n",
    "        #out = minimize(self.residual, \n",
    "        #               self.params,\n",
    "        #               scale_covar = False\n",
    "        #              #method = 'cg'\n",
    "        #               )\n",
    "        mini = Minimizer(self.residual, self.params)\n",
    "        out = mini.emcee(burn = 10000, steps  = 60000, thin = 1, workers = 1, params = self.params)\n",
    "        self.H0 = 10**(out.params['a_nu'].value + 5 + \n",
    "                       0.2 * (out.params['m04258'].value - 5*log10(out.params['mu_geometric'].value) - 25))\n",
    "        #print  5*log10(out.params['mu_geometric'].value) + 25\n",
    "        self.e_H0 = model.H0 * sqrt((out.params['a_nu'].stderr * log(10))**2 \n",
    "                            + (log(10)/5 *out.params['m04258'].stderr )**2\n",
    "                            + (out.params['mu_geometric'].stderr/out.params['mu_geometric'].value)**2)\n",
    "        return out\n"
   ]
  },
  {
   "cell_type": "code",
   "execution_count": 9,
   "metadata": {
    "collapsed": false
   },
   "outputs": [
    {
     "name": "stdout",
     "output_type": "stream",
     "text": [
      "kept  444 total cepheids\n",
      "emcee: Exception while calling your likelihood function:\n",
      "  params: [ 24.57226189  -0.88963239  -1.7954153    0.69478584   0.           0.           0.\n",
      "   0.           0.           0.           0.           0.          12.78483481\n",
      "   7.78034646]\n",
      "  args: (<bound method CosmoModel.residual of <__main__.CosmoModel object at 0x10c7a9050>>, Parameters([('z_p_n4258', <Parameter 'z_p_n4258', 24.572261887111676, bounds=[-inf:inf]>), ('b', <Parameter 'b', -0.88963239082082757, bounds=[-inf:inf]>), ('Z', <Parameter 'Z', -1.7954152961935397, bounds=[-inf:inf]>), ('a_nu', <Parameter 'a_nu', 0.69478583893025558, bounds=[-inf:inf]>), ('dmu_n3370', <Parameter 'dmu_n3370', 0.0, bounds=[-inf:inf]>), ('R_n3370', <Parameter 'R_n3370', value=0 (fixed), bounds=[-inf:inf]>), ('dmu_n4536', <Parameter 'dmu_n4536', 0.0, bounds=[-inf:inf]>), ('R_n4536', <Parameter 'R_n4536', value=0 (fixed), bounds=[-inf:inf]>), ('dmu_n3982', <Parameter 'dmu_n3982', 0.0, bounds=[-inf:inf]>), ('R_n3982', <Parameter 'R_n3982', value=0 (fixed), bounds=[-inf:inf]>), ('dmu_n5584', <Parameter 'dmu_n5584', 0.0, bounds=[-inf:inf]>), ('R_n5584', <Parameter 'R_n5584', value=0 (fixed), bounds=[-inf:inf]>), ('dmu_n4639', <Parameter 'dmu_n4639', 0.0, bounds=[-inf:inf]>), ('R_n4639', <Parameter 'R_n4639', value=0 (fixed), bounds=[-inf:inf]>), ('dmu_n4038', <Parameter 'dmu_n4038', 0.0, bounds=[-inf:inf]>), ('R_n4038', <Parameter 'R_n4038', value=0 (fixed), bounds=[-inf:inf]>), ('dmu_n4258', <Parameter 'dmu_n4258', value=0 (fixed), bounds=[-inf:inf]>), ('R_n4258', <Parameter 'R_n4258', value=0 (fixed), bounds=[-inf:inf]>), ('dmu_n3021', <Parameter 'dmu_n3021', 0.0, bounds=[-inf:inf]>), ('R_n3021', <Parameter 'R_n3021', value=0 (fixed), bounds=[-inf:inf]>), ('dmu_n1309', <Parameter 'dmu_n1309', 0.0, bounds=[-inf:inf]>), ('R_n1309', <Parameter 'R_n1309', value=0 (fixed), bounds=[-inf:inf]>), ('m04258', <Parameter 'm04258', 12.784834812371379, bounds=[-inf:inf]>), ('m04258bias', <Parameter 'm04258bias', value=0 (fixed), bounds=[-inf:inf]>), ('mu_geometric', <Parameter 'mu_geometric', 7.780346464417268, bounds=[-inf:inf]>), ('R', <Parameter 'R', value=0.41 (fixed), bounds=[-inf:inf]>), ('R2', <Parameter 'R2', value=0 (fixed), bounds=[-inf:inf]>), ('Q', <Parameter 'Q', value=0 (fixed), bounds=[-inf:inf]>)]), ['z_p_n4258', 'b', 'Z', 'a_nu', 'dmu_n3370', 'dmu_n4536', 'dmu_n3982', 'dmu_n5584', 'dmu_n4639', 'dmu_n4038', 'dmu_n3021', 'dmu_n1309', 'm04258', 'mu_geometric'], array([[-inf,  inf],\n",
      "       [-inf,  inf],\n",
      "       [-inf,  inf],\n",
      "       [-inf,  inf],\n",
      "       [-inf,  inf],\n",
      "       [-inf,  inf],\n",
      "       [-inf,  inf],\n",
      "       [-inf,  inf],\n",
      "       [-inf,  inf],\n",
      "       [-inf,  inf],\n",
      "       [-inf,  inf],\n",
      "       [-inf,  inf],\n",
      "       [-inf,  inf],\n",
      "       [-inf,  inf]]))\n",
      "  kwargs: {'nan_policy': 'raise', 'userkws': {}, 'userargs': [], 'is_weighted': True, 'float_behavior': 'posterior'}\n",
      "  exception:\n"
     ]
    },
    {
     "name": "stderr",
     "output_type": "stream",
     "text": [
      "Traceback (most recent call last):\n",
      "  File \"/Library/Frameworks/Python.framework/Versions/2.7/lib/python2.7/site-packages/emcee/ensemble.py\", line 519, in __call__\n",
      "    return self.f(x, *self.args, **self.kwargs)\n",
      "  File \"/Library/Frameworks/Python.framework/Versions/2.7/lib/python2.7/site-packages/lmfit/minimizer.py\", line 1260, in _lnpost\n",
      "    out = userfcn(params, *userargs, **userkwargs)\n",
      "  File \"<ipython-input-8-32062db4ea4d>\", line 95, in residual\n",
      "    ceph_result = self.ceph_residual(self.cepheids, **params)\n",
      "  File \"<ipython-input-8-32062db4ea4d>\", line 73, in ceph_residual\n",
      "    cepheids.loc[:,:] = self.Fitted_Mag(cepheids, **params)\n",
      "  File \"<ipython-input-8-32062db4ea4d>\", line 60, in Fitted_Mag\n",
      "    + params['R_'+field] * cepheids.VtoI\n",
      "  File \"/Library/Frameworks/Python.framework/Versions/2.7/lib/python2.7/site-packages/pandas/core/indexing.py\", line 127, in __setitem__\n",
      "    indexer = self._get_setitem_indexer(key)\n",
      "  File \"/Library/Frameworks/Python.framework/Versions/2.7/lib/python2.7/site-packages/pandas/core/indexing.py\", line 113, in _get_setitem_indexer\n",
      "    return self._convert_tuple(key, is_setter=True)\n",
      "  File \"/Library/Frameworks/Python.framework/Versions/2.7/lib/python2.7/site-packages/pandas/core/indexing.py\", line 171, in _convert_tuple\n",
      "    idx = self._convert_to_indexer(k, axis=i, is_setter=is_setter)\n",
      "  File \"/Library/Frameworks/Python.framework/Versions/2.7/lib/python2.7/site-packages/pandas/core/indexing.py\", line 1133, in _convert_to_indexer\n",
      "    return labels.get_loc(obj)\n",
      "  File \"/Library/Frameworks/Python.framework/Versions/2.7/lib/python2.7/site-packages/pandas/indexes/base.py\", line 1876, in get_loc\n",
      "    return self._engine.get_loc(key)\n",
      "  File \"pandas/index.pyx\", line 137, in pandas.index.IndexEngine.get_loc (pandas/index.c:4027)\n",
      "  File \"pandas/index.pyx\", line 139, in pandas.index.IndexEngine.get_loc (pandas/index.c:3625)\n",
      "  File \"/Library/Frameworks/Python.framework/Versions/2.7/lib/python2.7/site-packages/numpy/core/numeric.py\", line 1869, in array_str\n",
      "    return array2string(a, max_line_width, precision, suppress_small, ' ', \"\", str)\n",
      "  File \"/Library/Frameworks/Python.framework/Versions/2.7/lib/python2.7/site-packages/numpy/core/arrayprint.py\", line 447, in array2string\n",
      "    separator, prefix, formatter=formatter)\n",
      "  File \"/Library/Frameworks/Python.framework/Versions/2.7/lib/python2.7/site-packages/numpy/core/arrayprint.py\", line 325, in _array2string\n",
      "    _summaryEdgeItems, summary_insert)[:-1]\n",
      "  File \"/Library/Frameworks/Python.framework/Versions/2.7/lib/python2.7/site-packages/numpy/core/arrayprint.py\", line 494, in _formatArray\n",
      "    s, line = _extendLine(s, line, word, max_line_len, next_line_prefix)\n",
      "  File \"/Library/Frameworks/Python.framework/Versions/2.7/lib/python2.7/site-packages/numpy/core/arrayprint.py\", line 451, in _extendLine\n",
      "    if len(line.rstrip()) + len(word.rstrip()) >= max_line_len:\n",
      "KeyboardInterrupt\n"
     ]
    },
    {
     "ename": "KeyboardInterrupt",
     "evalue": "",
     "output_type": "error",
     "traceback": [
      "\u001b[0;31m---------------------------------------------------------------------------\u001b[0m",
      "\u001b[0;31mKeyboardInterrupt\u001b[0m                         Traceback (most recent call last)",
      "\u001b[0;32m<ipython-input-9-51f511aa16a4>\u001b[0m in \u001b[0;36m<module>\u001b[0;34m()\u001b[0m\n\u001b[1;32m      1\u001b[0m \u001b[0mmodel\u001b[0m \u001b[0;34m=\u001b[0m \u001b[0mCosmoModel\u001b[0m\u001b[0;34m(\u001b[0m\u001b[0mcepheids\u001b[0m\u001b[0;34m,\u001b[0m \u001b[0mSne\u001b[0m\u001b[0;34m)\u001b[0m\u001b[0;34m\u001b[0m\u001b[0m\n\u001b[0;32m----> 2\u001b[0;31m \u001b[0mresult\u001b[0m \u001b[0;34m=\u001b[0m \u001b[0mmodel\u001b[0m\u001b[0;34m(\u001b[0m\u001b[0;34m)\u001b[0m\u001b[0;34m\u001b[0m\u001b[0m\n\u001b[0m\u001b[1;32m      3\u001b[0m \u001b[0;32mprint\u001b[0m \u001b[0;34m'H_0 = %3.3f \\pm %3.3f'\u001b[0m\u001b[0;34m%\u001b[0m\u001b[0;34m(\u001b[0m\u001b[0mmodel\u001b[0m\u001b[0;34m.\u001b[0m\u001b[0mH0\u001b[0m\u001b[0;34m,\u001b[0m \u001b[0mmodel\u001b[0m\u001b[0;34m.\u001b[0m\u001b[0me_H0\u001b[0m\u001b[0;34m)\u001b[0m\u001b[0;34m\u001b[0m\u001b[0m\n\u001b[1;32m      4\u001b[0m \u001b[0;32mprint\u001b[0m \u001b[0;34m'\\chi^2 is '\u001b[0m\u001b[0;34m,\u001b[0m \u001b[0mresult\u001b[0m\u001b[0;34m.\u001b[0m\u001b[0mchisqr\u001b[0m\u001b[0;34m,\u001b[0m \u001b[0;34m'on around %4.0f degrees of freedom'\u001b[0m\u001b[0;34m%\u001b[0m\u001b[0;34m(\u001b[0m\u001b[0mmodel\u001b[0m\u001b[0;34m.\u001b[0m\u001b[0mcepheids\u001b[0m\u001b[0;34m.\u001b[0m\u001b[0mshape\u001b[0m\u001b[0;34m[\u001b[0m\u001b[0;36m0\u001b[0m\u001b[0;34m]\u001b[0m\u001b[0;34m)\u001b[0m\u001b[0;34m\u001b[0m\u001b[0m\n\u001b[1;32m      5\u001b[0m \u001b[0;32mprint\u001b[0m \u001b[0;34m'reduced chisquare is %3.3f'\u001b[0m\u001b[0;34m%\u001b[0m\u001b[0;34m(\u001b[0m\u001b[0mresult\u001b[0m\u001b[0;34m.\u001b[0m\u001b[0mchisqr\u001b[0m\u001b[0;34m/\u001b[0m\u001b[0;34m(\u001b[0m\u001b[0mmodel\u001b[0m\u001b[0;34m.\u001b[0m\u001b[0mcepheids\u001b[0m\u001b[0;34m.\u001b[0m\u001b[0mshape\u001b[0m\u001b[0;34m[\u001b[0m\u001b[0;36m0\u001b[0m\u001b[0;34m]\u001b[0m\u001b[0;34m+\u001b[0m\u001b[0mmodel\u001b[0m\u001b[0;34m.\u001b[0m\u001b[0mSne\u001b[0m\u001b[0;34m.\u001b[0m\u001b[0mshape\u001b[0m\u001b[0;34m[\u001b[0m\u001b[0;36m0\u001b[0m\u001b[0;34m]\u001b[0m\u001b[0;34m+\u001b[0m\u001b[0;36m3\u001b[0m \u001b[0;34m-\u001b[0m \u001b[0;36m14\u001b[0m\u001b[0;34m)\u001b[0m\u001b[0;34m)\u001b[0m\u001b[0;34m\u001b[0m\u001b[0m\n",
      "\u001b[0;32m<ipython-input-8-32062db4ea4d>\u001b[0m in \u001b[0;36m__call__\u001b[0;34m(self)\u001b[0m\n\u001b[1;32m    109\u001b[0m         \u001b[0;31m#               )\u001b[0m\u001b[0;34m\u001b[0m\u001b[0;34m\u001b[0m\u001b[0m\n\u001b[1;32m    110\u001b[0m         \u001b[0mmini\u001b[0m \u001b[0;34m=\u001b[0m \u001b[0mMinimizer\u001b[0m\u001b[0;34m(\u001b[0m\u001b[0mself\u001b[0m\u001b[0;34m.\u001b[0m\u001b[0mresidual\u001b[0m\u001b[0;34m,\u001b[0m \u001b[0mself\u001b[0m\u001b[0;34m.\u001b[0m\u001b[0mparams\u001b[0m\u001b[0;34m)\u001b[0m\u001b[0;34m\u001b[0m\u001b[0m\n\u001b[0;32m--> 111\u001b[0;31m         \u001b[0mout\u001b[0m \u001b[0;34m=\u001b[0m \u001b[0mmini\u001b[0m\u001b[0;34m.\u001b[0m\u001b[0memcee\u001b[0m\u001b[0;34m(\u001b[0m\u001b[0mburn\u001b[0m \u001b[0;34m=\u001b[0m \u001b[0;36m10000\u001b[0m\u001b[0;34m,\u001b[0m \u001b[0msteps\u001b[0m  \u001b[0;34m=\u001b[0m \u001b[0;36m60000\u001b[0m\u001b[0;34m,\u001b[0m \u001b[0mthin\u001b[0m \u001b[0;34m=\u001b[0m \u001b[0;36m1\u001b[0m\u001b[0;34m,\u001b[0m \u001b[0mworkers\u001b[0m \u001b[0;34m=\u001b[0m \u001b[0;36m1\u001b[0m\u001b[0;34m,\u001b[0m \u001b[0mparams\u001b[0m \u001b[0;34m=\u001b[0m \u001b[0mself\u001b[0m\u001b[0;34m.\u001b[0m\u001b[0mparams\u001b[0m\u001b[0;34m)\u001b[0m\u001b[0;34m\u001b[0m\u001b[0m\n\u001b[0m\u001b[1;32m    112\u001b[0m         self.H0 = 10**(out.params['a_nu'].value + 5 + \n\u001b[1;32m    113\u001b[0m                        0.2 * (out.params['m04258'].value - 5*log10(out.params['mu_geometric'].value) - 25))\n",
      "\u001b[0;32m/Library/Frameworks/Python.framework/Versions/2.7/lib/python2.7/site-packages/lmfit/minimizer.pyc\u001b[0m in \u001b[0;36memcee\u001b[0;34m(self, params, steps, nwalkers, burn, thin, ntemps, pos, reuse_sampler, workers, float_behavior, is_weighted, seed)\u001b[0m\n\u001b[1;32m    871\u001b[0m \u001b[0;34m\u001b[0m\u001b[0m\n\u001b[1;32m    872\u001b[0m         \u001b[0;31m# now do a production run, sampling all the time\u001b[0m\u001b[0;34m\u001b[0m\u001b[0;34m\u001b[0m\u001b[0m\n\u001b[0;32m--> 873\u001b[0;31m         \u001b[0moutput\u001b[0m \u001b[0;34m=\u001b[0m \u001b[0mself\u001b[0m\u001b[0;34m.\u001b[0m\u001b[0msampler\u001b[0m\u001b[0;34m.\u001b[0m\u001b[0mrun_mcmc\u001b[0m\u001b[0;34m(\u001b[0m\u001b[0mp0\u001b[0m\u001b[0;34m,\u001b[0m \u001b[0msteps\u001b[0m\u001b[0;34m)\u001b[0m\u001b[0;34m\u001b[0m\u001b[0m\n\u001b[0m\u001b[1;32m    874\u001b[0m         \u001b[0mself\u001b[0m\u001b[0;34m.\u001b[0m\u001b[0m_lastpos\u001b[0m \u001b[0;34m=\u001b[0m \u001b[0moutput\u001b[0m\u001b[0;34m[\u001b[0m\u001b[0;36m0\u001b[0m\u001b[0;34m]\u001b[0m\u001b[0;34m\u001b[0m\u001b[0m\n\u001b[1;32m    875\u001b[0m \u001b[0;34m\u001b[0m\u001b[0m\n",
      "\u001b[0;32m/Library/Frameworks/Python.framework/Versions/2.7/lib/python2.7/site-packages/emcee/sampler.pyc\u001b[0m in \u001b[0;36mrun_mcmc\u001b[0;34m(self, pos0, N, rstate0, lnprob0, **kwargs)\u001b[0m\n\u001b[1;32m    170\u001b[0m \u001b[0;34m\u001b[0m\u001b[0m\n\u001b[1;32m    171\u001b[0m         for results in self.sample(pos0, lnprob0, rstate0, iterations=N,\n\u001b[0;32m--> 172\u001b[0;31m                                    **kwargs):\n\u001b[0m\u001b[1;32m    173\u001b[0m             \u001b[0;32mpass\u001b[0m\u001b[0;34m\u001b[0m\u001b[0m\n\u001b[1;32m    174\u001b[0m \u001b[0;34m\u001b[0m\u001b[0m\n",
      "\u001b[0;32m/Library/Frameworks/Python.framework/Versions/2.7/lib/python2.7/site-packages/emcee/ensemble.pyc\u001b[0m in \u001b[0;36msample\u001b[0;34m(self, p0, lnprob0, rstate0, blobs0, iterations, thin, storechain, mh_proposal)\u001b[0m\n\u001b[1;32m    257\u001b[0m                 \u001b[0;32mfor\u001b[0m \u001b[0mS0\u001b[0m\u001b[0;34m,\u001b[0m \u001b[0mS1\u001b[0m \u001b[0;32min\u001b[0m \u001b[0;34m[\u001b[0m\u001b[0;34m(\u001b[0m\u001b[0mfirst\u001b[0m\u001b[0;34m,\u001b[0m \u001b[0msecond\u001b[0m\u001b[0;34m)\u001b[0m\u001b[0;34m,\u001b[0m \u001b[0;34m(\u001b[0m\u001b[0msecond\u001b[0m\u001b[0;34m,\u001b[0m \u001b[0mfirst\u001b[0m\u001b[0;34m)\u001b[0m\u001b[0;34m]\u001b[0m\u001b[0;34m:\u001b[0m\u001b[0;34m\u001b[0m\u001b[0m\n\u001b[1;32m    258\u001b[0m                     q, newlnp, acc, blob = self._propose_stretch(p[S0], p[S1],\n\u001b[0;32m--> 259\u001b[0;31m                                                                  lnprob[S0])\n\u001b[0m\u001b[1;32m    260\u001b[0m                     \u001b[0;32mif\u001b[0m \u001b[0mnp\u001b[0m\u001b[0;34m.\u001b[0m\u001b[0many\u001b[0m\u001b[0;34m(\u001b[0m\u001b[0macc\u001b[0m\u001b[0;34m)\u001b[0m\u001b[0;34m:\u001b[0m\u001b[0;34m\u001b[0m\u001b[0m\n\u001b[1;32m    261\u001b[0m                         \u001b[0;31m# Update the positions, log probabilities and\u001b[0m\u001b[0;34m\u001b[0m\u001b[0;34m\u001b[0m\u001b[0m\n",
      "\u001b[0;32m/Library/Frameworks/Python.framework/Versions/2.7/lib/python2.7/site-packages/emcee/ensemble.pyc\u001b[0m in \u001b[0;36m_propose_stretch\u001b[0;34m(self, p0, p1, lnprob0)\u001b[0m\n\u001b[1;32m    330\u001b[0m         \u001b[0;31m# Calculate the proposed positions and the log-probability there.\u001b[0m\u001b[0;34m\u001b[0m\u001b[0;34m\u001b[0m\u001b[0m\n\u001b[1;32m    331\u001b[0m         \u001b[0mq\u001b[0m \u001b[0;34m=\u001b[0m \u001b[0mc\u001b[0m\u001b[0;34m[\u001b[0m\u001b[0mrint\u001b[0m\u001b[0;34m]\u001b[0m \u001b[0;34m-\u001b[0m \u001b[0mzz\u001b[0m\u001b[0;34m[\u001b[0m\u001b[0;34m:\u001b[0m\u001b[0;34m,\u001b[0m \u001b[0mnp\u001b[0m\u001b[0;34m.\u001b[0m\u001b[0mnewaxis\u001b[0m\u001b[0;34m]\u001b[0m \u001b[0;34m*\u001b[0m \u001b[0;34m(\u001b[0m\u001b[0mc\u001b[0m\u001b[0;34m[\u001b[0m\u001b[0mrint\u001b[0m\u001b[0;34m]\u001b[0m \u001b[0;34m-\u001b[0m \u001b[0ms\u001b[0m\u001b[0;34m)\u001b[0m\u001b[0;34m\u001b[0m\u001b[0m\n\u001b[0;32m--> 332\u001b[0;31m         \u001b[0mnewlnprob\u001b[0m\u001b[0;34m,\u001b[0m \u001b[0mblob\u001b[0m \u001b[0;34m=\u001b[0m \u001b[0mself\u001b[0m\u001b[0;34m.\u001b[0m\u001b[0m_get_lnprob\u001b[0m\u001b[0;34m(\u001b[0m\u001b[0mq\u001b[0m\u001b[0;34m)\u001b[0m\u001b[0;34m\u001b[0m\u001b[0m\n\u001b[0m\u001b[1;32m    333\u001b[0m \u001b[0;34m\u001b[0m\u001b[0m\n\u001b[1;32m    334\u001b[0m         \u001b[0;31m# Decide whether or not the proposals should be accepted.\u001b[0m\u001b[0;34m\u001b[0m\u001b[0;34m\u001b[0m\u001b[0m\n",
      "\u001b[0;32m/Library/Frameworks/Python.framework/Versions/2.7/lib/python2.7/site-packages/emcee/ensemble.pyc\u001b[0m in \u001b[0;36m_get_lnprob\u001b[0;34m(self, pos)\u001b[0m\n\u001b[1;32m    380\u001b[0m \u001b[0;34m\u001b[0m\u001b[0m\n\u001b[1;32m    381\u001b[0m         \u001b[0;31m# Run the log-probability calculations (optionally in parallel).\u001b[0m\u001b[0;34m\u001b[0m\u001b[0;34m\u001b[0m\u001b[0m\n\u001b[0;32m--> 382\u001b[0;31m         \u001b[0mresults\u001b[0m \u001b[0;34m=\u001b[0m \u001b[0mlist\u001b[0m\u001b[0;34m(\u001b[0m\u001b[0mM\u001b[0m\u001b[0;34m(\u001b[0m\u001b[0mself\u001b[0m\u001b[0;34m.\u001b[0m\u001b[0mlnprobfn\u001b[0m\u001b[0;34m,\u001b[0m \u001b[0;34m[\u001b[0m\u001b[0mp\u001b[0m\u001b[0;34m[\u001b[0m\u001b[0mi\u001b[0m\u001b[0;34m]\u001b[0m \u001b[0;32mfor\u001b[0m \u001b[0mi\u001b[0m \u001b[0;32min\u001b[0m \u001b[0mrange\u001b[0m\u001b[0;34m(\u001b[0m\u001b[0mlen\u001b[0m\u001b[0;34m(\u001b[0m\u001b[0mp\u001b[0m\u001b[0;34m)\u001b[0m\u001b[0;34m)\u001b[0m\u001b[0;34m]\u001b[0m\u001b[0;34m)\u001b[0m\u001b[0;34m)\u001b[0m\u001b[0;34m\u001b[0m\u001b[0m\n\u001b[0m\u001b[1;32m    383\u001b[0m \u001b[0;34m\u001b[0m\u001b[0m\n\u001b[1;32m    384\u001b[0m         \u001b[0;32mtry\u001b[0m\u001b[0;34m:\u001b[0m\u001b[0;34m\u001b[0m\u001b[0m\n",
      "\u001b[0;32m/Library/Frameworks/Python.framework/Versions/2.7/lib/python2.7/site-packages/emcee/ensemble.pyc\u001b[0m in \u001b[0;36m__call__\u001b[0;34m(self, x)\u001b[0m\n\u001b[1;32m    517\u001b[0m     \u001b[0;32mdef\u001b[0m \u001b[0m__call__\u001b[0m\u001b[0;34m(\u001b[0m\u001b[0mself\u001b[0m\u001b[0;34m,\u001b[0m \u001b[0mx\u001b[0m\u001b[0;34m)\u001b[0m\u001b[0;34m:\u001b[0m\u001b[0;34m\u001b[0m\u001b[0m\n\u001b[1;32m    518\u001b[0m         \u001b[0;32mtry\u001b[0m\u001b[0;34m:\u001b[0m\u001b[0;34m\u001b[0m\u001b[0m\n\u001b[0;32m--> 519\u001b[0;31m             \u001b[0;32mreturn\u001b[0m \u001b[0mself\u001b[0m\u001b[0;34m.\u001b[0m\u001b[0mf\u001b[0m\u001b[0;34m(\u001b[0m\u001b[0mx\u001b[0m\u001b[0;34m,\u001b[0m \u001b[0;34m*\u001b[0m\u001b[0mself\u001b[0m\u001b[0;34m.\u001b[0m\u001b[0margs\u001b[0m\u001b[0;34m,\u001b[0m \u001b[0;34m**\u001b[0m\u001b[0mself\u001b[0m\u001b[0;34m.\u001b[0m\u001b[0mkwargs\u001b[0m\u001b[0;34m)\u001b[0m\u001b[0;34m\u001b[0m\u001b[0m\n\u001b[0m\u001b[1;32m    520\u001b[0m         \u001b[0;32mexcept\u001b[0m\u001b[0;34m:\u001b[0m\u001b[0;34m\u001b[0m\u001b[0m\n\u001b[1;32m    521\u001b[0m             \u001b[0;32mimport\u001b[0m \u001b[0mtraceback\u001b[0m\u001b[0;34m\u001b[0m\u001b[0m\n",
      "\u001b[0;32m/Library/Frameworks/Python.framework/Versions/2.7/lib/python2.7/site-packages/lmfit/minimizer.pyc\u001b[0m in \u001b[0;36m_lnpost\u001b[0;34m(theta, userfcn, params, var_names, bounds, userargs, userkws, float_behavior, is_weighted, nan_policy)\u001b[0m\n\u001b[1;32m   1258\u001b[0m \u001b[0;34m\u001b[0m\u001b[0m\n\u001b[1;32m   1259\u001b[0m     \u001b[0;31m# now calculate the log-likelihood\u001b[0m\u001b[0;34m\u001b[0m\u001b[0;34m\u001b[0m\u001b[0m\n\u001b[0;32m-> 1260\u001b[0;31m     \u001b[0mout\u001b[0m \u001b[0;34m=\u001b[0m \u001b[0muserfcn\u001b[0m\u001b[0;34m(\u001b[0m\u001b[0mparams\u001b[0m\u001b[0;34m,\u001b[0m \u001b[0;34m*\u001b[0m\u001b[0muserargs\u001b[0m\u001b[0;34m,\u001b[0m \u001b[0;34m**\u001b[0m\u001b[0muserkwargs\u001b[0m\u001b[0;34m)\u001b[0m\u001b[0;34m\u001b[0m\u001b[0m\n\u001b[0m\u001b[1;32m   1261\u001b[0m     \u001b[0mout\u001b[0m \u001b[0;34m=\u001b[0m \u001b[0m_nan_policy\u001b[0m\u001b[0;34m(\u001b[0m\u001b[0mout\u001b[0m\u001b[0;34m,\u001b[0m \u001b[0mnan_policy\u001b[0m\u001b[0;34m=\u001b[0m\u001b[0mnan_policy\u001b[0m\u001b[0;34m,\u001b[0m \u001b[0mhandle_inf\u001b[0m\u001b[0;34m=\u001b[0m\u001b[0mFalse\u001b[0m\u001b[0;34m)\u001b[0m\u001b[0;34m\u001b[0m\u001b[0m\n\u001b[1;32m   1262\u001b[0m \u001b[0;34m\u001b[0m\u001b[0m\n",
      "\u001b[0;32m<ipython-input-8-32062db4ea4d>\u001b[0m in \u001b[0;36mresidual\u001b[0;34m(self, params)\u001b[0m\n\u001b[1;32m     93\u001b[0m     \u001b[0;32mdef\u001b[0m \u001b[0mresidual\u001b[0m\u001b[0;34m(\u001b[0m\u001b[0mself\u001b[0m\u001b[0;34m,\u001b[0m \u001b[0mparams\u001b[0m\u001b[0;34m)\u001b[0m\u001b[0;34m:\u001b[0m\u001b[0;34m\u001b[0m\u001b[0m\n\u001b[1;32m     94\u001b[0m         \u001b[0mSne_result\u001b[0m \u001b[0;34m=\u001b[0m \u001b[0mself\u001b[0m\u001b[0;34m.\u001b[0m\u001b[0mSne_residual\u001b[0m\u001b[0;34m(\u001b[0m\u001b[0mself\u001b[0m\u001b[0;34m.\u001b[0m\u001b[0mSne\u001b[0m\u001b[0;34m,\u001b[0m \u001b[0;34m**\u001b[0m\u001b[0mparams\u001b[0m\u001b[0;34m)\u001b[0m\u001b[0;34m\u001b[0m\u001b[0m\n\u001b[0;32m---> 95\u001b[0;31m         \u001b[0mceph_result\u001b[0m \u001b[0;34m=\u001b[0m \u001b[0mself\u001b[0m\u001b[0;34m.\u001b[0m\u001b[0mceph_residual\u001b[0m\u001b[0;34m(\u001b[0m\u001b[0mself\u001b[0m\u001b[0;34m.\u001b[0m\u001b[0mcepheids\u001b[0m\u001b[0;34m,\u001b[0m \u001b[0;34m**\u001b[0m\u001b[0mparams\u001b[0m\u001b[0;34m)\u001b[0m\u001b[0;34m\u001b[0m\u001b[0m\n\u001b[0m\u001b[1;32m     96\u001b[0m         \u001b[0mprior_result\u001b[0m \u001b[0;34m=\u001b[0m \u001b[0mself\u001b[0m\u001b[0;34m.\u001b[0m\u001b[0mpriors\u001b[0m\u001b[0;34m(\u001b[0m\u001b[0mparams\u001b[0m\u001b[0;34m)\u001b[0m\u001b[0;34m\u001b[0m\u001b[0m\n\u001b[1;32m     97\u001b[0m         \u001b[0;31m#weights = self.cepheids.IMrms / sum(self.cepheids.IMrms)\u001b[0m\u001b[0;34m\u001b[0m\u001b[0;34m\u001b[0m\u001b[0m\n",
      "\u001b[0;32m<ipython-input-8-32062db4ea4d>\u001b[0m in \u001b[0;36mceph_residual\u001b[0;34m(self, cepheids, **params)\u001b[0m\n\u001b[1;32m     71\u001b[0m \u001b[0;34m\u001b[0m\u001b[0m\n\u001b[1;32m     72\u001b[0m     \u001b[0;32mdef\u001b[0m \u001b[0mceph_residual\u001b[0m\u001b[0;34m(\u001b[0m\u001b[0mself\u001b[0m\u001b[0;34m,\u001b[0m \u001b[0mcepheids\u001b[0m\u001b[0;34m,\u001b[0m \u001b[0;34m**\u001b[0m\u001b[0mparams\u001b[0m\u001b[0;34m)\u001b[0m\u001b[0;34m:\u001b[0m\u001b[0;34m\u001b[0m\u001b[0m\n\u001b[0;32m---> 73\u001b[0;31m         \u001b[0mcepheids\u001b[0m\u001b[0;34m.\u001b[0m\u001b[0mloc\u001b[0m\u001b[0;34m[\u001b[0m\u001b[0;34m:\u001b[0m\u001b[0;34m,\u001b[0m\u001b[0;34m:\u001b[0m\u001b[0;34m]\u001b[0m \u001b[0;34m=\u001b[0m \u001b[0mself\u001b[0m\u001b[0;34m.\u001b[0m\u001b[0mFitted_Mag\u001b[0m\u001b[0;34m(\u001b[0m\u001b[0mcepheids\u001b[0m\u001b[0;34m,\u001b[0m \u001b[0;34m**\u001b[0m\u001b[0mparams\u001b[0m\u001b[0;34m)\u001b[0m\u001b[0;34m\u001b[0m\u001b[0m\n\u001b[0m\u001b[1;32m     74\u001b[0m         \u001b[0mresult\u001b[0m \u001b[0;34m=\u001b[0m \u001b[0;34m(\u001b[0m\u001b[0mself\u001b[0m\u001b[0;34m.\u001b[0m\u001b[0mcepheids\u001b[0m\u001b[0;34m.\u001b[0m\u001b[0mF160Wmag\u001b[0m\u001b[0;34m-\u001b[0m\u001b[0mcepheids\u001b[0m\u001b[0;34m.\u001b[0m\u001b[0mFittedMag\u001b[0m\u001b[0;34m)\u001b[0m\u001b[0;34m/\u001b[0m\u001b[0mself\u001b[0m\u001b[0;34m.\u001b[0m\u001b[0mcepheids\u001b[0m\u001b[0;34m.\u001b[0m\u001b[0me_F160Wmag\u001b[0m\u001b[0;34m\u001b[0m\u001b[0m\n\u001b[1;32m     75\u001b[0m         \u001b[0;32mreturn\u001b[0m \u001b[0mresult\u001b[0m\u001b[0;34m\u001b[0m\u001b[0m\n",
      "\u001b[0;32m<ipython-input-8-32062db4ea4d>\u001b[0m in \u001b[0;36mFitted_Mag\u001b[0;34m(self, cepheids, **params)\u001b[0m\n\u001b[1;32m     58\u001b[0m             cepheids.loc[cepheids.Field == field,'FittedMag'] = (cepheids.loc[cepheids.Field == field, 'FittedMag'] \n\u001b[1;32m     59\u001b[0m                                                                  \u001b[0;34m+\u001b[0m \u001b[0mparams\u001b[0m\u001b[0;34m[\u001b[0m\u001b[0;34m'dmu_'\u001b[0m\u001b[0;34m+\u001b[0m\u001b[0mfield\u001b[0m\u001b[0;34m]\u001b[0m\u001b[0;34m\u001b[0m\u001b[0m\n\u001b[0;32m---> 60\u001b[0;31m                                                                  \u001b[0;34m+\u001b[0m \u001b[0mparams\u001b[0m\u001b[0;34m[\u001b[0m\u001b[0;34m'R_'\u001b[0m\u001b[0;34m+\u001b[0m\u001b[0mfield\u001b[0m\u001b[0;34m]\u001b[0m \u001b[0;34m*\u001b[0m \u001b[0mcepheids\u001b[0m\u001b[0;34m.\u001b[0m\u001b[0mVtoI\u001b[0m\u001b[0;34m\u001b[0m\u001b[0m\n\u001b[0m\u001b[1;32m     61\u001b[0m                                                                 )\n\u001b[1;32m     62\u001b[0m         \u001b[0;32mreturn\u001b[0m \u001b[0mcepheids\u001b[0m\u001b[0;34m\u001b[0m\u001b[0m\n",
      "\u001b[0;32m/Library/Frameworks/Python.framework/Versions/2.7/lib/python2.7/site-packages/pandas/core/indexing.pyc\u001b[0m in \u001b[0;36m__setitem__\u001b[0;34m(self, key, value)\u001b[0m\n\u001b[1;32m    125\u001b[0m \u001b[0;34m\u001b[0m\u001b[0m\n\u001b[1;32m    126\u001b[0m     \u001b[0;32mdef\u001b[0m \u001b[0m__setitem__\u001b[0m\u001b[0;34m(\u001b[0m\u001b[0mself\u001b[0m\u001b[0;34m,\u001b[0m \u001b[0mkey\u001b[0m\u001b[0;34m,\u001b[0m \u001b[0mvalue\u001b[0m\u001b[0;34m)\u001b[0m\u001b[0;34m:\u001b[0m\u001b[0;34m\u001b[0m\u001b[0m\n\u001b[0;32m--> 127\u001b[0;31m         \u001b[0mindexer\u001b[0m \u001b[0;34m=\u001b[0m \u001b[0mself\u001b[0m\u001b[0;34m.\u001b[0m\u001b[0m_get_setitem_indexer\u001b[0m\u001b[0;34m(\u001b[0m\u001b[0mkey\u001b[0m\u001b[0;34m)\u001b[0m\u001b[0;34m\u001b[0m\u001b[0m\n\u001b[0m\u001b[1;32m    128\u001b[0m         \u001b[0mself\u001b[0m\u001b[0;34m.\u001b[0m\u001b[0m_setitem_with_indexer\u001b[0m\u001b[0;34m(\u001b[0m\u001b[0mindexer\u001b[0m\u001b[0;34m,\u001b[0m \u001b[0mvalue\u001b[0m\u001b[0;34m)\u001b[0m\u001b[0;34m\u001b[0m\u001b[0m\n\u001b[1;32m    129\u001b[0m \u001b[0;34m\u001b[0m\u001b[0m\n",
      "\u001b[0;32m/Library/Frameworks/Python.framework/Versions/2.7/lib/python2.7/site-packages/pandas/core/indexing.pyc\u001b[0m in \u001b[0;36m_get_setitem_indexer\u001b[0;34m(self, key)\u001b[0m\n\u001b[1;32m    111\u001b[0m \u001b[0;34m\u001b[0m\u001b[0m\n\u001b[1;32m    112\u001b[0m         \u001b[0;32mif\u001b[0m \u001b[0misinstance\u001b[0m\u001b[0;34m(\u001b[0m\u001b[0mkey\u001b[0m\u001b[0;34m,\u001b[0m \u001b[0mtuple\u001b[0m\u001b[0;34m)\u001b[0m \u001b[0;32mand\u001b[0m \u001b[0;32mnot\u001b[0m \u001b[0mself\u001b[0m\u001b[0;34m.\u001b[0m\u001b[0mndim\u001b[0m \u001b[0;34m<\u001b[0m \u001b[0mlen\u001b[0m\u001b[0;34m(\u001b[0m\u001b[0mkey\u001b[0m\u001b[0;34m)\u001b[0m\u001b[0;34m:\u001b[0m\u001b[0;34m\u001b[0m\u001b[0m\n\u001b[0;32m--> 113\u001b[0;31m             \u001b[0;32mreturn\u001b[0m \u001b[0mself\u001b[0m\u001b[0;34m.\u001b[0m\u001b[0m_convert_tuple\u001b[0m\u001b[0;34m(\u001b[0m\u001b[0mkey\u001b[0m\u001b[0;34m,\u001b[0m \u001b[0mis_setter\u001b[0m\u001b[0;34m=\u001b[0m\u001b[0mTrue\u001b[0m\u001b[0;34m)\u001b[0m\u001b[0;34m\u001b[0m\u001b[0m\n\u001b[0m\u001b[1;32m    114\u001b[0m         \u001b[0;32mif\u001b[0m \u001b[0misinstance\u001b[0m\u001b[0;34m(\u001b[0m\u001b[0mkey\u001b[0m\u001b[0;34m,\u001b[0m \u001b[0mrange\u001b[0m\u001b[0;34m)\u001b[0m\u001b[0;34m:\u001b[0m\u001b[0;34m\u001b[0m\u001b[0m\n\u001b[1;32m    115\u001b[0m             \u001b[0;32mreturn\u001b[0m \u001b[0mself\u001b[0m\u001b[0;34m.\u001b[0m\u001b[0m_convert_range\u001b[0m\u001b[0;34m(\u001b[0m\u001b[0mkey\u001b[0m\u001b[0;34m,\u001b[0m \u001b[0mis_setter\u001b[0m\u001b[0;34m=\u001b[0m\u001b[0mTrue\u001b[0m\u001b[0;34m)\u001b[0m\u001b[0;34m\u001b[0m\u001b[0m\n",
      "\u001b[0;32m/Library/Frameworks/Python.framework/Versions/2.7/lib/python2.7/site-packages/pandas/core/indexing.pyc\u001b[0m in \u001b[0;36m_convert_tuple\u001b[0;34m(self, key, is_setter)\u001b[0m\n\u001b[1;32m    169\u001b[0m         \u001b[0;32melse\u001b[0m\u001b[0;34m:\u001b[0m\u001b[0;34m\u001b[0m\u001b[0m\n\u001b[1;32m    170\u001b[0m             \u001b[0;32mfor\u001b[0m \u001b[0mi\u001b[0m\u001b[0;34m,\u001b[0m \u001b[0mk\u001b[0m \u001b[0;32min\u001b[0m \u001b[0menumerate\u001b[0m\u001b[0;34m(\u001b[0m\u001b[0mkey\u001b[0m\u001b[0;34m)\u001b[0m\u001b[0;34m:\u001b[0m\u001b[0;34m\u001b[0m\u001b[0m\n\u001b[0;32m--> 171\u001b[0;31m                 \u001b[0midx\u001b[0m \u001b[0;34m=\u001b[0m \u001b[0mself\u001b[0m\u001b[0;34m.\u001b[0m\u001b[0m_convert_to_indexer\u001b[0m\u001b[0;34m(\u001b[0m\u001b[0mk\u001b[0m\u001b[0;34m,\u001b[0m \u001b[0maxis\u001b[0m\u001b[0;34m=\u001b[0m\u001b[0mi\u001b[0m\u001b[0;34m,\u001b[0m \u001b[0mis_setter\u001b[0m\u001b[0;34m=\u001b[0m\u001b[0mis_setter\u001b[0m\u001b[0;34m)\u001b[0m\u001b[0;34m\u001b[0m\u001b[0m\n\u001b[0m\u001b[1;32m    172\u001b[0m                 \u001b[0mkeyidx\u001b[0m\u001b[0;34m.\u001b[0m\u001b[0mappend\u001b[0m\u001b[0;34m(\u001b[0m\u001b[0midx\u001b[0m\u001b[0;34m)\u001b[0m\u001b[0;34m\u001b[0m\u001b[0m\n\u001b[1;32m    173\u001b[0m         \u001b[0;32mreturn\u001b[0m \u001b[0mtuple\u001b[0m\u001b[0;34m(\u001b[0m\u001b[0mkeyidx\u001b[0m\u001b[0;34m)\u001b[0m\u001b[0;34m\u001b[0m\u001b[0m\n",
      "\u001b[0;32m/Library/Frameworks/Python.framework/Versions/2.7/lib/python2.7/site-packages/pandas/core/indexing.pyc\u001b[0m in \u001b[0;36m_convert_to_indexer\u001b[0;34m(self, obj, axis, is_setter)\u001b[0m\n\u001b[1;32m   1131\u001b[0m         \u001b[0;31m# if we are a label return me\u001b[0m\u001b[0;34m\u001b[0m\u001b[0;34m\u001b[0m\u001b[0m\n\u001b[1;32m   1132\u001b[0m         \u001b[0;32mtry\u001b[0m\u001b[0;34m:\u001b[0m\u001b[0;34m\u001b[0m\u001b[0m\n\u001b[0;32m-> 1133\u001b[0;31m             \u001b[0;32mreturn\u001b[0m \u001b[0mlabels\u001b[0m\u001b[0;34m.\u001b[0m\u001b[0mget_loc\u001b[0m\u001b[0;34m(\u001b[0m\u001b[0mobj\u001b[0m\u001b[0;34m)\u001b[0m\u001b[0;34m\u001b[0m\u001b[0m\n\u001b[0m\u001b[1;32m   1134\u001b[0m         \u001b[0;32mexcept\u001b[0m \u001b[0mLookupError\u001b[0m\u001b[0;34m:\u001b[0m\u001b[0;34m\u001b[0m\u001b[0m\n\u001b[1;32m   1135\u001b[0m             \u001b[0;32mif\u001b[0m \u001b[0misinstance\u001b[0m\u001b[0;34m(\u001b[0m\u001b[0mobj\u001b[0m\u001b[0;34m,\u001b[0m \u001b[0mtuple\u001b[0m\u001b[0;34m)\u001b[0m \u001b[0;32mand\u001b[0m \u001b[0misinstance\u001b[0m\u001b[0;34m(\u001b[0m\u001b[0mlabels\u001b[0m\u001b[0;34m,\u001b[0m \u001b[0mMultiIndex\u001b[0m\u001b[0;34m)\u001b[0m\u001b[0;34m:\u001b[0m\u001b[0;34m\u001b[0m\u001b[0m\n",
      "\u001b[0;32m/Library/Frameworks/Python.framework/Versions/2.7/lib/python2.7/site-packages/pandas/indexes/base.pyc\u001b[0m in \u001b[0;36mget_loc\u001b[0;34m(self, key, method, tolerance)\u001b[0m\n\u001b[1;32m   1874\u001b[0m             \u001b[0mkey\u001b[0m \u001b[0;34m=\u001b[0m \u001b[0m_values_from_object\u001b[0m\u001b[0;34m(\u001b[0m\u001b[0mkey\u001b[0m\u001b[0;34m)\u001b[0m\u001b[0;34m\u001b[0m\u001b[0m\n\u001b[1;32m   1875\u001b[0m             \u001b[0;32mtry\u001b[0m\u001b[0;34m:\u001b[0m\u001b[0;34m\u001b[0m\u001b[0m\n\u001b[0;32m-> 1876\u001b[0;31m                 \u001b[0;32mreturn\u001b[0m \u001b[0mself\u001b[0m\u001b[0;34m.\u001b[0m\u001b[0m_engine\u001b[0m\u001b[0;34m.\u001b[0m\u001b[0mget_loc\u001b[0m\u001b[0;34m(\u001b[0m\u001b[0mkey\u001b[0m\u001b[0;34m)\u001b[0m\u001b[0;34m\u001b[0m\u001b[0m\n\u001b[0m\u001b[1;32m   1877\u001b[0m             \u001b[0;32mexcept\u001b[0m \u001b[0mKeyError\u001b[0m\u001b[0;34m:\u001b[0m\u001b[0;34m\u001b[0m\u001b[0m\n\u001b[1;32m   1878\u001b[0m                 \u001b[0;32mreturn\u001b[0m \u001b[0mself\u001b[0m\u001b[0;34m.\u001b[0m\u001b[0m_engine\u001b[0m\u001b[0;34m.\u001b[0m\u001b[0mget_loc\u001b[0m\u001b[0;34m(\u001b[0m\u001b[0mself\u001b[0m\u001b[0;34m.\u001b[0m\u001b[0m_maybe_cast_indexer\u001b[0m\u001b[0;34m(\u001b[0m\u001b[0mkey\u001b[0m\u001b[0;34m)\u001b[0m\u001b[0;34m)\u001b[0m\u001b[0;34m\u001b[0m\u001b[0m\n",
      "\u001b[0;32mpandas/index.pyx\u001b[0m in \u001b[0;36mpandas.index.IndexEngine.get_loc (pandas/index.c:4027)\u001b[0;34m()\u001b[0m\n",
      "\u001b[0;32mpandas/index.pyx\u001b[0m in \u001b[0;36mpandas.index.IndexEngine.get_loc (pandas/index.c:3625)\u001b[0;34m()\u001b[0m\n",
      "\u001b[0;32m/Library/Frameworks/Python.framework/Versions/2.7/lib/python2.7/site-packages/numpy/core/numeric.pyc\u001b[0m in \u001b[0;36marray_str\u001b[0;34m(a, max_line_width, precision, suppress_small)\u001b[0m\n\u001b[1;32m   1867\u001b[0m \u001b[0;34m\u001b[0m\u001b[0m\n\u001b[1;32m   1868\u001b[0m     \"\"\"\n\u001b[0;32m-> 1869\u001b[0;31m     \u001b[0;32mreturn\u001b[0m \u001b[0marray2string\u001b[0m\u001b[0;34m(\u001b[0m\u001b[0ma\u001b[0m\u001b[0;34m,\u001b[0m \u001b[0mmax_line_width\u001b[0m\u001b[0;34m,\u001b[0m \u001b[0mprecision\u001b[0m\u001b[0;34m,\u001b[0m \u001b[0msuppress_small\u001b[0m\u001b[0;34m,\u001b[0m \u001b[0;34m' '\u001b[0m\u001b[0;34m,\u001b[0m \u001b[0;34m\"\"\u001b[0m\u001b[0;34m,\u001b[0m \u001b[0mstr\u001b[0m\u001b[0;34m)\u001b[0m\u001b[0;34m\u001b[0m\u001b[0m\n\u001b[0m\u001b[1;32m   1870\u001b[0m \u001b[0;34m\u001b[0m\u001b[0m\n\u001b[1;32m   1871\u001b[0m \u001b[0;32mdef\u001b[0m \u001b[0mset_string_function\u001b[0m\u001b[0;34m(\u001b[0m\u001b[0mf\u001b[0m\u001b[0;34m,\u001b[0m \u001b[0mrepr\u001b[0m\u001b[0;34m=\u001b[0m\u001b[0mTrue\u001b[0m\u001b[0;34m)\u001b[0m\u001b[0;34m:\u001b[0m\u001b[0;34m\u001b[0m\u001b[0m\n",
      "\u001b[0;32m/Library/Frameworks/Python.framework/Versions/2.7/lib/python2.7/site-packages/numpy/core/arrayprint.pyc\u001b[0m in \u001b[0;36marray2string\u001b[0;34m(a, max_line_width, precision, suppress_small, separator, prefix, style, formatter)\u001b[0m\n\u001b[1;32m    445\u001b[0m     \u001b[0;32melse\u001b[0m\u001b[0;34m:\u001b[0m\u001b[0;34m\u001b[0m\u001b[0m\n\u001b[1;32m    446\u001b[0m         lst = _array2string(a, max_line_width, precision, suppress_small,\n\u001b[0;32m--> 447\u001b[0;31m                             separator, prefix, formatter=formatter)\n\u001b[0m\u001b[1;32m    448\u001b[0m     \u001b[0;32mreturn\u001b[0m \u001b[0mlst\u001b[0m\u001b[0;34m\u001b[0m\u001b[0m\n\u001b[1;32m    449\u001b[0m \u001b[0;34m\u001b[0m\u001b[0m\n",
      "\u001b[0;32m/Library/Frameworks/Python.framework/Versions/2.7/lib/python2.7/site-packages/numpy/core/arrayprint.pyc\u001b[0m in \u001b[0;36m_array2string\u001b[0;34m(a, max_line_width, precision, suppress_small, separator, prefix, formatter)\u001b[0m\n\u001b[1;32m    323\u001b[0m     lst = _formatArray(a, format_function, len(a.shape), max_line_width,\n\u001b[1;32m    324\u001b[0m                        \u001b[0mnext_line_prefix\u001b[0m\u001b[0;34m,\u001b[0m \u001b[0mseparator\u001b[0m\u001b[0;34m,\u001b[0m\u001b[0;34m\u001b[0m\u001b[0m\n\u001b[0;32m--> 325\u001b[0;31m                        _summaryEdgeItems, summary_insert)[:-1]\n\u001b[0m\u001b[1;32m    326\u001b[0m     \u001b[0;32mreturn\u001b[0m \u001b[0mlst\u001b[0m\u001b[0;34m\u001b[0m\u001b[0m\n\u001b[1;32m    327\u001b[0m \u001b[0;34m\u001b[0m\u001b[0m\n",
      "\u001b[0;32m/Library/Frameworks/Python.framework/Versions/2.7/lib/python2.7/site-packages/numpy/core/arrayprint.pyc\u001b[0m in \u001b[0;36m_formatArray\u001b[0;34m(a, format_function, rank, max_line_len, next_line_prefix, separator, edge_items, summary_insert)\u001b[0m\n\u001b[1;32m    492\u001b[0m         \u001b[0;32mfor\u001b[0m \u001b[0mi\u001b[0m \u001b[0;32min\u001b[0m \u001b[0mrange\u001b[0m\u001b[0;34m(\u001b[0m\u001b[0mtrailing_items\u001b[0m\u001b[0;34m,\u001b[0m \u001b[0;36m1\u001b[0m\u001b[0;34m,\u001b[0m \u001b[0;34m-\u001b[0m\u001b[0;36m1\u001b[0m\u001b[0;34m)\u001b[0m\u001b[0;34m:\u001b[0m\u001b[0;34m\u001b[0m\u001b[0m\n\u001b[1;32m    493\u001b[0m             \u001b[0mword\u001b[0m \u001b[0;34m=\u001b[0m \u001b[0mformat_function\u001b[0m\u001b[0;34m(\u001b[0m\u001b[0ma\u001b[0m\u001b[0;34m[\u001b[0m\u001b[0;34m-\u001b[0m\u001b[0mi\u001b[0m\u001b[0;34m]\u001b[0m\u001b[0;34m)\u001b[0m \u001b[0;34m+\u001b[0m \u001b[0mseparator\u001b[0m\u001b[0;34m\u001b[0m\u001b[0m\n\u001b[0;32m--> 494\u001b[0;31m             \u001b[0ms\u001b[0m\u001b[0;34m,\u001b[0m \u001b[0mline\u001b[0m \u001b[0;34m=\u001b[0m \u001b[0m_extendLine\u001b[0m\u001b[0;34m(\u001b[0m\u001b[0ms\u001b[0m\u001b[0;34m,\u001b[0m \u001b[0mline\u001b[0m\u001b[0;34m,\u001b[0m \u001b[0mword\u001b[0m\u001b[0;34m,\u001b[0m \u001b[0mmax_line_len\u001b[0m\u001b[0;34m,\u001b[0m \u001b[0mnext_line_prefix\u001b[0m\u001b[0;34m)\u001b[0m\u001b[0;34m\u001b[0m\u001b[0m\n\u001b[0m\u001b[1;32m    495\u001b[0m \u001b[0;34m\u001b[0m\u001b[0m\n\u001b[1;32m    496\u001b[0m         \u001b[0mword\u001b[0m \u001b[0;34m=\u001b[0m \u001b[0mformat_function\u001b[0m\u001b[0;34m(\u001b[0m\u001b[0ma\u001b[0m\u001b[0;34m[\u001b[0m\u001b[0;34m-\u001b[0m\u001b[0;36m1\u001b[0m\u001b[0;34m]\u001b[0m\u001b[0;34m)\u001b[0m\u001b[0;34m\u001b[0m\u001b[0m\n",
      "\u001b[0;32m/Library/Frameworks/Python.framework/Versions/2.7/lib/python2.7/site-packages/numpy/core/arrayprint.pyc\u001b[0m in \u001b[0;36m_extendLine\u001b[0;34m(s, line, word, max_line_len, next_line_prefix)\u001b[0m\n\u001b[1;32m    449\u001b[0m \u001b[0;34m\u001b[0m\u001b[0m\n\u001b[1;32m    450\u001b[0m \u001b[0;32mdef\u001b[0m \u001b[0m_extendLine\u001b[0m\u001b[0;34m(\u001b[0m\u001b[0ms\u001b[0m\u001b[0;34m,\u001b[0m \u001b[0mline\u001b[0m\u001b[0;34m,\u001b[0m \u001b[0mword\u001b[0m\u001b[0;34m,\u001b[0m \u001b[0mmax_line_len\u001b[0m\u001b[0;34m,\u001b[0m \u001b[0mnext_line_prefix\u001b[0m\u001b[0;34m)\u001b[0m\u001b[0;34m:\u001b[0m\u001b[0;34m\u001b[0m\u001b[0m\n\u001b[0;32m--> 451\u001b[0;31m     \u001b[0;32mif\u001b[0m \u001b[0mlen\u001b[0m\u001b[0;34m(\u001b[0m\u001b[0mline\u001b[0m\u001b[0;34m.\u001b[0m\u001b[0mrstrip\u001b[0m\u001b[0;34m(\u001b[0m\u001b[0;34m)\u001b[0m\u001b[0;34m)\u001b[0m \u001b[0;34m+\u001b[0m \u001b[0mlen\u001b[0m\u001b[0;34m(\u001b[0m\u001b[0mword\u001b[0m\u001b[0;34m.\u001b[0m\u001b[0mrstrip\u001b[0m\u001b[0;34m(\u001b[0m\u001b[0;34m)\u001b[0m\u001b[0;34m)\u001b[0m \u001b[0;34m>=\u001b[0m \u001b[0mmax_line_len\u001b[0m\u001b[0;34m:\u001b[0m\u001b[0;34m\u001b[0m\u001b[0m\n\u001b[0m\u001b[1;32m    452\u001b[0m         \u001b[0ms\u001b[0m \u001b[0;34m+=\u001b[0m \u001b[0mline\u001b[0m\u001b[0;34m.\u001b[0m\u001b[0mrstrip\u001b[0m\u001b[0;34m(\u001b[0m\u001b[0;34m)\u001b[0m \u001b[0;34m+\u001b[0m \u001b[0;34m\"\\n\"\u001b[0m\u001b[0;34m\u001b[0m\u001b[0m\n\u001b[1;32m    453\u001b[0m         \u001b[0mline\u001b[0m \u001b[0;34m=\u001b[0m \u001b[0mnext_line_prefix\u001b[0m\u001b[0;34m\u001b[0m\u001b[0m\n",
      "\u001b[0;31mKeyboardInterrupt\u001b[0m: "
     ]
    }
   ],
   "source": [
    "model = CosmoModel(cepheids, Sne)\n",
    "result = model()\n",
    "print 'H_0 = %3.3f \\pm %3.3f'%(model.H0, model.e_H0)\n",
    "print '\\chi^2 is ', result.chisqr, 'on around %4.0f degrees of freedom'%(model.cepheids.shape[0])\n",
    "print 'reduced chisquare is %3.3f'%(result.chisqr/(model.cepheids.shape[0]+model.Sne.shape[0]+3 - 14))\n",
    "for key in result.params.keys():\n",
    "    if result.params[key].vary == True:\n",
    "        print '%s = %3.3f \\pm %3.3f'%(key, result.params[key].value, result.params[key].stderr)\n"
   ]
  },
  {
   "cell_type": "code",
   "execution_count": null,
   "metadata": {
    "collapsed": false
   },
   "outputs": [],
   "source": [
    "percent_error = {}\n",
    "for key in result.params.keys():\n",
    "    if result.params[key].value != 0:\n",
    "        percent_error[key] = result.params[key].stderr/result.params[key].value * 100\n",
    "    else:\n",
    "        percent_error[key] = 0\n",
    "print percent_error['a_nu'], percent_error['m04258'], percent_error['mu_geometric']"
   ]
  },
  {
   "cell_type": "code",
   "execution_count": null,
   "metadata": {
    "collapsed": false
   },
   "outputs": [],
   "source": [
    "Sne = Sne.sort('Host')\n",
    "Sne.loc[:,'mu_4258'] = Sne.mu_0_Best.values - Sne.DeltaMu_0.values\n",
    "true_dist = 5*log10(7.6) + 25\n",
    "error = Sne.e_mu_0_Best\n",
    "errorbar(arange(1,9), Sne.mu_4258-true_dist, yerr= error, fmt = 'o')\n",
    "#errorbar(arange(1,9), values - SneMerged.ddmu, yerr= error, fmt = 'o')\n",
    "#fill_between([0,9], \n",
    "#             [5*log10(result.params['mu_geometric'].value + result.params['mu_geometric'].stderr) + 25]*2, \n",
    "#            y2 = [5*log10(result.params['mu_geometric'].value - result.params['mu_geometric'].stderr) + 25]*2,\n",
    "#             color = 'g',\n",
    "#             alpha = 0.5\n",
    "#            )\n",
    "plot([0,9], [mean(Sne.mu_4258)-true_dist]*2, label = 'mean of data')\n",
    "plot([0,9], [5*log10(7.2) + 25-true_dist]*2, label = '1999 value')\n",
    "plot([0,9], [5*log10(7.6) + 25-true_dist]*2, label = '2013 value')\n",
    "ylabel (r'$\\mu_{4258}-{\\mu}_{4258}^{\\rm maser 2013}$', fontsize = 16)\n",
    "xlim(0,9)\n",
    "legend(loc = 4)\n",
    "xticks(arange(1,9),Sne.Host.values);\n",
    "Sne"
   ]
  },
  {
   "cell_type": "code",
   "execution_count": null,
   "metadata": {
    "collapsed": false
   },
   "outputs": [],
   "source": [
    "print 'param \\t \\t value \\t \\t error \\t \\t % error'\n",
    "for key in result.params.keys():\n",
    "    if len(key)< 8: \n",
    "        disp_key = '%s\\t'%key\n",
    "    else:\n",
    "        disp_key = key\n",
    "    if result.params[key].vary != False:\n",
    "        print '%s \\t %f \\t %f \\t %f'%(disp_key, \n",
    "                                   result.params[key].value, \n",
    "                                   result.params[key].stderr, \n",
    "                                   abs(result.params[key].stderr/result.params[key].value)*100\n",
    "                                  )\n",
    "\n",
    "H_0_error = model.H0 * sqrt((result.params['a_nu'].stderr * log(10))**2 \n",
    "                            + (log(10)/5 *result.params['m04258'].stderr )**2\n",
    "                            + (result.params['mu_geometric'].stderr/result.params['mu_geometric'].value)**2)\n",
    "\n",
    "H_0_frac_error = H_0_error/model.H0\n",
    "print '%s \\t %f \\t %f \\t %f'%('H_0      ',model.H0,H_0_error , H_0_frac_error)"
   ]
  },
  {
   "cell_type": "code",
   "execution_count": null,
   "metadata": {
    "collapsed": false,
    "scrolled": false
   },
   "outputs": [],
   "source": [
    "fields = set(model.cepheids.Field)\n",
    "for i, field in enumerate(fields):\n",
    "    figure()\n",
    "    x = log10(model.cepheids.loc[model.cepheids.Field == field, 'Period'])\n",
    "    #result.params['b'].value * log10(model.cepheids.loc[model.cepheids.Field == field, 'Period'].values)\n",
    "    y = (model.cepheids.loc[model.cepheids.Field ==field, 'F160Wmag'].values \n",
    "         -result.params['R'] * model.cepheids.loc[model.cepheids.Field == field, 'VtoI']\n",
    "         -result.params['R_'+field] * model.cepheids.loc[model.cepheids.Field == field, 'VtoI']\n",
    "         -result.params['Q'] * model.cepheids.loc[model.cepheids.Field == field, 'Bias']\n",
    "         -(result.params['b'] * x + result.params['z_p_n4258'] + result.params['dmu_%s'%field])\n",
    "        )\n",
    "    yerr = model.cepheids.loc[model.cepheids.Field ==field, 'e_F160Wmag'].values\n",
    "                                    \n",
    "    errorbar(x , y , yerr= yerr, label = field, fmt = 'o')\n",
    "    print sum((y/yerr)**2)/(x.size - 4), 1/sqrt(x.size - 4)\n",
    "    legend(loc = 4)\n",
    "    x = array([min(x), max(x)])\n",
    "    plot(x, x * 0)\n",
    "    #plot(x, result.params['b'] * x + result.params['z_p_n4258'] + result.params['dmu_%s'%field])\n",
    "    gca().invert_yaxis()\n",
    "    #xlim(0.4, 2.5)\n",
    "    #ylim(20,30)\n",
    "    \n",
    "    "
   ]
  },
  {
   "cell_type": "code",
   "execution_count": null,
   "metadata": {
    "collapsed": false
   },
   "outputs": [],
   "source": [
    "result.params"
   ]
  },
  {
   "cell_type": "code",
   "execution_count": null,
   "metadata": {
    "collapsed": false
   },
   "outputs": [],
   "source": [
    "newcepheids = cepheids.sort_values(by = 'IMrms')\n",
    "newcepheids = newcepheids.loc[newcepheids.Flag == '-',:]\n",
    "newcepheids.index = arange(newcepheids.shape[0])\n",
    "#newcepheids"
   ]
  },
  {
   "cell_type": "code",
   "execution_count": null,
   "metadata": {
    "collapsed": false
   },
   "outputs": [],
   "source": [
    "indices = linspace(0, newcepheids.shape[0], 10).astype('int')\n",
    "\n",
    "cuts = zip(roll(newcepheids.loc[indices, 'IMrms'].values, 1), newcepheids.loc[indices, 'IMrms'].values)[1:]\n",
    "hvals = []\n",
    "herr = []\n",
    "cutlist = []\n",
    "for cut in cuts:\n",
    "    if not isfinite(cut[1]):\n",
    "        cut = (cut[0], inf)\n",
    "    if not isfinite(cut[0]):\n",
    "        cut = (0, cut[1])\n",
    "    #cut = (0, cut[1])\n",
    "    print cut\n",
    "    #print 'removing cephieds with IM_RMS %3.3f to %3.3f'%(cepheids.loc[i, 'IMrms'], cepheids.loc[i+1, 'IMrms'])\n",
    "    #newcephs = cepheids.drop(cepheids.index[arange(i,i+1)])\n",
    "    model = CosmoModel(newcepheids, Sne, IMrms_cut = array(cut), flip_cut = False)\n",
    "    result = model()\n",
    "    print 'H_0 = %3.2f \\pm %3.2f'%(model.H0, model.e_H0)\n",
    "    hvals.append(model.H0)\n",
    "    herr.append(model.e_H0)\n",
    "    cutlist.append(cut[0])\n",
    "    for key in result.params.keys():\n",
    "        if result.params[key].vary == True:\n",
    "            if key[:4] != 'dmu_':\n",
    "                print '%s = %3.2f \\pm %3.2f'%(key, result.params[key].value, result.params[key].stderr)\n",
    "    print '\\n'"
   ]
  },
  {
   "cell_type": "code",
   "execution_count": null,
   "metadata": {
    "collapsed": false
   },
   "outputs": [],
   "source": [
    "errorbar(arange(0.5, len(hvals)), hvals, yerr = herr, fmt = 'o')\n",
    "model = CosmoModel(newcepheids, Sne)\n",
    "result = model()\n",
    "xvals = arange(-1, len(hvals)+1)\n",
    "yvals = [model.H0] *xvals.size       \n",
    "plot(xvals,yvals, color = 'g')\n",
    "chi2val = (model.H0- array(hvals[:-1]))/array(herr[:-1])\n",
    "#print 'chi2 is %3.2f'%chi2val\n",
    "print sum(chi2val[1:]**2)\n",
    "cutlist.append(r'$\\infty$')\n",
    "ylabel(r'$H_0 {\\rm \\, \\,[km/s/Mpc]}$', fontsize = 18)\n",
    "xlabel(r'${\\rm Im}_{\\rm rms} {\\rm \\, cut}$', fontsize = 16)\n",
    "xticks(arange(len(hvals)+1),cutlist, rotation = 90)\n",
    "xlim((0, len(hvals) ))\n"
   ]
  },
  {
   "cell_type": "code",
   "execution_count": null,
   "metadata": {
    "collapsed": false
   },
   "outputs": [],
   "source": []
  },
  {
   "cell_type": "code",
   "execution_count": null,
   "metadata": {
    "collapsed": true
   },
   "outputs": [],
   "source": []
  },
  {
   "cell_type": "code",
   "execution_count": null,
   "metadata": {
    "collapsed": true
   },
   "outputs": [],
   "source": []
  },
  {
   "cell_type": "code",
   "execution_count": null,
   "metadata": {
    "collapsed": true
   },
   "outputs": [],
   "source": []
  }
 ],
 "metadata": {
  "kernelspec": {
   "display_name": "Python 2",
   "language": "python",
   "name": "python2"
  },
  "language_info": {
   "codemirror_mode": {
    "name": "ipython",
    "version": 2
   },
   "file_extension": ".py",
   "mimetype": "text/x-python",
   "name": "python",
   "nbconvert_exporter": "python",
   "pygments_lexer": "ipython2",
   "version": "2.7.11"
  }
 },
 "nbformat": 4,
 "nbformat_minor": 0
}
