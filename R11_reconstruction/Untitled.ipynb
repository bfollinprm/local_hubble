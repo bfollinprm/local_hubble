{
 "cells": [
  {
   "cell_type": "code",
   "execution_count": 1,
   "metadata": {
    "collapsed": false
   },
   "outputs": [
    {
     "name": "stdout",
     "output_type": "stream",
     "text": [
      "Using matplotlib backend: MacOSX\n",
      "Populating the interactive namespace from numpy and matplotlib\n"
     ]
    }
   ],
   "source": [
    "%pylab\n",
    "%matplotlib inline\n",
    "rc('text', usetex = True)"
   ]
  },
  {
   "cell_type": "code",
   "execution_count": 280,
   "metadata": {
    "collapsed": true
   },
   "outputs": [],
   "source": [
    "import pyfits as fits\n",
    "from astropy.utils.data import download_file\n",
    "import pandas as pd\n",
    "from lmfit import Parameters, minimize\n",
    "from numpy.linalg import lstsq, solve"
   ]
  },
  {
   "cell_type": "code",
   "execution_count": 281,
   "metadata": {
    "collapsed": true
   },
   "outputs": [],
   "source": [
    "### Download data\n",
    "\n",
    "\n",
    "### Cepheid table\n",
    "cepheid_table = download_file(\n",
    "        'http://iopscience.iop.org/0004-637X/730/2/119/suppdata/apj383673t2_mrt.txt', \n",
    "        cache = True)\n",
    "cepheids = pd.read_csv(cepheid_table,\n",
    "                       delim_whitespace = True,\n",
    "                       skiprows = 39,\n",
    "                       names = (['Field', 'RAdeg', \n",
    "                                 'DEdeg', 'ID', \n",
    "                                 'Period', 'VtoI', \n",
    "                                 'F160Wmag', 'e_F160Wmag',\n",
    "                                 'Offset', 'Bias', \n",
    "                                 'IMrms', 'ObyH', 'Flag']\n",
    "                               )\n",
    "                      )\n",
    "\n",
    "cepheids=cepheids.fillna(value = '-')\n",
    "### SNe table\n",
    "Sne_table = download_file(\n",
    "        'http://iopscience.iop.org/0004-637X/730/2/119/suppdata/apj383673t3_ascii.txt',\n",
    "        cache = True)\n",
    "Sne = pd.read_csv(Sne_table, \n",
    "                   \n",
    "                  delim_whitespace=True, \n",
    "                  skiprows = [0,1,2,3,4,13,15],\n",
    "                  names = (['Host', 'junk','Sn1A',\n",
    "                            'Filters', 'm0_viPlus5a_v',\n",
    "                            'sigma', 'DeltaMu_0','e_DeltaMu_0',\n",
    "                            'mu_0_Best', 'e_mu_0_Best'\n",
    "                          ])\n",
    "                 )\n",
    "Sne.loc[:,'e_DeltaMu_0'] = (Sne.loc[:,'e_DeltaMu_0'].apply(str).str.replace('\\(|\\)','')).astype('float')\n",
    "Sne.loc[:,'e_mu_0_Best'] = (Sne.loc[:,'e_mu_0_Best'].apply(str).str.replace('\\(|\\)','')).astype('float')\n",
    "\n",
    "\n",
    "maser_distance = {'mu':7.2, 'e_mu':0.32} \n",
    "maser_distance = pd.DataFrame(data = maser_distance, index = arange(1))"
   ]
  },
  {
   "cell_type": "code",
   "execution_count": 282,
   "metadata": {
    "collapsed": false
   },
   "outputs": [
    {
     "data": {
      "text/plain": [
       "{'n1309',\n",
       " 'n3021',\n",
       " 'n3370',\n",
       " 'n3982',\n",
       " 'n4038',\n",
       " 'n4258',\n",
       " 'n4536',\n",
       " 'n4639',\n",
       " 'n5584'}"
      ]
     },
     "execution_count": 282,
     "metadata": {},
     "output_type": "execute_result"
    }
   ],
   "source": [
    "set(cepheids.Field)"
   ]
  },
  {
   "cell_type": "code",
   "execution_count": 283,
   "metadata": {
    "collapsed": false
   },
   "outputs": [
    {
     "name": "stdout",
     "output_type": "stream",
     "text": [
      "444\n",
      "[[ 10.40582726   0.           0.         ...,   0.           0.           0.        ]\n",
      " [  0.           5.66893424   0.         ...,   0.           0.           0.        ]\n",
      " [  0.           0.           5.16528926 ...,   0.           0.           0.        ]\n",
      " ..., \n",
      " [  0.           0.           0.         ...,  94.25959091   0.           0.        ]\n",
      " [  0.           0.           0.         ...,   0.          67.18624026\n",
      "    0.        ]\n",
      " [  0.           0.           0.         ...,   0.           0.          53.2793436 ]]\n"
     ]
    }
   ],
   "source": [
    "cepheids = cepheids.loc[cepheids.Flag == '-',:]\n",
    "cepheids = cepheids.reset_index(drop = True)\n",
    "y = cepheids.F160Wmag -0.411 * cepheids.VtoI\n",
    "y = list(y)\n",
    "print len(y)\n",
    "y += list(Sne.m0_viPlus5a_v - 0.698 * 5)\n",
    "y = array(y)\n",
    "y.size\n",
    "\n",
    "\n",
    "yerr = cepheids.e_F160Wmag.tolist()\n",
    "yerr += Sne.sigma.tolist()\n",
    "yerr = array(yerr)\n",
    "Cinv = diag(1.0/yerr**2)\n",
    "print Cinv"
   ]
  },
  {
   "cell_type": "code",
   "execution_count": 284,
   "metadata": {
    "collapsed": false
   },
   "outputs": [
    {
     "data": {
      "text/plain": [
       "{'n1309',\n",
       " 'n3021',\n",
       " 'n3370',\n",
       " 'n3982',\n",
       " 'n4038',\n",
       " 'n4258',\n",
       " 'n4536',\n",
       " 'n4639',\n",
       " 'n5584'}"
      ]
     },
     "execution_count": 284,
     "metadata": {},
     "output_type": "execute_result"
    }
   ],
   "source": [
    "set(cepheids.Field)"
   ]
  },
  {
   "cell_type": "code",
   "execution_count": 306,
   "metadata": {
    "collapsed": false
   },
   "outputs": [
    {
     "name": "stdout",
     "output_type": "stream",
     "text": [
      "n3370\n",
      "n4536\n",
      "n3982\n",
      "n5584\n",
      "n4639\n",
      "n4038\n",
      "n3021\n",
      "n1309\n"
     ]
    }
   ],
   "source": [
    "paramnames = []\n",
    "fields = list(set(cepheids.Field))\n",
    "fields.remove('n4258')\n",
    "L = zeros([y.size, 12])\n",
    "L[:444,-4] = log10(cepheids.Period) ## PL-period slope\n",
    "L[:444,-3] = cepheids.ObyH - mean(cepheids.ObyH) ## PL-metallicity slope\n",
    "L[:444, -2] = 1 ## PL-intercept\n",
    "L[444:,-1] = 1 ## M^0_4258\n",
    "for i, field in enumerate(fields):\n",
    "    print field\n",
    "    if field != 'n4258':\n",
    "        cephindex = cepheids.loc[cepheids.Field == field, :].index.tolist()\n",
    "        L[cephindex,i] = 1\n",
    "        snindex = Sne.loc[Sne.Host == field,:].index.tolist()\n",
    "        snindex = [x + 444 for x in snindex]\n",
    "        L[snindex,i] = 1\n",
    "        paramnames.append(field)\n",
    "paramnames.append('Per')\n",
    "paramnames.append('Met')\n",
    "paramnames.append('Int')\n",
    "paramnames.append('M^0')\n",
    "Lframe = pd.DataFrame(L)\n",
    "Lframe.columns = paramnames"
   ]
  },
  {
   "cell_type": "code",
   "execution_count": 307,
   "metadata": {
    "collapsed": false
   },
   "outputs": [
    {
     "data": {
      "text/plain": [
       "array([ 0.,  0.,  0.,  1.,  0.,  0.,  0.,  0.,  0.,  0.,  0.,  1.])"
      ]
     },
     "execution_count": 307,
     "metadata": {},
     "output_type": "execute_result"
    }
   ],
   "source": [
    "L[-2,:]"
   ]
  },
  {
   "cell_type": "code",
   "execution_count": 308,
   "metadata": {
    "collapsed": false
   },
   "outputs": [
    {
     "name": "stdout",
     "output_type": "stream",
     "text": [
      "(452, 12)\n",
      "(452, 452)\n"
     ]
    }
   ],
   "source": [
    "print L.shape\n",
    "print C.shape"
   ]
  },
  {
   "cell_type": "code",
   "execution_count": 309,
   "metadata": {
    "collapsed": false
   },
   "outputs": [],
   "source": [
    "param_cinv = (dot(L.T, dot(Cinv, L)))"
   ]
  },
  {
   "cell_type": "code",
   "execution_count": 310,
   "metadata": {
    "collapsed": true
   },
   "outputs": [],
   "source": [
    "LtCinv = dot(L.T, Cinv)\n",
    "LtCinvY = dot(LtCinv, y)"
   ]
  },
  {
   "cell_type": "code",
   "execution_count": 311,
   "metadata": {
    "collapsed": false
   },
   "outputs": [],
   "source": [
    "bestfit = solve(param_cinv, LtCinvY)"
   ]
  },
  {
   "cell_type": "code",
   "execution_count": 312,
   "metadata": {
    "collapsed": false
   },
   "outputs": [
    {
     "data": {
      "text/plain": [
       "array([  2.71862951,   1.55228358,   2.3165599 ,   2.3124229 ,\n",
       "         2.27572085,   2.22206887,   2.874463  ,   3.12656555,\n",
       "        -2.96133472,  -0.240236  ,  26.2523365 ,  10.24997598])"
      ]
     },
     "execution_count": 312,
     "metadata": {},
     "output_type": "execute_result"
    }
   ],
   "source": [
    "bestfit"
   ]
  },
  {
   "cell_type": "code",
   "execution_count": 414,
   "metadata": {
    "collapsed": false
   },
   "outputs": [],
   "source": [
    "error = diag(inv(param_cinv))\n",
    "error = (1/diag(param_cinv))\n",
    "error = sqrt(error)"
   ]
  },
  {
   "cell_type": "code",
   "execution_count": 415,
   "metadata": {
    "collapsed": false
   },
   "outputs": [
    {
     "name": "stdout",
     "output_type": "stream",
     "text": [
      "['n3370', 'n4536', 'n3982', 'n5584', 'n4639', 'n4038', 'n3021', 'n1309', 'Per', 'Met', 'Int', 'M^0']\n"
     ]
    }
   ],
   "source": [
    "print paramnames"
   ]
  },
  {
   "cell_type": "code",
   "execution_count": 416,
   "metadata": {
    "collapsed": false
   },
   "outputs": [
    {
     "data": {
      "text/plain": [
       "[('n3370', (2.7186295059725305, 0.029420946325746652)),\n",
       " ('n4536', (1.5522835822373897, 0.032494353688442272)),\n",
       " ('n3982', (2.3165599011298337, 0.043417396512919204)),\n",
       " ('n5584', (2.312422903614455, 0.029580579432308685)),\n",
       " ('n4639', (2.2757208494597569, 0.050107070019617228)),\n",
       " ('n4038', (2.2220688720140878, 0.055833926206266871)),\n",
       " ('n3021', (2.8744630036744225, 0.067940683031092269)),\n",
       " ('n1309', (3.1265655519976709, 0.045529284401057094)),\n",
       " ('Per', (-2.9613347179195753, 0.0079199605114396096)),\n",
       " ('Met', (-0.24023600451392926, 0.071994642481471388)),\n",
       " ('Int', (26.252336504869188, 0.012850698448006728)),\n",
       " ('M^0', (10.249975978399275, 0.039511420327395685))]"
      ]
     },
     "execution_count": 416,
     "metadata": {},
     "output_type": "execute_result"
    }
   ],
   "source": [
    " zip(paramnames, zip(bestfit, error))"
   ]
  },
  {
   "cell_type": "code",
   "execution_count": 417,
   "metadata": {
    "collapsed": false
   },
   "outputs": [],
   "source": [
    "m04258 = [bestfit[-1], error[-1]]\n",
    "a_nu = [0.698, 0.00225]\n",
    "mu_geometric = [7.60, 0.32]\n",
    "H_0 = [10**(a_nu[0] + 5 + 0.2 * (m04258[0] - 5*log10(mu_geometric[0]) - 25))]\n",
    "H_0.append(\n",
    "            H_0[0] * sqrt(\n",
    "        (a_nu[1] * log(10))**2 \n",
    "        + (log(10)/5 * m04258[1])**2\n",
    "        + (mu_geometric[1]/mu_geometric[0])**2             \n",
    "    )     )"
   ]
  },
  {
   "cell_type": "code",
   "execution_count": 418,
   "metadata": {
    "collapsed": false
   },
   "outputs": [
    {
     "name": "stdout",
     "output_type": "stream",
     "text": [
      "[73.651501222569479, 3.3997782428024248]\n"
     ]
    }
   ],
   "source": [
    "print H_0"
   ]
  },
  {
   "cell_type": "code",
   "execution_count": 335,
   "metadata": {
    "collapsed": false
   },
   "outputs": [
    {
     "name": "stdout",
     "output_type": "stream",
     "text": [
      "[73.651501222569479, 3.1260430605242928]\n"
     ]
    }
   ],
   "source": []
  },
  {
   "cell_type": "code",
   "execution_count": null,
   "metadata": {
    "collapsed": true
   },
   "outputs": [],
   "source": []
  }
 ],
 "metadata": {
  "kernelspec": {
   "display_name": "Python 2",
   "language": "python",
   "name": "python2"
  },
  "language_info": {
   "codemirror_mode": {
    "name": "ipython",
    "version": 2
   },
   "file_extension": ".py",
   "mimetype": "text/x-python",
   "name": "python",
   "nbconvert_exporter": "python",
   "pygments_lexer": "ipython2",
   "version": "2.7.11"
  }
 },
 "nbformat": 4,
 "nbformat_minor": 0
}
