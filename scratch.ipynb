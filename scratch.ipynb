{
 "cells": [
  {
   "cell_type": "code",
   "execution_count": 1,
   "metadata": {
    "collapsed": false
   },
   "outputs": [
    {
     "name": "stdout",
     "output_type": "stream",
     "text": [
      "Using matplotlib backend: MacOSX\n",
      "Populating the interactive namespace from numpy and matplotlib\n"
     ]
    }
   ],
   "source": [
    "import pyfits as fits\n",
    "from numpy import polyfit\n",
    "%pylab\n",
    "%matplotlib inline"
   ]
  },
  {
   "cell_type": "code",
   "execution_count": 2,
   "metadata": {
    "collapsed": false
   },
   "outputs": [],
   "source": [
    "from scipy.optimize import curve_fit\n",
    "class PLfit():\n",
    "    def __init__(self, period, luminosity, lum_error):\n",
    "        self.per = period\n",
    "        self.lnp = log(period)\n",
    "        self.lum = luminosity\n",
    "        self.popt, self.pcov = curve_fit(self._f, self.per, self.lum, sigma = lum_error)\n",
    "    def _f(self, x, a, b):\n",
    "        return a + b * log(x)\n",
    "    \n",
    "    def __call__(self, x):\n",
    "        return self._f(x, *self.popt)\n",
    "    "
   ]
  },
  {
   "cell_type": "code",
   "execution_count": 201,
   "metadata": {
    "collapsed": false
   },
   "outputs": [],
   "source": [
    "from scipy.optimize import curve_fit\n",
    "class PL_global_fit():\n",
    "    def __init__(self, cephieds):\n",
    "        self.fields = cephieds['Field']\n",
    "        self.fieldnames = list(set(cephieds['Field']))\n",
    "        self.mag = cephieds['mag']\n",
    "        self.err = cephieds['e_mag']\n",
    "        self.per = cephieds['Period']\n",
    "        self.popt, self.pcov = curve_fit(self._f,zip(self.fields, self.per), self.mag, sigma = self.err)\n",
    "        \n",
    "    def _f(self, x, u0, u1, u2, u3, u4, u5, u6, u7, u8, slope, curve):\n",
    "        return [self._DL(float(val), field, u0, u1, u2, u3, u4, u5, u6, u7, u8, slope, curve) for field, val in x]\n",
    "        \n",
    "    def _DL(self, val, field, u0, u1, u2, u3, u4, u5, u6, u7, u8, slope, curve):\n",
    "            if field == self.fieldnames[0]:\n",
    "                return self.__DL(val, u0, slope, curve)\n",
    "            if field == self.fieldnames[1]:\n",
    "                return self.__DL(val, u1, slope, curve)\n",
    "            if field == self.fieldnames[2]:\n",
    "                return self.__DL(val, u2, slope, curve)\n",
    "            if field == self.fieldnames[3]:\n",
    "                return self.__DL(val, u3, slope, curve)\n",
    "            if field == self.fieldnames[4]:\n",
    "                return self.__DL(val, u4, slope, curve)\n",
    "            if field == self.fieldnames[5]:\n",
    "                return self.__DL(val, u5, slope, curve)\n",
    "            if field == self.fieldnames[6]:\n",
    "                return self.__DL(val, u6, slope, curve)\n",
    "            if field == self.fieldnames[7]:\n",
    "                return self.__DL(val, u7, slope, curve)\n",
    "            if field == self.fieldnames[8]:\n",
    "                return self.__DL(val, u8, slope, curve)\n",
    "    def __DL(self,val, mag, slope,curve):\n",
    "        \n",
    "        return mag + slope * np.log(val) + curve * 1/np.log(val)\n",
    "    def __call__(self, period):\n",
    "        return self._f(period, *self.popt)"
   ]
  },
  {
   "cell_type": "code",
   "execution_count": 202,
   "metadata": {
    "collapsed": false
   },
   "outputs": [],
   "source": [
    "field_types = None \n",
    "#['str', 'float', 'float','float','float',\n",
    "#               'float','float','float','float','float',\n",
    "#               'float','float','float']\n",
    "cephieds = genfromtxt('cephieds.txt', \n",
    "               skip_header = 39, \n",
    "                invalid_raise=False,\n",
    "                missing_values='',\n",
    "                usemask=False,\n",
    "                filling_values=0.0,\n",
    "                dtype = field_types,\n",
    "                names = True);\n",
    "\n"
   ]
  },
  {
   "cell_type": "code",
   "execution_count": 1,
   "metadata": {
    "collapsed": false
   },
   "outputs": [
    {
     "ename": "NameError",
     "evalue": "name 'cephieds' is not defined",
     "output_type": "error",
     "traceback": [
      "\u001b[0;31m---------------------------------------------------------------------------\u001b[0m",
      "\u001b[0;31mNameError\u001b[0m                                 Traceback (most recent call last)",
      "\u001b[0;32m<ipython-input-1-a7681ea5060a>\u001b[0m in \u001b[0;36m<module>\u001b[0;34m()\u001b[0m\n\u001b[0;32m----> 1\u001b[0;31m \u001b[0mfields\u001b[0m \u001b[0;34m=\u001b[0m \u001b[0mset\u001b[0m\u001b[0;34m(\u001b[0m\u001b[0mcephieds\u001b[0m\u001b[0;34m[\u001b[0m\u001b[0;34m'Field'\u001b[0m\u001b[0;34m]\u001b[0m\u001b[0;34m)\u001b[0m\u001b[0;34m\u001b[0m\u001b[0m\n\u001b[0m\u001b[1;32m      2\u001b[0m \u001b[0;32mfor\u001b[0m \u001b[0mi\u001b[0m\u001b[0;34m,\u001b[0m \u001b[0mfield\u001b[0m \u001b[0;32min\u001b[0m \u001b[0menumerate\u001b[0m\u001b[0;34m(\u001b[0m\u001b[0mfields\u001b[0m\u001b[0;34m)\u001b[0m\u001b[0;34m:\u001b[0m\u001b[0;34m\u001b[0m\u001b[0m\n\u001b[1;32m      3\u001b[0m \u001b[0;34m\u001b[0m\u001b[0m\n\u001b[1;32m      4\u001b[0m     \u001b[0msubplot\u001b[0m\u001b[0;34m(\u001b[0m\u001b[0;36m3\u001b[0m\u001b[0;34m,\u001b[0m\u001b[0;36m3\u001b[0m\u001b[0;34m,\u001b[0m\u001b[0mi\u001b[0m\u001b[0;34m+\u001b[0m\u001b[0;36m1\u001b[0m\u001b[0;34m)\u001b[0m\u001b[0;34m\u001b[0m\u001b[0m\n\u001b[1;32m      5\u001b[0m     \u001b[0mindices\u001b[0m \u001b[0;34m=\u001b[0m \u001b[0marray\u001b[0m\u001b[0;34m(\u001b[0m\u001b[0;34m[\u001b[0m\u001b[0mi\u001b[0m \u001b[0;32mfor\u001b[0m \u001b[0mi\u001b[0m\u001b[0;34m,\u001b[0m\u001b[0mcephied\u001b[0m \u001b[0;32min\u001b[0m \u001b[0menumerate\u001b[0m\u001b[0;34m(\u001b[0m\u001b[0mcephieds\u001b[0m\u001b[0;34m)\u001b[0m \u001b[0;32mif\u001b[0m \u001b[0mcephied\u001b[0m\u001b[0;34m[\u001b[0m\u001b[0;34m'Field'\u001b[0m\u001b[0;34m]\u001b[0m \u001b[0;34m==\u001b[0m \u001b[0mfield\u001b[0m\u001b[0;34m]\u001b[0m\u001b[0;34m)\u001b[0m\u001b[0;34m\u001b[0m\u001b[0m\n",
      "\u001b[0;31mNameError\u001b[0m: name 'cephieds' is not defined"
     ]
    }
   ],
   "source": [
    "fields = set(cephieds['Field'])\n",
    "for i, field in enumerate(fields):\n",
    "\n",
    "    subplot(3,3,i+1)\n",
    "    indices = array([i for i,cephied in enumerate(cephieds) if cephied['Field'] == field])\n",
    "    per = cephieds['Period'][indices]\n",
    "    mag = cephieds['mag'][indices]\n",
    "    err = cephieds['e_mag'][indices]\n",
    "    fit = PLfit(per, mag, err)\n",
    "    print fit.popt\n",
    "    scatter( per,mag, s= 3, linewidth = 0)\n",
    "    xvals = linspace(min(per), max(per), 1000)\n",
    "    yvals = fit(xvals)\n",
    "    plot(xvals, yvals)\n",
    "    gca().set_xscale('log')\n",
    "    xlim(min(per), max(per))\n",
    "    #title('%s'%field)\n",
    "    #ylabel('magnitude')\n",
    "    #xlabel('log period')\n",
    "    #gca().xaxis.set_major_locator(MaxNLocator(nbins = 4))\n",
    "    #gca().yaxis.set_major_locator(MaxNLocator(nbins = 4))\n",
    "    gca().set_xticklabels([])\n",
    "    gca().set_yticklabels([])\n",
    "    gca().invert_yaxis()\n",
    "#tight_layout()"
   ]
  },
  {
   "cell_type": "code",
   "execution_count": 204,
   "metadata": {
    "collapsed": false
   },
   "outputs": [],
   "source": [
    "fit = PL_global_fit(cephieds)"
   ]
  },
  {
   "cell_type": "code",
   "execution_count": 205,
   "metadata": {
    "collapsed": false
   },
   "outputs": [
    {
     "data": {
      "text/plain": [
       "array([ 28.84876107,  27.66247176,  28.56307094,  28.46737839,\n",
       "        28.36367679,  28.33031582,  26.1468758 ,  28.90102331,\n",
       "        29.1873484 ,  -1.1938508 ,   0.79373058])"
      ]
     },
     "execution_count": 205,
     "metadata": {},
     "output_type": "execute_result"
    }
   ],
   "source": [
    "fit.popt\n"
   ]
  },
  {
   "cell_type": "code",
   "execution_count": 206,
   "metadata": {
    "collapsed": false
   },
   "outputs": [
    {
     "data": {
      "text/plain": [
       "<matplotlib.colorbar.Colorbar at 0x10a840390>"
      ]
     },
     "execution_count": 206,
     "metadata": {},
     "output_type": "execute_result"
    },
    {
     "data": {
      "image/png": "[encoded data removed]",
      "text/plain": [
       "<matplotlib.figure.Figure at 0x10b02b150>"
      ]
     },
     "metadata": {},
     "output_type": "display_data"
    }
   ],
   "source": [
    "fit.corrmat = zeros(fit.pcov.shape)\n",
    "for i in arange(fit.pcov.shape[0]):\n",
    "    for j in arange(fit.pcov.shape[1]):\n",
    "        fit.corrmat[i,j] = fit.pcov[i,j]/sqrt(fit.pcov[i,i]*fit.pcov[j,j])\n",
    "\n",
    "\n",
    "matshow(fit.corrmat)\n",
    "colorbar()"
   ]
  },
  {
   "cell_type": "code",
   "execution_count": 209,
   "metadata": {
    "collapsed": false
   },
   "outputs": [
    {
     "name": "stdout",
     "output_type": "stream",
     "text": [
      "0.977732972746\n"
     ]
    }
   ],
   "source": [
    "print sum((cephieds['mag'] - fit(zip(cephieds['Field'], cephieds['Period'])))**2/cephieds['e_mag']**2)/(len(cephieds['e_mag'])-11)"
   ]
  },
  {
   "cell_type": "code",
   "execution_count": 218,
   "metadata": {
    "collapsed": false
   },
   "outputs": [
    {
     "data": {
      "text/plain": [
       "[<matplotlib.lines.Line2D at 0x10deb5610>]"
      ]
     },
     "execution_count": 218,
     "metadata": {},
     "output_type": "execute_result"
    },
    {
     "data": {
      "image/png": "[encoded data removed]",
      "text/plain": [
       "<matplotlib.figure.Figure at 0x10deb5250>"
      ]
     },
     "metadata": {},
     "output_type": "display_data"
    }
   ],
   "source": [
    "errorbar(cephieds['mag'],(cephieds['mag'] - fit(zip(cephieds['Field'], cephieds['Period']))), yerr = cephieds['e_mag'],\n",
    "        linestyle = '')\n",
    "slope, intercept = polyfit(cephieds['mag'], (cephieds['mag'] - fit(zip(cephieds['Field'], cephieds['Period']))), 1,w = 1/cephieds['e_mag'])\n",
    "xvals = linspace(20,27,1000)\n",
    "plot(xvals, intercept + slope * xvals )"
   ]
  },
  {
   "cell_type": "code",
   "execution_count": 211,
   "metadata": {
    "collapsed": true
   },
   "outputs": [],
   "source": []
  },
  {
   "cell_type": "code",
   "execution_count": 213,
   "metadata": {
    "collapsed": false
   },
   "outputs": [
    {
     "data": {
      "text/plain": [
       "array([ 0.06825823, -1.61817386])"
      ]
     },
     "execution_count": 213,
     "metadata": {},
     "output_type": "execute_result"
    }
   ],
   "source": []
  },
  {
   "cell_type": "code",
   "execution_count": null,
   "metadata": {
    "collapsed": true
   },
   "outputs": [],
   "source": []
  }
 ],
 "metadata": {
  "kernelspec": {
   "display_name": "Python 2",
   "language": "python",
   "name": "python2"
  },
  "language_info": {
   "codemirror_mode": {
    "name": "ipython",
    "version": 2
   },
   "file_extension": ".py",
   "mimetype": "text/x-python",
   "name": "python",
   "nbconvert_exporter": "python",
   "pygments_lexer": "ipython2",
   "version": "2.7.11"
  }
 },
 "nbformat": 4,
 "nbformat_minor": 0
}
