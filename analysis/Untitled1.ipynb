{
 "cells": [
  {
   "cell_type": "code",
   "execution_count": 1,
   "metadata": {
    "collapsed": false
   },
   "outputs": [
    {
     "name": "stdout",
     "output_type": "stream",
     "text": [
      "Using matplotlib backend: TkAgg\n",
      "Populating the interactive namespace from numpy and matplotlib\n"
     ]
    }
   ],
   "source": [
    "import pandas as pd\n",
    "import numpy as np\n",
    "%pylab\n",
    "%matplotlib inline\n",
    "import seaborn as sbn\n",
    "from repoze.lru import CacheMaker"
   ]
  },
  {
   "cell_type": "code",
   "execution_count": 2,
   "metadata": {
    "collapsed": false
   },
   "outputs": [],
   "source": [
    "def get_data():\n",
    "    '''\n",
    "    Grabs the cepheids and sne from the R16 sample\n",
    "    returns: \n",
    "        cepheids: Cepheid dataframe\n",
    "        sne: sne dataframe\n",
    "    '''\n",
    "    filename = '../data/r16_table4.out'\n",
    "    sne_start = 40\n",
    "    sne_end = 59\n",
    "    sne_lines = arange(sne_start,sne_end)\n",
    "    sne = pd.DataFrame(columns = ['Host', 'sne', 'm^B_0', 'err'], index = arange(sne_end - sne_start))\n",
    "    ceph_start = 70\n",
    "    ceph_end = 2346\n",
    "    cepheid_lines = arange(ceph_start,ceph_end)\n",
    "    cepheids = pd.DataFrame(columns = ['Field','RA','DEC','ID','Period','VminusI','m_H','sigma_tot','Z'], \n",
    "                            index = arange(ceph_end - ceph_start),\n",
    "                           dtype = 'float')\n",
    "    f = file(filename)\n",
    "    for i, line in enumerate(f):\n",
    "        if i in sne_lines:\n",
    "            sne.loc[i-sne_start] = line.lower().split()\n",
    "        if i in cepheid_lines:\n",
    "            cepheids.loc[i-ceph_start] = line.lower().split()\n",
    "\n",
    "    f.close()\n",
    "    cepheids = cepheids.apply(lambda x: pd.to_numeric(x, errors='ignore') );\n",
    "\n",
    "    sne = sne.apply(lambda x: pd.to_numeric(x, errors='ignore') );\n",
    "\n",
    "\n",
    "    parallaxes = {'bgcru': (2.23, 0.30,-0.15), \n",
    "                  'dtcyg':(2.19,0.33, -0.18), \n",
    "                  'ffaql':(2.64,0.16, -0.03),\n",
    "                  'rtaur':(2.31, 0.19,-0.06),\n",
    "                  'sscma':(0.348, 0.038, -0.04),\n",
    "                  'sucas':(2.57,  0.33, -0.13 ),\n",
    "                  'syaur':(0.428, 0.054, -0.04),\n",
    "                  'tvul':(2.06,0.22,-0.09 ),\n",
    "                  'wsgr':(2.30, 0.19, -0.06),\n",
    "                  'xsgr':(3.17, 0.14, -0.02),\n",
    "                  'ysgr':(2.13, 0.29, -0.15),\n",
    "                  'betador':(3.26, 0.14, -0.02),\n",
    "                  'delceph':(3.71,0.12,-0.01),\n",
    "                  'etagem':(2.74,0.12,-0.02),\n",
    "                  'lcar':(2.03,0.16,-0.05)\n",
    "                 }\n",
    "    parallaxes = pd.DataFrame.from_dict(parallaxes, orient = 'index', )\n",
    "    parallaxes.reset_index(inplace=True)\n",
    "    parallaxes.columns = ['ID', 'parallax', 'p_err', 'LK']\n",
    "    cepheids = cepheids.merge(parallaxes, on = 'ID', how = 'left')\n",
    "\n",
    "\n",
    "    cepheids.fillna({'parallax':1e-03, 'p_err':0, 'LK':0}, inplace = True);\n",
    "    cepheids['err'] = sqrt(cepheids.sigma_tot**2 + (cepheids.p_err / cepheids.parallax * 5/log(10))**2)\n",
    "    return cepheids, sne"
   ]
  },
  {
   "cell_type": "code",
   "execution_count": 3,
   "metadata": {
    "collapsed": true
   },
   "outputs": [],
   "source": [
    "cepheids, sne = get_data()\n",
    "cepheids['logP'] = cepheids['Period'].apply(np.log10)"
   ]
  },
  {
   "cell_type": "code",
   "execution_count": 134,
   "metadata": {
    "collapsed": false
   },
   "outputs": [],
   "source": [
    "cachemaker = CacheMaker()\n",
    "class ClosestNeighborMagnitude(object):\n",
    "    def __init__(self, cepheids, max_dist = .5):\n",
    "        cepheids['logP'] = cepheids.Period.apply(np.log10)\n",
    "        cepheids['eM'] = 0\n",
    "        self.cepheids = cepheids\n",
    "        self.metric = inv(self.cepheids[['logP', 'VminusI']].cov())\n",
    "        self.known = self.cepheids.loc[self.cepheids.Field.isin(['lmc','galaxy', 'n4258'])]\n",
    "        self.unknown = self.cepheids.loc[~self.cepheids.Field.isin(['lmc','galaxy', 'n4258'])]\n",
    "        self.max_dist = max_dist\n",
    "        print 'building hash'\n",
    "        self.hash = {ceph: self._get_closest_known_index(ceph) for ceph in self.unknown.T}\n",
    "        \n",
    "    def __call__(self, params):\n",
    "        self.params = params\n",
    "        for ceph in self.cepheids.T:\n",
    "            self._get_ceph_magnitude(ceph)\n",
    "        cachemaker.clear()\n",
    "    \n",
    "    def _get_closest_known_index(self, index):\n",
    "        k_index = self.known.index[np.argmin([self._get_distance(\n",
    "                        self.cepheids.T[index],\n",
    "                        self.known.T[k_index]\n",
    "                        ) for k_index in self.known.T])]\n",
    "        distance = self._get_distance(\n",
    "            self.cepheids.T[index],\n",
    "            self.known.T[k_index]\n",
    "        )\n",
    "        if distance < self.max_dist:\n",
    "            return k_index\n",
    "        else:\n",
    "            return None\n",
    "            \n",
    "    @cachemaker.lrucache(maxsize = 1000, name = 'magnitudes')       \n",
    "    def _get_ceph_magnitude(self, index):\n",
    "        if index == None:\n",
    "            return np.NaN\n",
    "        cepheid = self.cepheids.loc[index]\n",
    "        if cepheid.Field == 'lmc':\n",
    "            mag = cepheid.m_H - self.params['mu_'+cepheid.Field]+params['dz']\n",
    "            self.cepheids.loc[index,'M'] =  mag\n",
    "            self.cepheids.loc[index,'eM'] += cepheid.err\n",
    "            return mag\n",
    "        elif cepheid.Field == 'galaxy':\n",
    "            mag = cepheid.m_H - (5 * np.log10(1.0e-3/cepheid.parallax) + 25 - cepheid.LK)+params['dz']\n",
    "            self.cepheids.loc[index,'M'] =  mag\n",
    "            self.cepheids.loc[index,'eM'] += cepheid.err\n",
    "            return mag\n",
    "        \n",
    "        elif cepheid.Field == 'n4258':\n",
    "            mag = cepheid.m_H - self.params['mu_'+cepheid.Field]\n",
    "            self.cepheids.loc[index,'M'] =  mag\n",
    "            self.cepheids.loc[index,'eM'] += cepheid.err\n",
    "            return mag\n",
    "        elif cepheid.Field == 'm31':\n",
    "            closest_ceph = self.hash[index]\n",
    "            mag = self._get_ceph_magnitude(closest_ceph)\n",
    "            self.cepheids.loc[index,'M'] =  mag\n",
    "            self.cepheids.loc[index,'eM'] += cepheid.err\n",
    "            return mag           \n",
    "        else:\n",
    "            closest_ceph = self.hash[index]\n",
    "            mag = self._get_ceph_magnitude(closest_ceph)\n",
    "            self.cepheids.loc[index,'M'] =  mag\n",
    "            self.cepheids.loc[index,'eM'] += cepheid.err\n",
    "            return mag\n",
    "        \n",
    "\n",
    "\n",
    "        \n",
    "    def _get_distance(self, x, y):\n",
    "        x = x[['logP','VminusI']].values\n",
    "        y = y[['logP','VminusI']].values\n",
    "        return sqrt(np.dot(x-y, np.dot(self.metric, (x-y).T)))\n",
    "\n"
   ]
  },
  {
   "cell_type": "code",
   "execution_count": 135,
   "metadata": {
    "collapsed": false
   },
   "outputs": [],
   "source": [
    "starts = {'m101': 29.144437436768779,  'n3370': 32.085326573203133, \n",
    "          'n3447': 31.925511937144158, 'n1448': 31.331612808727602, \n",
    "          'u9391': 32.876957912796556, 'n3982': 31.691652487648998, \n",
    "          'n1309': 32.538213812056632, 'n1365': 31.29349520994554, \n",
    "          'lmc': 18.491674020476449,   'm31': 24.432759814673339, \n",
    "          'n3021': 32.434801375871849, 'n4424': 30.913725676693797, \n",
    "          'n4258': 29.352312664474258, 'n5917': 32.193993084145056, \n",
    "          'n5584': 31.791532724280536, 'n2442': 31.535445988717694, \n",
    "          'n7250': 31.486608822858241, 'n4038': 31.419939642742925, \n",
    "          'n1015': 32.567894400797492, 'n4536': 30.920497941433734, \n",
    "          'n3972': 31.65839514301733, 'n4639': 31.528312982189139\n",
    "          }\n",
    "params = dict([('mu_'+key, starts[key]) for key in starts.keys()])\n",
    "params['dz'] = 0"
   ]
  },
  {
   "cell_type": "code",
   "execution_count": null,
   "metadata": {
    "collapsed": false
   },
   "outputs": [
    {
     "name": "stdout",
     "output_type": "stream",
     "text": [
      "building hash\n"
     ]
    }
   ],
   "source": [
    "get_magnitude = ClosestNeighborMagnitude(cepheids)\n"
   ]
  },
  {
   "cell_type": "code",
   "execution_count": null,
   "metadata": {
    "collapsed": false
   },
   "outputs": [],
   "source": [
    "get_magnitude(params)"
   ]
  },
  {
   "cell_type": "code",
   "execution_count": null,
   "metadata": {
    "collapsed": false
   },
   "outputs": [],
   "source": [
    "scatter(get_magnitude.known['logP'], get_magnitude.known['VminusI'], s = 1)\n",
    "scatter(get_magnitude.unknown['logP'], get_magnitude.unknown['VminusI'], s = 1)\n",
    "loc = get_magnitude.cepheids.M.notnull()\n",
    "scatter(get_magnitude.cepheids.loc[loc, 'logP'], get_magnitude.cepheids.loc[loc, 'VminusI'], s = 1)\n"
   ]
  },
  {
   "cell_type": "code",
   "execution_count": null,
   "metadata": {
    "collapsed": true
   },
   "outputs": [],
   "source": []
  }
 ],
 "metadata": {
  "kernelspec": {
   "display_name": "Python 2",
   "language": "python",
   "name": "python2"
  },
  "language_info": {
   "codemirror_mode": {
    "name": "ipython",
    "version": 2
   },
   "file_extension": ".py",
   "mimetype": "text/x-python",
   "name": "python",
   "nbconvert_exporter": "python",
   "pygments_lexer": "ipython2",
   "version": "2.7.12"
  }
 },
 "nbformat": 4,
 "nbformat_minor": 1
}
