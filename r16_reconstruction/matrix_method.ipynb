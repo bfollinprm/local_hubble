{
 "cells": [
  {
   "cell_type": "code",
   "execution_count": 1,
   "metadata": {
    "collapsed": false
   },
   "outputs": [
    {
     "name": "stdout",
     "output_type": "stream",
     "text": [
      "Using matplotlib backend: MacOSX\n",
      "Populating the interactive namespace from numpy and matplotlib\n"
     ]
    }
   ],
   "source": [
    "%pylab\n",
    "%matplotlib inline\n",
    "rc('text', usetex = True)\n",
    "import pandas as pd\n",
    "from numpy.linalg import solve"
   ]
  },
  {
   "cell_type": "code",
   "execution_count": 2,
   "metadata": {
    "collapsed": true
   },
   "outputs": [],
   "source": [
    "## flags for the various geometric constraints, T/F\n",
    "usemilkyway = True\n",
    "useNGC4258 = True\n",
    "uselmc = True\n",
    "kappa = 0"
   ]
  },
  {
   "cell_type": "code",
   "execution_count": 3,
   "metadata": {
    "collapsed": false
   },
   "outputs": [],
   "source": [
    "## Grab data\n",
    "filename = '../data/r16_table4.out'\n",
    "\n",
    "## set up dataframes\n",
    "sne_start = 40\n",
    "sne_end = 59\n",
    "sne_lines = arange(sne_start,sne_end)\n",
    "sne = pd.DataFrame(columns = ['Host', 'sne', 'm_B', 'err'], index = arange(sne_end - sne_start))\n",
    "ceph_start = 70\n",
    "ceph_end = 2346\n",
    "cepheid_lines = arange(ceph_start,ceph_end)\n",
    "cepheids = pd.DataFrame(columns = ['Field','RA','DEC','ID','Period','VminusI','m_H','sigma_tot','Z'], \n",
    "                        index = arange(ceph_end - ceph_start),\n",
    "                       dtype = 'float')\n",
    "\n",
    "## fill dataframes\n",
    "f = file(filename)\n",
    "for i, line in enumerate(f):\n",
    "    if i in sne_lines:\n",
    "        sne.loc[i-sne_start] = line.lower().split()\n",
    "    if i in cepheid_lines:\n",
    "        cepheids.loc[i-ceph_start] = line.lower().split()\n",
    "\n",
    "f.close()\n",
    "\n",
    "## Switch to float from string where needed, and cut unwanted cepheids from sample\n",
    "cepheids = cepheids.apply(lambda x: pd.to_numeric(x, errors='ignore') );\n",
    "if usemilkyway == False:\n",
    "    cepheids = cepheids[cepheids.Field != 'galaxy']\n",
    "    cepheids.reset_index(drop = True, inplace = True)\n",
    "if (uselmc == False) & (usemilkyway == False):\n",
    "    print 'cutting out lmc cepheids'\n",
    "    cepheids = cepheids[cepheids.Field != 'lmc']\n",
    "    cepheids.reset_index(drop = True, inplace = True)\n",
    "sne = sne.apply(lambda x: pd.to_numeric(x, errors='ignore') );\n",
    "\n",
    "## Add milky way parallax information to cepheids\n",
    "parallaxes = {'bgcru': (2.23, 0.30,-0.15), \n",
    "              'dtcyg':(2.19,0.33, -0.18), \n",
    "              'ffaql':(2.64,0.16, -0.03),\n",
    "              'rtaur':(2.31, 0.19,-0.06),\n",
    "              'sscma':(0.348, 0.038, -0.04),\n",
    "              'sucas':(2.57,  0.33, -0.13 ),\n",
    "              'syaur':(0.428, 0.054, -0.04),\n",
    "              'tvul':(2.06,0.22,-0.09 ),\n",
    "              'wsgr':(2.30, 0.19, -0.06),\n",
    "              'xsgr':(3.17, 0.14, -0.02),\n",
    "              'ysgr':(2.13, 0.29, -0.15),\n",
    "              'betador':(3.26, 0.14, -0.02),\n",
    "              'delceph':(3.71,0.12,-0.01),\n",
    "              'etagem':(2.74,0.12,-0.02),\n",
    "              'lcar':(2.03,0.16,-0.05)\n",
    "             }\n",
    "parallaxes = pd.DataFrame.from_dict(parallaxes, orient = 'index', )\n",
    "parallaxes.reset_index(inplace=True)\n",
    "parallaxes.columns = ['ID', 'parallax', 'p_err', 'LK']\n",
    "cepheids = cepheids.merge(parallaxes, on = 'ID', how = 'left').fillna({'parallax':inf, 'p_err':0, 'LK':0})\n",
    "numcephs = (cepheids.m_H).size\n",
    "numsne = (sne.m_B).size"
   ]
  },
  {
   "cell_type": "code",
   "execution_count": 4,
   "metadata": {
    "collapsed": false
   },
   "outputs": [
    {
     "data": {
      "text/plain": [
       "1501    0.081\n",
       "1502    0.082\n",
       "1503    0.084\n",
       "1504    0.081\n",
       "1505    0.086\n",
       "1506    0.085\n",
       "1507    0.084\n",
       "1508    0.086\n",
       "1509    0.084\n",
       "1510    0.085\n",
       "1511    0.081\n",
       "1512    0.085\n",
       "1513    0.082\n",
       "1514    0.082\n",
       "1515    0.090\n",
       "1516    0.104\n",
       "1517    0.085\n",
       "1518    0.084\n",
       "1519    0.101\n",
       "1520    0.095\n",
       "1521    0.085\n",
       "1522    0.085\n",
       "1523    0.091\n",
       "1524    0.087\n",
       "1525    0.085\n",
       "1526    0.084\n",
       "1527    0.083\n",
       "1528    0.087\n",
       "1529    0.086\n",
       "1530    0.084\n",
       "        ...  \n",
       "2246    0.100\n",
       "2247    0.106\n",
       "2248    0.087\n",
       "2249    0.094\n",
       "2250    0.111\n",
       "2251    0.117\n",
       "2252    0.108\n",
       "2253    0.098\n",
       "2254    0.092\n",
       "2255    0.091\n",
       "2256    0.090\n",
       "2257    0.108\n",
       "2258    0.116\n",
       "2259    0.100\n",
       "2260    0.115\n",
       "2261    0.095\n",
       "2262    0.111\n",
       "2263    0.114\n",
       "2264    0.095\n",
       "2265    0.091\n",
       "2266    0.100\n",
       "2267    0.097\n",
       "2268    0.105\n",
       "2269    0.095\n",
       "2270    0.095\n",
       "2271    0.101\n",
       "2272    0.091\n",
       "2273    0.101\n",
       "2274    0.099\n",
       "2275    0.101\n",
       "Name: sigma_tot, dtype: float64"
      ]
     },
     "execution_count": 4,
     "metadata": {},
     "output_type": "execute_result"
    }
   ],
   "source": [
    "cepheids.loc[cepheids.Field == 'lmc', 'sigma_tot']"
   ]
  },
  {
   "cell_type": "code",
   "execution_count": 5,
   "metadata": {
    "collapsed": false
   },
   "outputs": [],
   "source": [
    "#### Data (magnitude) vector [ceph_1, ...., ceph_ncephs, sn_1, ... , sn_nsne, 0, 0, 0] (last 3 constraint eqns)\n",
    "\n",
    "### Cepheids\n",
    "data = (cepheids.m_H - 0.39 * cepheids.VminusI)\n",
    "#### Subtract out the geometric distances we have, which is easy to do with a Dataframe but hard with an array.\n",
    "data = pd.DataFrame({'data':data, 'Field':array(cepheids.Field), 'ID': array(cepheids.ID)})\n",
    "data.loc[data.Field == 'n4258','data'] += -29.387 \n",
    "data.loc[data.Field == 'lmc', 'data'] +=  -18.494\n",
    "data.loc[cepheids.parallax != inf, 'data']-= (5 * log10((1/cepheids.loc[cepheids.parallax != inf, 'parallax'])*1e-3)\n",
    "                                              +25\n",
    "                                              - cepheids.loc[cepheids.parallax != inf, 'LK']\n",
    "                                              )\n",
    "data = data['data'].tolist() \n",
    "\n",
    "### SNe\n",
    "data += sne.m_B.tolist()\n",
    "\n",
    "### Constraint zeros\n",
    "numconstraints = 3\n",
    "if uselmc == False: numconstraints -= 1\n",
    "if useNGC4258 == False: numconstraints -= 1\n",
    "for i in arange(numconstraints):\n",
    "    data += [0]\n",
    "data = array(data)"
   ]
  },
  {
   "cell_type": "code",
   "execution_count": 6,
   "metadata": {
    "collapsed": false
   },
   "outputs": [],
   "source": [
    "#### Error matrix:\n",
    "## cepheids\n",
    "variance = cepheids.sigma_tot**2 ### intrinsic, color, phase, and, crowding error\n",
    "variance += (cepheids.p_err / cepheids.parallax * 5/log(10))**2 ### Add error to galaxy cepheids associated with parallax\n",
    "variance = variance.tolist()\n",
    "\n",
    "### SNe\n",
    "variance += (sne.err**2).tolist()\n",
    "\n",
    "\n",
    "### Constraint equations\n",
    "variance += [0.03**2] ### HST/ground zero point error\n",
    "if uselmc:\n",
    "    variance += [0.0452**2] ###dmulmc\n",
    "if useNGC4258:\n",
    "    variance += [(0.02616*2.17)**2] ###dmungc4258\n",
    "\n",
    "    \n",
    "## make it a (diagonal) matrix\n",
    "cinv = diag(1/array(variance))"
   ]
  },
  {
   "cell_type": "code",
   "execution_count": 7,
   "metadata": {
    "collapsed": false
   },
   "outputs": [],
   "source": [
    "#### Parameters\n",
    "paramnames = []\n",
    "for field in (set(cepheids.Field)):\n",
    "    if (field != 'galaxy') & (field != 'lmc') & (field != 'n4258'):\n",
    "        paramnames += ['mu_'+field]\n",
    "paramnames += ['dmu_n4258']\n",
    "paramnames += ['M_ceph']\n",
    "if usemilkyway or uselmc:\n",
    "    paramnames += ['dmu_lmc']\n",
    "paramnames += ['b']\n",
    "paramnames += ['M_sne']\n",
    "paramnames += ['Z_w']\n",
    "paramnames += ['delta_zp']\n",
    "paramnames += ['b_l']"
   ]
  },
  {
   "cell_type": "code",
   "execution_count": 8,
   "metadata": {
    "collapsed": false
   },
   "outputs": [
    {
     "name": "stdout",
     "output_type": "stream",
     "text": [
      "using LMC constraint\n",
      "using NGC 4258 constraint\n"
     ]
    },
    {
     "data": {
      "text/plain": [
       "(2298, 2298)"
      ]
     },
     "execution_count": 8,
     "metadata": {},
     "output_type": "execute_result"
    }
   ],
   "source": [
    "### Design matrix\n",
    "\n",
    "\n",
    "\n",
    "### Let's do the cepheid columns first\n",
    "L = zeros([numcephs, len(paramnames)])\n",
    "L = pd.DataFrame(L, columns = paramnames)\n",
    "## magnitudes depend on absolute magnitudes\n",
    "L.loc[:,'M_ceph'] = 1\n",
    "\n",
    "## and distance moduli\n",
    "fields = set(cepheids.Field)\n",
    "fields.remove('n4258')\n",
    "if usemilkyway: fields.remove('galaxy')\n",
    "if (usemilkyway) or (uselmc): \n",
    "    fields.remove('lmc')\n",
    "    L.loc[cepheids.Field == 'lmc', 'dmu_lmc'] = 1      ## Treating these differently because that's what's done in R16\n",
    "\n",
    "for field in fields: ## loop over every field but the MW, LMC, and NGC 4258\n",
    "    L.loc[cepheids.Field == field, 'mu_'+field] = 1\n",
    "L.loc[cepheids.Field == 'n4258', 'dmu_n4258'] = 1  ## Treating these differently because that's what's done in R16\n",
    "L.loc[cepheids.Field == 'galaxy', 'delta_zp'] = 1  ## add zero point error to LMC and Galaxy\n",
    "L.loc[cepheids.Field == 'lmc', 'delta_zp'] =1\n",
    "L.loc[cepheids.Period >= 10, 'b'] = (log10(cepheids.loc[cepheids.Period>=10, 'Period'])-1.0)  ## break in P-L relation at P=10\n",
    "L.loc[cepheids.Period < 10, 'b_l'] = (log10(cepheids.loc[cepheids.Period<10, 'Period'])-1.0)\n",
    "L.loc[:, 'Z_w']  = cepheids.Z - 8.9#mean(cepheids.Z)#8.9 ## Metallicity\n",
    "Ltot = L\n",
    "\n",
    "\n",
    "### Now the SNe:\n",
    "L = pd.DataFrame(zeros([numsne, len(paramnames)]), columns = paramnames)\n",
    "L.loc[:, 'M_sne'] = 1\n",
    "for host in (set(sne.Host)):\n",
    "    L.loc[sne.Host == host, 'mu_'+host] = 1\n",
    "Ltot = Ltot.append(L)\n",
    "\n",
    "### Now the constraint equations\n",
    "L = pd.DataFrame(zeros([numconstraints, len(paramnames)]), columns = paramnames)\n",
    "\n",
    "\n",
    "L.loc[0,'delta_zp'] = 1\n",
    "count = 1\n",
    "if uselmc:\n",
    "    L.loc[count,'dmu_lmc'] = 1\n",
    "    count += 1\n",
    "    print 'using LMC constraint'\n",
    "if useNGC4258:\n",
    "    L.loc[count,'dmu_n4258'] = 1\n",
    "    count += 1\n",
    "    print 'using NGC 4258 constraint'\n",
    "Ltot = Ltot.append(L)\n",
    "\n",
    "### Reset the index so it goes from 0, ..., num_cephs + num_sne + numconstraints - 1\n",
    "Ltot.reset_index(inplace = True, drop = True)\n",
    "Ltot.shape\n",
    "cinv.shape"
   ]
  },
  {
   "cell_type": "code",
   "execution_count": 9,
   "metadata": {
    "collapsed": false
   },
   "outputs": [],
   "source": [
    "param_cinv = (dot(Ltot.T, dot(cinv, Ltot))) ## The A of Aq = B\n",
    "param_cinv = pd.DataFrame(param_cinv, columns = paramnames, index = paramnames)\n"
   ]
  },
  {
   "cell_type": "code",
   "execution_count": 10,
   "metadata": {
    "collapsed": false
   },
   "outputs": [],
   "source": [
    "LtCinv = dot(Ltot.T, cinv) ## The B of Aq = B\n",
    "LtCinv = pd.DataFrame(LtCinv, index = paramnames)"
   ]
  },
  {
   "cell_type": "code",
   "execution_count": 11,
   "metadata": {
    "collapsed": false
   },
   "outputs": [],
   "source": [
    "## best fit and error\n",
    "bestfit = dot(inv(param_cinv), dot(LtCinv, data))\n",
    "#bestfit = solve(param_cinv, dot(LtCinv, data)) ## q = A^-1 B\n",
    "error = sqrt(diag(inv(param_cinv))) ## error covariance is A^{-1}, so I do need to invert this.\n"
   ]
  },
  {
   "cell_type": "code",
   "execution_count": 12,
   "metadata": {
    "collapsed": false
   },
   "outputs": [],
   "source": [
    "### Append the remaining information we need to q_best\n",
    "q = pd.DataFrame({'best_fit':bestfit, 'error':error}, index = paramnames)\n",
    "fit = q.copy()\n",
    "fit = fit.append(pd.DataFrame({'best_fit':0.71273*1.005, 'error':0.00176}, index = ['a_B']))\n",
    "H_0val = 10**(0.2 * fit.loc['M_sne','best_fit'] +  fit.loc['a_B', 'best_fit'] + 5)\n",
    "H_0err = H_0val * sqrt(\n",
    "                                (fit.loc['a_B', 'error'] * log(10))**2 \n",
    "                                + (log(10)/5 *fit.loc['M_sne', 'error'] )**2\n",
    "    )\n",
    "fit = fit.append(pd.DataFrame({'best_fit': H_0val, 'error': H_0err}, index = ['H_0']))"
   ]
  },
  {
   "cell_type": "code",
   "execution_count": 13,
   "metadata": {
    "collapsed": false
   },
   "outputs": [
    {
     "data": {
      "text/plain": [
       "best_fit    73.106693\n",
       "error        1.691593\n",
       "Name: H_0, dtype: float64"
      ]
     },
     "execution_count": 13,
     "metadata": {},
     "output_type": "execute_result"
    }
   ],
   "source": [
    "fit.T['H_0']"
   ]
  },
  {
   "cell_type": "code",
   "execution_count": 14,
   "metadata": {
    "collapsed": false
   },
   "outputs": [],
   "source": [
    "fields = uselmc * ['_lmc'] + useNGC4258 *['_NGC4258'] + usemilkyway * ['_MW']\n",
    "fields = ''.join(fields)\n",
    "pd.DataFrame(data).to_csv('y'+fields+'.csv')\n",
    "Ltot.to_csv('L'+fields+'.csv')\n",
    "cinv = pd.DataFrame(diag(cinv))\n",
    "cinv.to_csv('cinv'+fields+'.csv')\n",
    "fit.to_csv('q'+fields+'.csv')"
   ]
  },
  {
   "cell_type": "code",
   "execution_count": 15,
   "metadata": {
    "collapsed": false
   },
   "outputs": [],
   "source": [
    "### Row and colum indexing\n",
    "#Ltot.info() ## information about the dataframe\n",
    "#Ltot[0:10] ## row slicing\n",
    "#Ltot[['M_ceph', 'b']] ## column slicing\n",
    "#q.loc[fit.index == 'b','best_fit'] ## slice on both with .loc, and use booleans"
   ]
  },
  {
   "cell_type": "code",
   "execution_count": 16,
   "metadata": {
    "collapsed": false
   },
   "outputs": [
    {
     "data": {
      "text/plain": [
       "{'m101': 29.142177890200344,\n",
       " 'm31': 24.431038948926698,\n",
       " 'n1015': 32.561438633694081,\n",
       " 'n1309': 32.524311299375483,\n",
       " 'n1365': 31.299317096514301,\n",
       " 'n1448': 31.329827537695792,\n",
       " 'n2442': 31.523195405447723,\n",
       " 'n3021': 32.410980141778964,\n",
       " 'n3370': 32.088982330191186,\n",
       " 'n3447': 31.920563180060981,\n",
       " 'n3972': 31.635135732312051,\n",
       " 'n3982': 31.689114021979151,\n",
       " 'n4038': 31.394512791640807,\n",
       " 'n4424': 30.840832502017918,\n",
       " 'n4536': 30.912971700219828,\n",
       " 'n4639': 31.576500589675561,\n",
       " 'n5584': 31.797251210181685,\n",
       " 'n5917': 32.271211885388936,\n",
       " 'n7250': 31.520886634704254,\n",
       " 'u9391': 32.89323094209692}"
      ]
     },
     "execution_count": 16,
     "metadata": {},
     "output_type": "execute_result"
    }
   ],
   "source": [
    "start = {}\n",
    "for field in set(cepheids.Field):\n",
    "    if( field != 'galaxy') & (field != 'lmc') & (field != 'n4258'):\n",
    "        start[field] = fit.best_fit['mu_'+field]\n",
    "start"
   ]
  },
  {
   "cell_type": "code",
   "execution_count": 17,
   "metadata": {
    "collapsed": false
   },
   "outputs": [],
   "source": [
    "fit.to_csv('matrix_method.csv')"
   ]
  },
  {
   "cell_type": "code",
   "execution_count": 18,
   "metadata": {
    "collapsed": false
   },
   "outputs": [
    {
     "data": {
      "text/plain": [
       "29.142177890200344"
      ]
     },
     "execution_count": 18,
     "metadata": {},
     "output_type": "execute_result"
    }
   ],
   "source": [
    "fit.loc['mu_m101', 'best_fit']"
   ]
  },
  {
   "cell_type": "code",
   "execution_count": 19,
   "metadata": {
    "collapsed": false
   },
   "outputs": [
    {
     "name": "stdout",
     "output_type": "stream",
     "text": [
      "-5.87927023276 0.0902620751229\n",
      "-5.91653937958 0.111272829448\n"
     ]
    },
    {
     "data": {
      "image/png": "[encoded data removed]",
      "text/plain": [
       "<matplotlib.figure.Figure at 0x10c3d5d10>"
      ]
     },
     "metadata": {},
     "output_type": "display_data"
    }
   ],
   "source": [
    "cepheids['M'] = pd.Series(zeros(cepheids.m_H.size))\n",
    "cepheids['M_err'] = pd.Series(zeros(cepheids.m_H.size))\n",
    "\n",
    "for field in set(cepheids.Field):\n",
    "    if (field != 'galaxy') and (field != 'lmc') and (field != 'n4258'):\n",
    "        x = list(cepheids.loc[cepheids.Field ==field, 'm_H'] - fit.loc['mu_'+field, 'best_fit']\n",
    "              - 0.39 * cepheids.loc[cepheids.Field == field, 'VminusI']\n",
    "                - (cepheids.loc[cepheids.Field == field, 'Period'] >= 10)* fit.loc['b', 'best_fit'] *  (-1 + log10(cepheids.loc[cepheids.Field == field, 'Period']))\n",
    "                 - (cepheids.loc[cepheids.Field == field, 'Period'] < 10) * fit.loc['b_l', 'best_fit'] *  (-1 + log10(cepheids.loc[cepheids.Field == field, 'Period']))\n",
    "                 )\n",
    "        cepheids.loc[cepheids.Field == field, 'M'] = x\n",
    "        if max(x) > 0:\n",
    "\n",
    "            print x, field\n",
    "\n",
    "        x = list(sqrt(cepheids.loc[cepheids.Field ==field, 'sigma_tot']**2\n",
    "                     # + fit.loc['mu_'+field, 'error']**2\n",
    "                     + (fit.loc['b', 'error'] * (-1.0 + log10(cepheids.loc[cepheids.Field == field, 'Period']))**2)))\n",
    "        cepheids.loc[cepheids.Field == field, 'M_err'] = x\n",
    "    if field == 'lmc':\n",
    "        x = list(cepheids.loc[cepheids.Field == field, 'm_H'] - fit.loc['dmu_'+field, 'best_fit'] - 18.494\n",
    "         - 0.39 * cepheids.loc[cepheids.Field == field, 'VminusI']\n",
    "                 - (cepheids.loc[cepheids.Field == field, 'Period'] >= 10)* fit.loc['b', 'best_fit'] *  (-1 + log10(cepheids.loc[cepheids.Field == field, 'Period']))\n",
    "                 - (cepheids.loc[cepheids.Field == field, 'Period'] < 10) * fit.loc['b_l', 'best_fit'] *  (-1 + log10(cepheids.loc[cepheids.Field == field, 'Period']))\n",
    "                 )\n",
    "    \n",
    "        cepheids.loc[cepheids.Field == field, 'M'] = x\n",
    "        x = list(sqrt(cepheids.loc[cepheids.Field ==field, 'sigma_tot']**2\n",
    "                      #+ fit.loc['dmu_'+field, 'error']**2\n",
    "                     + (fit.loc['b', 'error'] * (-1.0 + log10(cepheids.loc[cepheids.Field == field, 'Period']))**2)))\n",
    "        cepheids.loc[cepheids.Field == field, 'M_err'] = x\n",
    "        \n",
    "        \n",
    "    if field == 'n4258':\n",
    "        x = list(cepheids.loc[cepheids.Field == field, 'm_H'] - fit.loc['dmu_'+field, 'best_fit'] - 29.387\n",
    "         - 0.39 * cepheids.loc[cepheids.Field == field, 'VminusI']\n",
    "                 - (cepheids.loc[cepheids.Field == field, 'Period'] >= 10)* fit.loc['b', 'best_fit'] *  (-1 + log10(cepheids.loc[cepheids.Field == field, 'Period']))\n",
    "                 - (cepheids.loc[cepheids.Field == field, 'Period'] < 10) * fit.loc['b_l', 'best_fit'] *  (-1 + log10(cepheids.loc[cepheids.Field == field, 'Period']))\n",
    "                 )\n",
    "        cepheids.loc[cepheids.Field == field, 'M'] = x\n",
    "        x = list(sqrt(cepheids.loc[cepheids.Field ==field, 'sigma_tot']**2\n",
    "                      #+ fit.loc['dmu_'+field, 'error']**2\n",
    "                     + (fit.loc['b', 'error'] * (-1.0 + log10(cepheids.loc[cepheids.Field == field, 'Period']))**2)))\n",
    "        cepheids.loc[cepheids.Field == field, 'M_err'] = x\n",
    "        \n",
    "    if field == 'galaxy':\n",
    "        x = list(\n",
    "            cepheids.loc[cepheids.Field == field, 'm_H']\n",
    "            -0.39 * cepheids.loc[cepheids.Field == field, 'VminusI']\n",
    "            - (cepheids.loc[cepheids.Field == field, 'Period'] >= 10)* fit.loc['b', 'best_fit'] *  (-1 + log10(cepheids.loc[cepheids.Field == field, 'Period']))\n",
    "            - (cepheids.loc[cepheids.Field == field, 'Period'] < 10) * fit.loc['b_l', 'best_fit'] *  (-1 + log10(cepheids.loc[cepheids.Field == field, 'Period']))\n",
    "            - (5 * log10((1/cepheids.loc[cepheids.Field == field, 'parallax'])*1e-3)\n",
    "                                              +25\n",
    "                                              - cepheids.loc[cepheids.Field == field, 'LK']\n",
    "                                                                                                                              \n",
    "                )\n",
    "              )\n",
    "        cepheids.loc[cepheids.Field == field, 'M'] = x\n",
    "hist(cepheids.loc[cepheids.Field == 'galaxy', 'M'], bins = linspace(-7, -5, 20), normed = True, lw = 0, label = 'galactic', alpha = 0.5)        \n",
    "hist(cepheids.loc[cepheids.Field != 'galaxy', 'M'], bins = linspace(-7, -5, 20), normed = True, lw = 0, label = 'extra-galactic', alpha = 0.5)\n",
    "from scipy.stats import cauchy, t, norm, chisquare\n",
    "(mu, sigma) = cauchy.fit(cepheids.loc[cepheids.Field == 'galaxy', 'M'])\n",
    "x = linspace(-7, -5, 5000)\n",
    "#plot(x, cauchy.pdf(x, loc =mu, scale = sigma), color = 'b', lw = 4)\n",
    "print mu, sigma\n",
    "(mu, sigma) = cauchy.fit(cepheids.loc[cepheids.Field != 'galaxy', 'M'])\n",
    "#plot(x, cauchy.pdf(x, loc =mu, scale = sigma), color = 'g', lw = 4)\n",
    "#plot(x, norm.pdf(x, loc = fit.loc['M_ceph', 'best_fit'], scale = fit.loc['M_ceph', 'error'])*3/5, lw =4 )\n",
    "xlim(-7, -5)\n",
    "\n",
    "print mu, sigma\n",
    "#plot(linspace (-7.5, -4.5, 500),cauchy.pdf(linspace (-7.5, -4.5, 500),  loc = mu, scale = sigma), lw = 4)\n",
    "#figure()\n",
    "#hist(cepheids.loc[cepheids.M != 0, 'M_err'], bins = 300)\n",
    "        \n",
    "newcephs = cepheids[cepheids.Field != 'galaxy']\n",
    "#newcephs['M'] = M\n",
    "#newcephs['M_err'] = M_err\n",
    "        \n",
    "    \n"
   ]
  },
  {
   "cell_type": "code",
   "execution_count": 20,
   "metadata": {
    "collapsed": false
   },
   "outputs": [
    {
     "name": "stdout",
     "output_type": "stream",
     "text": [
      "m101 -0.0772353283783\n",
      "18   -0.133995\n",
      "Name: m_B, dtype: float64\n",
      "n3370 -0.0179908219581\n",
      "1    0.0847\n",
      "Name: m_B, dtype: float64\n",
      "n3447 0.0404972028614\n",
      "11    0.042119\n",
      "Name: m_B, dtype: float64\n",
      "n1448 -0.0498712591926\n",
      "10    0.132855\n",
      "Name: m_B, dtype: float64\n",
      "u9391 0.0180938178119\n",
      "15   -0.161548\n",
      "Name: m_B, dtype: float64\n",
      "n3982 0.0241816159599\n",
      "3   -0.196431\n",
      "Name: m_B, dtype: float64\n",
      "galaxy 0.103848481516\n",
      "n1365 0.0408111677\n",
      "9   -0.119635\n",
      "Name: m_B, dtype: float64\n",
      "lmc 0.0480071600877\n",
      "m31 -0.000760299004217\n",
      "n3021 0.0505898106621\n",
      "0   -0.186298\n",
      "Name: m_B, dtype: float64\n",
      "n1309 -0.0480401140042\n",
      "2   -0.070629\n",
      "Name: m_B, dtype: float64\n",
      "n4424 -0.0329414602622\n",
      "14   -0.03315\n",
      "Name: m_B, dtype: float64\n",
      "n4038 -0.057696772142\n",
      "6    0.10017\n",
      "Name: m_B, dtype: float64\n",
      "n5917 -0.0164645032119\n",
      "13   -0.001529\n",
      "Name: m_B, dtype: float64\n",
      "n5584 -0.0156983187958\n",
      "5    0.165431\n",
      "Name: m_B, dtype: float64\n",
      "n2442 -0.0354842622564\n",
      "17    0.014487\n",
      "Name: m_B, dtype: float64\n",
      "n7250 -0.107111531144\n",
      "12    0.043796\n",
      "Name: m_B, dtype: float64\n",
      "n4258 -0.0272047066513\n",
      "n1015 -0.0666723169914\n",
      "8    0.151244\n",
      "Name: m_B, dtype: float64\n",
      "n4536 0.0205279964725\n",
      "7   -0.038289\n",
      "Name: m_B, dtype: float64\n",
      "n3972 -0.0424193951027\n",
      "16    0.110547\n",
      "Name: m_B, dtype: float64\n",
      "n4639 -0.158374093065\n",
      "4    0.104182\n",
      "Name: m_B, dtype: float64\n"
     ]
    }
   ],
   "source": [
    "for field in set(cepheids.Field):\n",
    "    print field, (mean(cepheids.loc[cepheids.Field == field, 'M']) - mean(cepheids['M']))\n",
    "    if field in set(sne.Host):\n",
    "        print sne.loc[sne.Host == field, 'm_B'] - fit.loc['mu_'+field, 'best_fit'] - fit.loc['M_sne', 'best_fit']"
   ]
  },
  {
   "cell_type": "code",
   "execution_count": 21,
   "metadata": {
    "collapsed": false
   },
   "outputs": [
    {
     "name": "stdout",
     "output_type": "stream",
     "text": [
      "m101 -0.0772353283783 251\n",
      "n3370 -0.0179908219581 63\n",
      "n3447 0.0404972028614 80\n",
      "n1448 -0.0498712591926 54\n",
      "u9391 0.0180938178119 28\n",
      "n3982 0.0241816159599 16\n",
      "galaxy 0.103848481516 15\n",
      "n1365 0.0408111677 32\n",
      "lmc 0.0480071600877 775\n",
      "m31 -0.000760299004217 372\n",
      "n3021 0.0505898106621 18\n",
      "n1309 -0.0480401140042 44\n",
      "n4424 -0.0329414602622 3\n",
      "n4038 -0.057696772142 13\n",
      "n5917 -0.0164645032119 13\n",
      "n5584 -0.0156983187958 83\n",
      "n2442 -0.0354842622564 141\n",
      "n7250 -0.107111531144 22\n",
      "n4258 -0.0272047066513 139\n",
      "n1015 -0.0666723169914 14\n",
      "n4536 0.0205279964725 33\n",
      "n3972 -0.0424193951027 42\n",
      "n4639 -0.158374093065 25\n"
     ]
    }
   ],
   "source": [
    "## same field\n",
    "for field in set(cepheids.Field):\n",
    "    print field, mean(cepheids.loc[cepheids.Field == field,'M'])- mean(cepheids.M), cepheids.loc[cepheids.Field == field,'M'].size"
   ]
  },
  {
   "cell_type": "code",
   "execution_count": 22,
   "metadata": {
    "collapsed": false
   },
   "outputs": [
    {
     "name": "stdout",
     "output_type": "stream",
     "text": [
      "doing field m101 (   251 cepheids)\n",
      "doing field n3370 (    63 cepheids)\n",
      "doing field n3447 (    80 cepheids)\n",
      "doing field n1448 (    54 cepheids)\n",
      "doing field u9391 (    28 cepheids)\n",
      "doing field n3982 (    16 cepheids)\n",
      "doing field n1309 (    44 cepheids)\n",
      "doing field n1365 (    32 cepheids)\n",
      "doing field n7250 (    22 cepheids)\n",
      "doing field m31 (   372 cepheids)\n",
      "doing field n3021 (    18 cepheids)\n",
      "doing field n4424 (     3 cepheids)\n",
      "doing field n4038 (    13 cepheids)\n",
      "doing field n5917 (    13 cepheids)\n",
      "doing field n5584 (    83 cepheids)\n",
      "doing field n2442 (   141 cepheids)\n",
      "doing field lmc (   775 cepheids)\n",
      "doing field n4258 (   139 cepheids)\n",
      "doing field n1015 (    14 cepheids)\n",
      "doing field n4536 (    33 cepheids)\n",
      "doing field n3972 (    42 cepheids)\n",
      "doing field n4639 (    25 cepheids)\n"
     ]
    }
   ],
   "source": [
    "## same field\n",
    "kappa = 0\n",
    "same_field = []\n",
    "newcephs = cepheids[cepheids.Field != 'galaxy'].reset_index()\n",
    "for f1 in set(newcephs.Field):#.remove('galaxy'):\n",
    "    print 'doing field', f1, '(%6.0f cepheids)'%(newcephs[newcephs.Field == f1].shape[0])\n",
    "    f2 = f1\n",
    "    vals = []\n",
    "    for i in arange(newcephs[newcephs.Field == f1].shape[0]):\n",
    "        for j in arange(i+1,newcephs[newcephs.Field == f2].shape[0]):\n",
    "            cephsf1 = newcephs[newcephs.Field == f1].reset_index()\n",
    "            cephsf2 = newcephs[newcephs.Field == f2].reset_index()\n",
    "            #print cephsf1[cephsf1.index == 0]\n",
    "            num = (array(cephsf1.loc[cephsf1.index == i,'M']) - array(cephsf2.loc[cephsf2.index == j, 'M']))\n",
    "            den =sqrt(array(cephsf1.loc[cephsf1.index == i,'M_err'])**2 \n",
    "                      + array(cephsf2.loc[cephsf2.index ==j,'M_err'])**2\n",
    "                      - kappa * array(cephsf2.loc[cephsf2.index ==j,'M_err']) *array(cephsf1.loc[cephsf1.index == i,'M_err'])\n",
    "                     )\n",
    "            #if (i % 100) == 0: print 'i = ', i\n",
    "            vals += list(num/den)\n",
    "            #print vals\n",
    "    same_field += vals\n"
   ]
  },
  {
   "cell_type": "code",
   "execution_count": 23,
   "metadata": {
    "collapsed": false
   },
   "outputs": [],
   "source": [
    "### Different field\n",
    "# diff_field = []\n",
    "# fields = set(newcephs.Field)\n",
    "\n",
    "# for f1 in set(newcephs.Field):\n",
    "#     print 'crossing field', f1,'(%6.0f cepheids)'%newcephs[newcephs.Field == f1].shape[0]\n",
    "#     fields.remove(f1)\n",
    "#     fieldvals = []\n",
    "#     for f2 in fields:\n",
    "#         vals =[]\n",
    "#         print '... with field', f2,'(%6.0f cepheids)'%newcephs[newcephs.Field == f2].shape[0]\n",
    "#         for i in arange(newcephs[newcephs.Field == f1].shape[0]):\n",
    "#             for j in arange(newcephs[newcephs.Field == f2].shape[0]):\n",
    "#                 cephsf1 = newcephs[newcephs.Field == f1].reset_index()\n",
    "#                 cephsf2 = newcephs[newcephs.Field == f2].reset_index()\n",
    "#                 num = (array(cephsf1.loc[cephsf1.index == i,'M']) - array(cephsf2.loc[cephsf2.index == j, 'M']))\n",
    "#                 den = sqrt(array(cephsf1.loc[cephsf1.index == i,'M_err'])**2 + array(cephsf2.loc[cephsf2.index ==j,'M_err'])**2)\n",
    "\n",
    "#                 vals += list(num/den)\n",
    "#         fieldvals +=vals\n",
    "        \n",
    "#     diff_field += fieldvals\n"
   ]
  },
  {
   "cell_type": "code",
   "execution_count": 24,
   "metadata": {
    "collapsed": false
   },
   "outputs": [
    {
     "ename": "NameError",
     "evalue": "name 'diff_field' is not defined",
     "output_type": "error",
     "traceback": [
      "\u001b[0;31m---------------------------------------------------------------------------\u001b[0m",
      "\u001b[0;31mNameError\u001b[0m                                 Traceback (most recent call last)",
      "\u001b[0;32m<ipython-input-24-e3e7ed15f4f3>\u001b[0m in \u001b[0;36m<module>\u001b[0;34m()\u001b[0m\n\u001b[1;32m      2\u001b[0m \u001b[0;32mfrom\u001b[0m \u001b[0mscipy\u001b[0m\u001b[0;34m.\u001b[0m\u001b[0mstats\u001b[0m \u001b[0;32mimport\u001b[0m \u001b[0mnorm\u001b[0m\u001b[0;34m\u001b[0m\u001b[0m\n\u001b[1;32m      3\u001b[0m \u001b[0;31m#diff_field = list(diff_field) + [-x for x in diff_field]\u001b[0m\u001b[0;34m\u001b[0m\u001b[0;34m\u001b[0m\u001b[0m\n\u001b[0;32m----> 4\u001b[0;31m \u001b[0mhist\u001b[0m\u001b[0;34m(\u001b[0m\u001b[0mdiff_field\u001b[0m \u001b[0;34m+\u001b[0m \u001b[0;34m[\u001b[0m\u001b[0;34m-\u001b[0m\u001b[0mx\u001b[0m \u001b[0;32mfor\u001b[0m \u001b[0mx\u001b[0m \u001b[0;32min\u001b[0m \u001b[0mdiff_field\u001b[0m\u001b[0;34m]\u001b[0m\u001b[0;34m,\u001b[0m \u001b[0mbins\u001b[0m \u001b[0;34m=\u001b[0m \u001b[0mlinspace\u001b[0m\u001b[0;34m(\u001b[0m\u001b[0;34m-\u001b[0m\u001b[0;36m5\u001b[0m\u001b[0;34m,\u001b[0m\u001b[0;36m5\u001b[0m\u001b[0;34m,\u001b[0m\u001b[0;36m100\u001b[0m\u001b[0;34m)\u001b[0m\u001b[0;34m,\u001b[0m \u001b[0mnormed\u001b[0m \u001b[0;34m=\u001b[0m \u001b[0mTrue\u001b[0m\u001b[0;34m,\u001b[0m \u001b[0mlinewidth\u001b[0m \u001b[0;34m=\u001b[0m \u001b[0;36m0\u001b[0m\u001b[0;34m,\u001b[0m \u001b[0malpha\u001b[0m \u001b[0;34m=\u001b[0m \u001b[0;36m0.5\u001b[0m\u001b[0;34m,\u001b[0m \u001b[0mlabel\u001b[0m \u001b[0;34m=\u001b[0m \u001b[0;34m'Cross'\u001b[0m\u001b[0;34m)\u001b[0m\u001b[0;34m;\u001b[0m\u001b[0;34m\u001b[0m\u001b[0m\n\u001b[0m\u001b[1;32m      5\u001b[0m \u001b[0;34m(\u001b[0m\u001b[0mmu\u001b[0m\u001b[0;34m,\u001b[0m \u001b[0msigma\u001b[0m\u001b[0;34m)\u001b[0m \u001b[0;34m=\u001b[0m \u001b[0mnorm\u001b[0m\u001b[0;34m.\u001b[0m\u001b[0mfit\u001b[0m\u001b[0;34m(\u001b[0m\u001b[0mdiff_field\u001b[0m \u001b[0;34m+\u001b[0m \u001b[0;34m[\u001b[0m\u001b[0;34m-\u001b[0m\u001b[0mx\u001b[0m \u001b[0;32mfor\u001b[0m \u001b[0mx\u001b[0m \u001b[0;32min\u001b[0m \u001b[0mdiff_field\u001b[0m\u001b[0;34m]\u001b[0m\u001b[0;34m)\u001b[0m\u001b[0;34m\u001b[0m\u001b[0m\n\u001b[1;32m      6\u001b[0m \u001b[0;32mprint\u001b[0m \u001b[0;34m'cross'\u001b[0m\u001b[0;34m,\u001b[0m \u001b[0mmu\u001b[0m\u001b[0;34m,\u001b[0m \u001b[0msigma\u001b[0m\u001b[0;34m\u001b[0m\u001b[0m\n",
      "\u001b[0;31mNameError\u001b[0m: name 'diff_field' is not defined"
     ]
    },
    {
     "data": {
      "text/plain": [
       "<matplotlib.figure.Figure at 0x10c35c610>"
      ]
     },
     "metadata": {},
     "output_type": "display_data"
    }
   ],
   "source": [
    "fig = figure(figsize = (5,4))\n",
    "from scipy.stats import norm\n",
    "#diff_field = list(diff_field) + [-x for x in diff_field]\n",
    "hist(diff_field + [-x for x in diff_field], bins = linspace(-5,5,100), normed = True, linewidth = 0, alpha = 0.5, label = 'Cross');\n",
    "(mu, sigma) = norm.fit(diff_field + [-x for x in diff_field])\n",
    "print 'cross', mu, sigma\n",
    "xvals = linspace(-5,5, 100)\n",
    "yvals = 1.0/sqrt(2 * pi * sigma**2) * exp(-(xvals-mu)**2/2/sigma**2)\n",
    "plot(xvals, yvals, color = 'b', linewidth = 3)\n",
    "#same_field = list(same_field) + [-x for x in same_field]\n",
    "\n",
    "hist(same_field+ [-x for x in same_field], bins = linspace(-5,5,100), normed = True, linewidth = 0, color = 'g', alpha = 0.5, label = 'Auto');\n",
    "(mu, sigma) = norm.fit(same_field+ [-x for x in same_field])\n",
    "print 'auto',mu, sigma\n",
    "#yvals = 1.0/sqrt(2 * pi)* exp(-xvals**2/2)\n",
    "#plot(xvals, yvals, color = 'r', linewidth = 2)\n",
    "yvals = 1.0/sqrt(2 * pi * sigma**2) * exp(-(xvals-mu)**2/2/sigma**2)\n",
    "plot(xvals, yvals, color = 'g', linewidth = 3)\n",
    "#sigma = 1\n",
    "#yvals = 1.0/sqrt(2 * pi * sigma**2) * exp(-(xvals-mu)**2/2/sigma**2)\n",
    "#plot(xvals, yvals, color = 'b', linewidth = 3)\n",
    "\n",
    "xlabel(r'$x = (M^0_i - M^0_j)/\\sqrt{\\sigma_i^2 + \\sigma_j^2}$', fontsize = 18)\n",
    "ylabel(r'$\\mathcal{P}(x)$', fontsize = 18)\n",
    "legend()\n",
    "xlim(-3,3)\n",
    "fig.subplots_adjust(left = 0.2, bottom = 0.2, top = 0.95, right = 0.95)\n",
    "#gca().set_xscale('log')\n",
    "savefig('../../papers/local_hubble/FIGURES/correlation_hist.png')\n"
   ]
  },
  {
   "cell_type": "code",
   "execution_count": null,
   "metadata": {
    "collapsed": false
   },
   "outputs": [],
   "source": [
    "print 'done'"
   ]
  },
  {
   "cell_type": "code",
   "execution_count": null,
   "metadata": {
    "collapsed": true
   },
   "outputs": [],
   "source": []
  },
  {
   "cell_type": "code",
   "execution_count": null,
   "metadata": {
    "collapsed": false
   },
   "outputs": [],
   "source": [
    "as"
   ]
  },
  {
   "cell_type": "code",
   "execution_count": null,
   "metadata": {
    "collapsed": false
   },
   "outputs": [],
   "source": [
    "cepheids.loc[cepheids.Field == field, 'Period'] > 10"
   ]
  },
  {
   "cell_type": "code",
   "execution_count": null,
   "metadata": {
    "collapsed": false
   },
   "outputs": [],
   "source": [
    "fit"
   ]
  },
  {
   "cell_type": "code",
   "execution_count": null,
   "metadata": {
    "collapsed": false
   },
   "outputs": [],
   "source": [
    "fit.loc['a_B','best_fit']/1.005"
   ]
  },
  {
   "cell_type": "code",
   "execution_count": null,
   "metadata": {
    "collapsed": false
   },
   "outputs": [],
   "source": [
    "cepheids"
   ]
  },
  {
   "cell_type": "code",
   "execution_count": null,
   "metadata": {
    "collapsed": false
   },
   "outputs": [],
   "source": [
    "fit"
   ]
  },
  {
   "cell_type": "code",
   "execution_count": null,
   "metadata": {
    "collapsed": false
   },
   "outputs": [],
   "source": [
    "from scipy.stats import norm\n",
    "plot(linspace(-4, 4, 100), norm.pdf(linspace(-4, 4, 100), scale = 1))"
   ]
  },
  {
   "cell_type": "code",
   "execution_count": null,
   "metadata": {
    "collapsed": true
   },
   "outputs": [],
   "source": [
    "yvals, xvals = (array([  6.90723002e-05,   3.45361501e-05,   3.45361501e-05,\n",
    "          1.72680750e-04,   2.76289201e-04,   3.10825351e-04,\n",
    "          1.72680750e-04,   4.14433801e-04,   3.45361501e-04,\n",
    "          1.07062065e-03,   1.10515680e-03,   1.34690985e-03,\n",
    "          1.89948825e-03,   3.21186196e-03,   3.59175961e-03,\n",
    "          4.66238026e-03,   5.87114552e-03,   6.90723002e-03,\n",
    "          9.39383282e-03,   1.11551765e-02,   1.37453877e-02,\n",
    "          1.85113764e-02,   2.03417924e-02,   2.58330403e-02,\n",
    "          3.23603726e-02,   3.59866684e-02,   4.34119407e-02,\n",
    "          5.37382495e-02,   6.46516730e-02,   7.66011809e-02,\n",
    "          9.03120325e-02,   1.06371342e-01,   1.21463640e-01,\n",
    "          1.45846162e-01,   1.61111140e-01,   1.88981813e-01,\n",
    "          2.18579294e-01,   2.40958719e-01,   2.73906206e-01,\n",
    "          3.10618134e-01,   3.43462013e-01,   3.71988873e-01,\n",
    "          4.13674006e-01,   4.46379740e-01,   4.85163836e-01,\n",
    "          5.20390710e-01,   5.38522188e-01,   5.70122766e-01,\n",
    "          5.91293426e-01,   5.91915076e-01,   5.92847552e-01,\n",
    "          6.00480042e-01,   5.84973310e-01,   5.77893399e-01,\n",
    "          5.50229943e-01,   5.24362367e-01,   4.93279832e-01,\n",
    "          4.58950899e-01,   4.20822989e-01,   3.90811074e-01,\n",
    "          3.48884188e-01,   3.14762472e-01,   2.78085081e-01,\n",
    "          2.43790683e-01,   2.12293715e-01,   1.84699331e-01,\n",
    "          1.60454953e-01,   1.40527595e-01,   1.19046109e-01,\n",
    "          9.80826663e-02,   8.59604776e-02,   7.41145781e-02,\n",
    "          6.14052749e-02,   5.21150505e-02,   4.19614224e-02,\n",
    "          3.51232646e-02,   3.05644928e-02,   2.68000525e-02,\n",
    "          2.11361239e-02,   1.92020995e-02,   1.45742553e-02,\n",
    "          1.17077549e-02,   9.87733893e-03,   8.25413987e-03,\n",
    "          6.63094082e-03,   5.28403096e-03,   4.31701876e-03,\n",
    "          3.48815116e-03,   2.76289201e-03,   2.14124131e-03,\n",
    "          1.86495210e-03,   1.31237370e-03,   1.03608450e-03,\n",
    "          7.25259152e-04,   6.90723002e-04,   3.10825351e-04,\n",
    "          3.79897651e-04,   2.76289201e-04,   1.03608450e-04,\n",
    "          2.07216901e-04]),\n",
    " array([-3.42145998, -3.35473947, -3.28801896, -3.22129845, -3.15457794,\n",
    "        -3.08785743, -3.02113692, -2.95441641, -2.8876959 , -2.82097539,\n",
    "        -2.75425487, -2.68753436, -2.62081385, -2.55409334, -2.48737283,\n",
    "        -2.42065232, -2.35393181, -2.2872113 , -2.22049079, -2.15377028,\n",
    "        -2.08704977, -2.02032925, -1.95360874, -1.88688823, -1.82016772,\n",
    "        -1.75344721, -1.6867267 , -1.62000619, -1.55328568, -1.48656517,\n",
    "        -1.41984466, -1.35312414, -1.28640363, -1.21968312, -1.15296261,\n",
    "        -1.0862421 , -1.01952159, -0.95280108, -0.88608057, -0.81936006,\n",
    "        -0.75263955, -0.68591903, -0.61919852, -0.55247801, -0.4857575 ,\n",
    "        -0.41903699, -0.35231648, -0.28559597, -0.21887546, -0.15215495,\n",
    "        -0.08543444, -0.01871392,  0.04800659,  0.1147271 ,  0.18144761,\n",
    "         0.24816812,  0.31488863,  0.38160914,  0.44832965,  0.51505016,\n",
    "         0.58177067,  0.64849118,  0.7152117 ,  0.78193221,  0.84865272,\n",
    "         0.91537323,  0.98209374,  1.04881425,  1.11553476,  1.18225527,\n",
    "         1.24897578,  1.31569629,  1.38241681,  1.44913732,  1.51585783,\n",
    "         1.58257834,  1.64929885,  1.71601936,  1.78273987,  1.84946038,\n",
    "         1.91618089,  1.9829014 ,  2.04962192,  2.11634243,  2.18306294,\n",
    "         2.24978345,  2.31650396,  2.38322447,  2.44994498,  2.51666549,\n",
    "         2.583386  ,  2.65010651,  2.71682702,  2.78354754,  2.85026805,\n",
    "         2.91698856,  2.98370907,  3.05042958,  3.11715009,  3.1838706 ,\n",
    "         3.25059111]))"
   ]
  },
  {
   "cell_type": "code",
   "execution_count": null,
   "metadata": {
    "collapsed": false
   },
   "outputs": [],
   "source": [
    "plot((xvals[1:] + xvals[:-1])/2, yvals)\n",
    "plot(linspace(-4, 4, 100), norm.pdf(linspace(-4, 4, 100), scale = 1))"
   ]
  },
  {
   "cell_type": "code",
   "execution_count": null,
   "metadata": {
    "collapsed": false
   },
   "outputs": [],
   "source": [
    "xvals.shape"
   ]
  },
  {
   "cell_type": "code",
   "execution_count": null,
   "metadata": {
    "collapsed": false
   },
   "outputs": [],
   "source": [
    "yvals.shape"
   ]
  },
  {
   "cell_type": "code",
   "execution_count": null,
   "metadata": {
    "collapsed": false
   },
   "outputs": [],
   "source": [
    "cepheids[(cepheids.Field == 'lmc') | (cepheids.Field == 'n4258')]\n",
    "test = pd.DataFrame(diag(array(cinv)[:,0]), index = cepheids.Field, columns = cepheids.Field)"
   ]
  },
  {
   "cell_type": "code",
   "execution_count": null,
   "metadata": {
    "collapsed": false
   },
   "outputs": [],
   "source": []
  },
  {
   "cell_type": "code",
   "execution_count": null,
   "metadata": {
    "collapsed": false
   },
   "outputs": [],
   "source": [
    "for field in set(cepheids.Field):\n",
    "    print field, cepheids[cepheids.Field == field].shape"
   ]
  },
  {
   "cell_type": "code",
   "execution_count": null,
   "metadata": {
    "collapsed": false
   },
   "outputs": [],
   "source": [
    "cepheids.loc[cepheids.Field == 'galaxy', 'VminusI']"
   ]
  },
  {
   "cell_type": "code",
   "execution_count": null,
   "metadata": {
    "collapsed": true
   },
   "outputs": [],
   "source": []
  }
 ],
 "metadata": {
  "kernelspec": {
   "display_name": "Python 2",
   "language": "python",
   "name": "python2"
  },
  "language_info": {
   "codemirror_mode": {
    "name": "ipython",
    "version": 2
   },
   "file_extension": ".py",
   "mimetype": "text/x-python",
   "name": "python",
   "nbconvert_exporter": "python",
   "pygments_lexer": "ipython2",
   "version": "2.7.11"
  }
 },
 "nbformat": 4,
 "nbformat_minor": 0
}
